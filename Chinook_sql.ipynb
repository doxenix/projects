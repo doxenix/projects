{
 "cells": [
  {
   "cell_type": "markdown",
   "metadata": {},
   "source": [
    "# Chinook Records Store Database - Answering Business Questions using SQL\n",
    "\n",
    "In this project we will be working with a modified version of a database called Chinook. The Chinook database contains information about a fictional digital music shop - a smaller version of iTunes.\n",
    "\n",
    "The database contains information about the artists, songs, and albums from the music shop, as well as information on the shop's employees, customers, and their purchases. This information is contained in eleven tables. Here is a schema diagram for the Chinook database:\n",
    "\n",
    "![](/images/chinook.png)"
   ]
  },
  {
   "cell_type": "code",
   "execution_count": 1,
   "metadata": {
    "collapsed": false
   },
   "outputs": [
    {
     "data": {
      "text/plain": [
       "'Connected: None@chinook.db'"
      ]
     },
     "execution_count": 1,
     "metadata": {},
     "output_type": "execute_result"
    }
   ],
   "source": [
    "%%capture\n",
    "%load_ext sql\n",
    "%sql sqlite:///chinook.db\n",
    "# Connect to database    "
   ]
  },
  {
   "cell_type": "code",
   "execution_count": 2,
   "metadata": {
    "collapsed": true
   },
   "outputs": [],
   "source": [
    "# Import python libraries\n",
    "import sqlite3 \n",
    "import numpy as np\n",
    "import pandas as pd\n",
    "import seaborn as sns\n",
    "import matplotlib.pyplot as plt\n",
    "import matplotlib.style as style\n",
    "style.use('fivethirtyeight') #set fivethirtyeight on plots\n",
    "%matplotlib inline"
   ]
  },
  {
   "cell_type": "code",
   "execution_count": 3,
   "metadata": {
    "collapsed": false,
    "scrolled": true
   },
   "outputs": [
    {
     "name": "stdout",
     "output_type": "stream",
     "text": [
      "Done.\n"
     ]
    },
    {
     "data": {
      "text/html": [
       "<table>\n",
       "    <tr>\n",
       "        <th>name</th>\n",
       "        <th>type</th>\n",
       "    </tr>\n",
       "    <tr>\n",
       "        <td>album</td>\n",
       "        <td>table</td>\n",
       "    </tr>\n",
       "    <tr>\n",
       "        <td>artist</td>\n",
       "        <td>table</td>\n",
       "    </tr>\n",
       "    <tr>\n",
       "        <td>customer</td>\n",
       "        <td>table</td>\n",
       "    </tr>\n",
       "    <tr>\n",
       "        <td>employee</td>\n",
       "        <td>table</td>\n",
       "    </tr>\n",
       "    <tr>\n",
       "        <td>genre</td>\n",
       "        <td>table</td>\n",
       "    </tr>\n",
       "    <tr>\n",
       "        <td>invoice</td>\n",
       "        <td>table</td>\n",
       "    </tr>\n",
       "    <tr>\n",
       "        <td>invoice_line</td>\n",
       "        <td>table</td>\n",
       "    </tr>\n",
       "    <tr>\n",
       "        <td>media_type</td>\n",
       "        <td>table</td>\n",
       "    </tr>\n",
       "    <tr>\n",
       "        <td>playlist</td>\n",
       "        <td>table</td>\n",
       "    </tr>\n",
       "    <tr>\n",
       "        <td>playlist_track</td>\n",
       "        <td>table</td>\n",
       "    </tr>\n",
       "    <tr>\n",
       "        <td>track</td>\n",
       "        <td>table</td>\n",
       "    </tr>\n",
       "</table>"
      ],
      "text/plain": [
       "[('album', 'table'),\n",
       " ('artist', 'table'),\n",
       " ('customer', 'table'),\n",
       " ('employee', 'table'),\n",
       " ('genre', 'table'),\n",
       " ('invoice', 'table'),\n",
       " ('invoice_line', 'table'),\n",
       " ('media_type', 'table'),\n",
       " ('playlist', 'table'),\n",
       " ('playlist_track', 'table'),\n",
       " ('track', 'table')]"
      ]
     },
     "execution_count": 3,
     "metadata": {},
     "output_type": "execute_result"
    }
   ],
   "source": [
    "%%sql\n",
    "--#First look at whole databse\n",
    "SELECT\n",
    "    name,\n",
    "    type\n",
    "FROM sqlite_master\n",
    "WHERE type IN (\"table\",\"view\");"
   ]
  },
  {
   "cell_type": "markdown",
   "metadata": {},
   "source": [
    "## Selecting Albums to Purchase\n",
    "\n",
    "First, we'll investigate total sales for each music category. Our aim is to find the most popular categories."
   ]
  },
  {
   "cell_type": "code",
   "execution_count": 4,
   "metadata": {
    "collapsed": false,
    "scrolled": true
   },
   "outputs": [
    {
     "name": "stdout",
     "output_type": "stream",
     "text": [
      "Done.\n"
     ]
    },
    {
     "data": {
      "text/html": [
       "<table>\n",
       "    <tr>\n",
       "        <th>genre</th>\n",
       "        <th>solds</th>\n",
       "        <th>percentage_sold</th>\n",
       "    </tr>\n",
       "    <tr>\n",
       "        <td>Rock</td>\n",
       "        <td>561</td>\n",
       "        <td>0.53</td>\n",
       "    </tr>\n",
       "    <tr>\n",
       "        <td>Alternative &amp; Punk</td>\n",
       "        <td>130</td>\n",
       "        <td>0.12</td>\n",
       "    </tr>\n",
       "    <tr>\n",
       "        <td>Metal</td>\n",
       "        <td>124</td>\n",
       "        <td>0.12</td>\n",
       "    </tr>\n",
       "    <tr>\n",
       "        <td>R&amp;B/Soul</td>\n",
       "        <td>53</td>\n",
       "        <td>0.05</td>\n",
       "    </tr>\n",
       "    <tr>\n",
       "        <td>Blues</td>\n",
       "        <td>36</td>\n",
       "        <td>0.03</td>\n",
       "    </tr>\n",
       "    <tr>\n",
       "        <td>Alternative</td>\n",
       "        <td>35</td>\n",
       "        <td>0.03</td>\n",
       "    </tr>\n",
       "    <tr>\n",
       "        <td>Latin</td>\n",
       "        <td>22</td>\n",
       "        <td>0.02</td>\n",
       "    </tr>\n",
       "    <tr>\n",
       "        <td>Pop</td>\n",
       "        <td>22</td>\n",
       "        <td>0.02</td>\n",
       "    </tr>\n",
       "    <tr>\n",
       "        <td>Hip Hop/Rap</td>\n",
       "        <td>20</td>\n",
       "        <td>0.02</td>\n",
       "    </tr>\n",
       "    <tr>\n",
       "        <td>Jazz</td>\n",
       "        <td>14</td>\n",
       "        <td>0.01</td>\n",
       "    </tr>\n",
       "    <tr>\n",
       "        <td>Easy Listening</td>\n",
       "        <td>13</td>\n",
       "        <td>0.01</td>\n",
       "    </tr>\n",
       "    <tr>\n",
       "        <td>Reggae</td>\n",
       "        <td>6</td>\n",
       "        <td>0.01</td>\n",
       "    </tr>\n",
       "    <tr>\n",
       "        <td>Electronica/Dance</td>\n",
       "        <td>5</td>\n",
       "        <td>0.0</td>\n",
       "    </tr>\n",
       "    <tr>\n",
       "        <td>Classical</td>\n",
       "        <td>4</td>\n",
       "        <td>0.0</td>\n",
       "    </tr>\n",
       "    <tr>\n",
       "        <td>Heavy Metal</td>\n",
       "        <td>3</td>\n",
       "        <td>0.0</td>\n",
       "    </tr>\n",
       "    <tr>\n",
       "        <td>Soundtrack</td>\n",
       "        <td>2</td>\n",
       "        <td>0.0</td>\n",
       "    </tr>\n",
       "    <tr>\n",
       "        <td>TV Shows</td>\n",
       "        <td>1</td>\n",
       "        <td>0.0</td>\n",
       "    </tr>\n",
       "</table>"
      ],
      "text/plain": [
       "[('Rock', 561, 0.53),\n",
       " ('Alternative & Punk', 130, 0.12),\n",
       " ('Metal', 124, 0.12),\n",
       " ('R&B/Soul', 53, 0.05),\n",
       " ('Blues', 36, 0.03),\n",
       " ('Alternative', 35, 0.03),\n",
       " ('Latin', 22, 0.02),\n",
       " ('Pop', 22, 0.02),\n",
       " ('Hip Hop/Rap', 20, 0.02),\n",
       " ('Jazz', 14, 0.01),\n",
       " ('Easy Listening', 13, 0.01),\n",
       " ('Reggae', 6, 0.01),\n",
       " ('Electronica/Dance', 5, 0.0),\n",
       " ('Classical', 4, 0.0),\n",
       " ('Heavy Metal', 3, 0.0),\n",
       " ('Soundtrack', 2, 0.0),\n",
       " ('TV Shows', 1, 0.0)]"
      ]
     },
     "execution_count": 4,
     "metadata": {},
     "output_type": "execute_result"
    }
   ],
   "source": [
    "%%sql\n",
    "WITH tracks_solds AS\n",
    "     (\n",
    "     SELECT\n",
    "          t.track_id,\n",
    "           t.genre_id,\n",
    "           il.invoice_id,\n",
    "           i.customer_id,\n",
    "           c.country,\n",
    "           SUM(il.quantity) solds\n",
    "     FROM track t\n",
    "     INNER JOIN invoice_line il ON il.track_id = t.track_id\n",
    "     INNER JOIN invoice i ON i.invoice_id = il.invoice_id\n",
    "     INNER JOIN customer c ON c.customer_id = i.customer_id\n",
    "     WHERE c.country = 'USA'\n",
    "    GROUP BY 2\n",
    "     ),\n",
    "    genres AS\n",
    "    (\n",
    "    SELECT \n",
    "         g.genre_id,\n",
    "         g.name,\n",
    "         ts.solds\n",
    "    FROM genre g\n",
    "    INNER JOIN tracks_solds ts ON ts.genre_id = g.genre_id    \n",
    "    )\n",
    "SELECT\n",
    "    genres.name genre,\n",
    "    genres.solds,\n",
    "    ROUND(CAST(genres.solds AS FLOAT) / (SELECT\n",
    "     SUM(genres.solds)\n",
    "     FROM genres), 2) AS percentage_sold     \n",
    "FROM genres\n",
    "ORDER BY 2 DESC;\n",
    "\n",
    "    "
   ]
  },
  {
   "cell_type": "code",
   "execution_count": 5,
   "metadata": {
    "collapsed": false,
    "scrolled": true
   },
   "outputs": [],
   "source": [
    "query_cat_sales = \"\"\"WITH tracks_solds AS\n",
    "     (\n",
    "     SELECT\n",
    "          t.track_id,\n",
    "           t.genre_id,\n",
    "           il.invoice_id,\n",
    "           i.customer_id,\n",
    "           c.country,\n",
    "           SUM(il.quantity) solds\n",
    "     FROM track t\n",
    "     INNER JOIN invoice_line il ON il.track_id = t.track_id\n",
    "     INNER JOIN invoice i ON i.invoice_id = il.invoice_id\n",
    "     INNER JOIN customer c ON c.customer_id = i.customer_id\n",
    "     WHERE c.country = 'USA'\n",
    "    GROUP BY 2\n",
    "     ),\n",
    "    genres AS\n",
    "    (\n",
    "    SELECT \n",
    "         g.genre_id,\n",
    "         g.name,\n",
    "         ts.solds\n",
    "    FROM genre g\n",
    "    INNER JOIN tracks_solds ts ON ts.genre_id = g.genre_id    \n",
    "    )\n",
    "SELECT\n",
    "    genres.name genre,\n",
    "    genres.solds,\n",
    "    ROUND(CAST(genres.solds AS FLOAT) / (SELECT\n",
    "     SUM(genres.solds)\n",
    "     FROM genres), 2) AS percentage_sold     \n",
    "FROM genres\n",
    "ORDER BY 2 DESC;\"\"\"\n",
    "\n",
    "# Connect to database\n",
    "conn = sqlite3.connect('chinook.db')\n",
    "\n",
    "# Read into dataframe\n",
    "cat_sales = pd.read_sql_query(query_cat_sales, conn)\n",
    "\n",
    "\n",
    "\n",
    "# Label genres with  0.01  and less tracks sold to 'All Others' for pie chart\n",
    "cat_sales['genre'] = cat_sales['genre'].mask(cat_sales['percentage_sold'] <= 0.01, 'Others')\n",
    "\n",
    "cat_sales = cat_sales.groupby('genre').sum()\n",
    "cat_sales = cat_sales.sort_values(by='solds', ascending=False)\n",
    "cat_sales = cat_sales['solds']\n"
   ]
  },
  {
   "cell_type": "code",
   "execution_count": 6,
   "metadata": {
    "collapsed": false,
    "scrolled": true
   },
   "outputs": [],
   "source": [
    "#move Others to the end of Series cat_sales\n",
    "cat_sales = cat_sales.drop('Others')\n",
    "temp = pd.Series(48)\n",
    "temp = temp.rename({0:'Others'})\n",
    "cat_sales = cat_sales.append(temp)"
   ]
  },
  {
   "cell_type": "code",
   "execution_count": 7,
   "metadata": {
    "collapsed": false
   },
   "outputs": [
    {
     "data": {
      "image/png": "[encoded data removed]",
      "text/plain": [
       "<matplotlib.figure.Figure at 0x7f7f7278afd0>"
      ]
     },
     "metadata": {},
     "output_type": "display_data"
    }
   ],
   "source": [
    "cat_sales.plot.pie(figsize= (10,10))\n",
    "plt.ylabel('')\n",
    "plt.title('Total sales per each music category in USA')\n",
    "plt.show()"
   ]
  },
  {
   "cell_type": "markdown",
   "metadata": {
    "collapsed": true
   },
   "source": [
    "\n",
    "Based on the sales of tracks across different genres in the USA, we should purchase the new albums by the following artists:\n",
    "\n",
    "* Red Tone (Punk)\n",
    "* Slim Jim Bites (Blues)\n",
    "* Meteor and the Girls (Pop)\n",
    "\n",
    "It's worth keeping in mind that combined, these three genres only make up only 17% of total sales, so we should be on the lookout for artists and albums from the 'rock' genre, which accounts for 53% of sales."
   ]
  },
  {
   "cell_type": "markdown",
   "metadata": {},
   "source": [
    "## Analyzing Employee Sales Performance\n",
    "\n",
    "Our database contains `employee` table. Let's check this table to find employee who made the best sales."
   ]
  },
  {
   "cell_type": "code",
   "execution_count": 8,
   "metadata": {
    "collapsed": false,
    "scrolled": false
   },
   "outputs": [
    {
     "name": "stdout",
     "output_type": "stream",
     "text": [
      "Done.\n"
     ]
    },
    {
     "data": {
      "text/html": [
       "<table>\n",
       "    <tr>\n",
       "        <th>name</th>\n",
       "        <th>title</th>\n",
       "        <th>hire_date</th>\n",
       "        <th>total_sale</th>\n",
       "    </tr>\n",
       "    <tr>\n",
       "        <td>Jane Peacock</td>\n",
       "        <td>Sales Support Agent</td>\n",
       "        <td>2017-04-01 00:00:00</td>\n",
       "        <td>1731.5100000000039</td>\n",
       "    </tr>\n",
       "    <tr>\n",
       "        <td>Margaret Park</td>\n",
       "        <td>Sales Support Agent</td>\n",
       "        <td>2017-05-03 00:00:00</td>\n",
       "        <td>1584.0000000000034</td>\n",
       "    </tr>\n",
       "    <tr>\n",
       "        <td>Steve Johnson</td>\n",
       "        <td>Sales Support Agent</td>\n",
       "        <td>2017-10-17 00:00:00</td>\n",
       "        <td>1393.920000000002</td>\n",
       "    </tr>\n",
       "</table>"
      ],
      "text/plain": [
       "[('Jane Peacock', 'Sales Support Agent', '2017-04-01 00:00:00', 1731.5100000000039),\n",
       " ('Margaret Park', 'Sales Support Agent', '2017-05-03 00:00:00', 1584.0000000000034),\n",
       " ('Steve Johnson', 'Sales Support Agent', '2017-10-17 00:00:00', 1393.920000000002)]"
      ]
     },
     "execution_count": 8,
     "metadata": {},
     "output_type": "execute_result"
    }
   ],
   "source": [
    "%%sql\n",
    "SELECT e.first_name || ' ' || e.last_name AS name,\n",
    "      e.title,\n",
    "      e.hire_date,\n",
    "      SUM(i.total) AS total_sale\n",
    " FROM customer c\n",
    "INNER JOIN invoice i ON i.customer_id = c.customer_id\n",
    "INNER JOIN employee e ON e.employee_id = c.support_rep_id\n",
    "GROUP BY e.employee_id;"
   ]
  },
  {
   "cell_type": "code",
   "execution_count": 9,
   "metadata": {
    "collapsed": false
   },
   "outputs": [],
   "source": [
    "query_employee_sales = \"\"\"SELECT e.first_name || ' ' || e.last_name AS name,\n",
    "      e.title,\n",
    "      e.hire_date,\n",
    "      SUM(i.total) AS total_sale\n",
    " FROM customer c\n",
    "INNER JOIN invoice i ON i.customer_id = c.customer_id\n",
    "INNER JOIN employee e ON e.employee_id = c.support_rep_id\n",
    "GROUP BY e.employee_id;\"\"\"\n",
    "\n",
    "\n",
    "# Connect to database\n",
    "conn = sqlite3.connect('chinook.db')\n",
    "\n",
    "# Read into dataframe\n",
    "employee_sales = pd.read_sql_query(query_employee_sales, conn)\n",
    "\n",
    "#set index on name\n",
    "employee_sales = employee_sales.set_index('name')\n",
    "employee_sales = employee_sales['total_sale']"
   ]
  },
  {
   "cell_type": "code",
   "execution_count": 10,
   "metadata": {
    "collapsed": false,
    "scrolled": true
   },
   "outputs": [
    {
     "data": {
      "image/png": "[encoded data removed]",
      "text/plain": [
       "<matplotlib.figure.Figure at 0x7f7f724c3668>"
      ]
     },
     "metadata": {},
     "output_type": "display_data"
    }
   ],
   "source": [
    "employee_sales.plot.barh()\n",
    "plt.ylabel('')\n",
    "plt.title('Total sales per employee')\n",
    "plt.show()"
   ]
  },
  {
   "cell_type": "markdown",
   "metadata": {},
   "source": [
    "We see that Jane Peacook made the best result in total sale (around 1700). However the differences are not huge. Steve Johnson who made the worst result (1400), the difference is only 300. Morover, if we look above on table and check `hire-date` column we can see that there is a pattern with experience of each employee and the sale result. These 2 variable are positive correlated, the bigger experience, the better sale result is."
   ]
  },
  {
   "cell_type": "markdown",
   "metadata": {},
   "source": [
    "## Analyzing Sales by Country\n",
    "\n",
    "Our next task is to analyze sales data for customers from each different country.\n",
    "\n",
    "Because there are a number of countries with only one customer, we'll group these customers as \"Other\" in analysis. We will do it during typing the query now."
   ]
  },
  {
   "cell_type": "code",
   "execution_count": 11,
   "metadata": {
    "collapsed": false,
    "scrolled": true
   },
   "outputs": [
    {
     "name": "stdout",
     "output_type": "stream",
     "text": [
      "Done.\n"
     ]
    },
    {
     "data": {
      "text/html": [
       "<table>\n",
       "    <tr>\n",
       "        <th>country</th>\n",
       "        <th>sum_sales</th>\n",
       "        <th>customers</th>\n",
       "        <th>avg_sales</th>\n",
       "    </tr>\n",
       "    <tr>\n",
       "        <td>USA</td>\n",
       "        <td>1040.4899999999998</td>\n",
       "        <td>13</td>\n",
       "        <td>80.0376923076923</td>\n",
       "    </tr>\n",
       "    <tr>\n",
       "        <td>Canada</td>\n",
       "        <td>535.5900000000001</td>\n",
       "        <td>8</td>\n",
       "        <td>66.94875000000002</td>\n",
       "    </tr>\n",
       "    <tr>\n",
       "        <td>Brazil</td>\n",
       "        <td>427.68000000000006</td>\n",
       "        <td>5</td>\n",
       "        <td>85.53600000000002</td>\n",
       "    </tr>\n",
       "    <tr>\n",
       "        <td>France</td>\n",
       "        <td>389.0699999999999</td>\n",
       "        <td>5</td>\n",
       "        <td>77.81399999999998</td>\n",
       "    </tr>\n",
       "    <tr>\n",
       "        <td>Germany</td>\n",
       "        <td>334.62</td>\n",
       "        <td>4</td>\n",
       "        <td>83.655</td>\n",
       "    </tr>\n",
       "    <tr>\n",
       "        <td>United Kingdom</td>\n",
       "        <td>245.52</td>\n",
       "        <td>3</td>\n",
       "        <td>81.84</td>\n",
       "    </tr>\n",
       "    <tr>\n",
       "        <td>Czech Republic</td>\n",
       "        <td>273.24000000000007</td>\n",
       "        <td>2</td>\n",
       "        <td>136.62000000000003</td>\n",
       "    </tr>\n",
       "    <tr>\n",
       "        <td>India</td>\n",
       "        <td>183.14999999999998</td>\n",
       "        <td>2</td>\n",
       "        <td>91.57499999999999</td>\n",
       "    </tr>\n",
       "    <tr>\n",
       "        <td>Portugal</td>\n",
       "        <td>185.13000000000002</td>\n",
       "        <td>2</td>\n",
       "        <td>92.56500000000001</td>\n",
       "    </tr>\n",
       "    <tr>\n",
       "        <td>Other</td>\n",
       "        <td>1094.9399999999998</td>\n",
       "        <td>15</td>\n",
       "        <td>72.996</td>\n",
       "    </tr>\n",
       "</table>"
      ],
      "text/plain": [
       "[('USA', 1040.4899999999998, 13, 80.0376923076923),\n",
       " ('Canada', 535.5900000000001, 8, 66.94875000000002),\n",
       " ('Brazil', 427.68000000000006, 5, 85.53600000000002),\n",
       " ('France', 389.0699999999999, 5, 77.81399999999998),\n",
       " ('Germany', 334.62, 4, 83.655),\n",
       " ('United Kingdom', 245.52, 3, 81.84),\n",
       " ('Czech Republic', 273.24000000000007, 2, 136.62000000000003),\n",
       " ('India', 183.14999999999998, 2, 91.57499999999999),\n",
       " ('Portugal', 185.13000000000002, 2, 92.56500000000001),\n",
       " ('Other', 1094.9399999999998, 15, 72.996)]"
      ]
     },
     "execution_count": 11,
     "metadata": {},
     "output_type": "execute_result"
    }
   ],
   "source": [
    "%%sql\n",
    "WITH country_sales AS\n",
    "     (SELECT country,\n",
    "             SUM(i.total) sum_sales,\n",
    "             COUNT(DISTINCT (c.customer_id)) customers,\n",
    "             SUM(i.total) / COUNT(DISTINCT (c.customer_id)) avg_sales\n",
    "      FROM customer c\n",
    "      INNER JOIN invoice i ON i.customer_id = c.customer_id\n",
    "      GROUP BY 1\n",
    "      ),\n",
    "    country_one AS\n",
    "    (SELECT country,\n",
    "            sum_sales,\n",
    "            customers,\n",
    "            avg_sales\n",
    "     FROM country_sales\n",
    "     WHERE customers = 1\n",
    "    ),\n",
    "    country_one_all AS\n",
    "    (SELECT 'Other',\n",
    "       SUM(sum_sales) sum_sales,\n",
    "       SUM(customers),\n",
    "       SUM(sum_sales) / SUM(customers)\n",
    "    FROM country_one),\n",
    "    country_other_than_one AS\n",
    "    (SELECT *\n",
    "     FROM country_sales\n",
    "     WHERE customers <> 1),\n",
    "    combined AS\n",
    "    (SELECT * FROM country_other_than_one\n",
    "     UNION\n",
    "     SELECT * FROM country_one_all)\n",
    "   \n",
    "    \n",
    "SELECT *\n",
    "FROM combined\n",
    "ORDER BY (CASE\n",
    "             WHEN customers = 15 THEN 1\n",
    "             ELSE 0\n",
    "           END), customers DESC;  \n",
    "          \n"
   ]
  },
  {
   "cell_type": "code",
   "execution_count": 12,
   "metadata": {
    "collapsed": false,
    "scrolled": true
   },
   "outputs": [
    {
     "data": {
      "text/html": [
       "<div>\n",
       "<style scoped>\n",
       "    .dataframe tbody tr th:only-of-type {\n",
       "        vertical-align: middle;\n",
       "    }\n",
       "\n",
       "    .dataframe tbody tr th {\n",
       "        vertical-align: top;\n",
       "    }\n",
       "\n",
       "    .dataframe thead th {\n",
       "        text-align: right;\n",
       "    }\n",
       "</style>\n",
       "<table border=\"1\" class=\"dataframe\">\n",
       "  <thead>\n",
       "    <tr style=\"text-align: right;\">\n",
       "      <th></th>\n",
       "      <th>sum_sales</th>\n",
       "      <th>customers</th>\n",
       "      <th>avg_sales</th>\n",
       "    </tr>\n",
       "    <tr>\n",
       "      <th>country</th>\n",
       "      <th></th>\n",
       "      <th></th>\n",
       "      <th></th>\n",
       "    </tr>\n",
       "  </thead>\n",
       "  <tbody>\n",
       "    <tr>\n",
       "      <th>USA</th>\n",
       "      <td>1040.49</td>\n",
       "      <td>13</td>\n",
       "      <td>80.037692</td>\n",
       "    </tr>\n",
       "    <tr>\n",
       "      <th>Canada</th>\n",
       "      <td>535.59</td>\n",
       "      <td>8</td>\n",
       "      <td>66.948750</td>\n",
       "    </tr>\n",
       "    <tr>\n",
       "      <th>Brazil</th>\n",
       "      <td>427.68</td>\n",
       "      <td>5</td>\n",
       "      <td>85.536000</td>\n",
       "    </tr>\n",
       "    <tr>\n",
       "      <th>France</th>\n",
       "      <td>389.07</td>\n",
       "      <td>5</td>\n",
       "      <td>77.814000</td>\n",
       "    </tr>\n",
       "    <tr>\n",
       "      <th>Germany</th>\n",
       "      <td>334.62</td>\n",
       "      <td>4</td>\n",
       "      <td>83.655000</td>\n",
       "    </tr>\n",
       "    <tr>\n",
       "      <th>United Kingdom</th>\n",
       "      <td>245.52</td>\n",
       "      <td>3</td>\n",
       "      <td>81.840000</td>\n",
       "    </tr>\n",
       "    <tr>\n",
       "      <th>Czech Republic</th>\n",
       "      <td>273.24</td>\n",
       "      <td>2</td>\n",
       "      <td>136.620000</td>\n",
       "    </tr>\n",
       "    <tr>\n",
       "      <th>India</th>\n",
       "      <td>183.15</td>\n",
       "      <td>2</td>\n",
       "      <td>91.575000</td>\n",
       "    </tr>\n",
       "    <tr>\n",
       "      <th>Portugal</th>\n",
       "      <td>185.13</td>\n",
       "      <td>2</td>\n",
       "      <td>92.565000</td>\n",
       "    </tr>\n",
       "    <tr>\n",
       "      <th>Other</th>\n",
       "      <td>1094.94</td>\n",
       "      <td>15</td>\n",
       "      <td>72.996000</td>\n",
       "    </tr>\n",
       "  </tbody>\n",
       "</table>\n",
       "</div>"
      ],
      "text/plain": [
       "                sum_sales  customers   avg_sales\n",
       "country                                         \n",
       "USA               1040.49         13   80.037692\n",
       "Canada             535.59          8   66.948750\n",
       "Brazil             427.68          5   85.536000\n",
       "France             389.07          5   77.814000\n",
       "Germany            334.62          4   83.655000\n",
       "United Kingdom     245.52          3   81.840000\n",
       "Czech Republic     273.24          2  136.620000\n",
       "India              183.15          2   91.575000\n",
       "Portugal           185.13          2   92.565000\n",
       "Other             1094.94         15   72.996000"
      ]
     },
     "execution_count": 12,
     "metadata": {},
     "output_type": "execute_result"
    }
   ],
   "source": [
    "query_country_sales = \"\"\"\n",
    "WITH country_sales AS\n",
    "     (SELECT country,\n",
    "             SUM(i.total) sum_sales,\n",
    "             COUNT(DISTINCT (c.customer_id)) customers,\n",
    "             SUM(i.total) / COUNT(DISTINCT (c.customer_id)) avg_sales\n",
    "      FROM customer c\n",
    "      INNER JOIN invoice i ON i.customer_id = c.customer_id\n",
    "      GROUP BY 1\n",
    "      ),\n",
    "    country_one AS\n",
    "    (SELECT country,\n",
    "            sum_sales,\n",
    "            customers,\n",
    "            avg_sales\n",
    "     FROM country_sales\n",
    "     WHERE customers = 1\n",
    "    ),\n",
    "    country_one_all AS\n",
    "    (SELECT 'Other',\n",
    "       SUM(sum_sales) sum_sales,\n",
    "       SUM(customers),\n",
    "       SUM(sum_sales) / SUM(customers)\n",
    "    FROM country_one),\n",
    "    country_other_than_one AS\n",
    "    (SELECT *\n",
    "     FROM country_sales\n",
    "     WHERE customers <> 1),\n",
    "    combined AS\n",
    "    (SELECT * FROM country_other_than_one\n",
    "     UNION\n",
    "     SELECT * FROM country_one_all)\n",
    "   \n",
    "    \n",
    "SELECT *\n",
    "FROM combined\n",
    "ORDER BY (CASE\n",
    "             WHEN customers = 15 THEN 1\n",
    "             ELSE 0\n",
    "           END), customers DESC;\"\"\" \n",
    "          \n",
    "\n",
    "# Connect to database\n",
    "conn = sqlite3.connect('chinook.db')\n",
    "\n",
    "# Read into dataframe\n",
    "country_sales = pd.read_sql_query(query_country_sales, conn)\n",
    "country_sales = country_sales.set_index('country')\n",
    "country_sales"
   ]
  },
  {
   "cell_type": "code",
   "execution_count": 13,
   "metadata": {
    "collapsed": false,
    "scrolled": true
   },
   "outputs": [
    {
     "data": {
      "image/png": "[encoded data removed]",
      "text/plain": [
       "<matplotlib.figure.Figure at 0x7f7f6ec0f080>"
      ]
     },
     "metadata": {},
     "output_type": "display_data"
    }
   ],
   "source": [
    "plt.figure(figsize=(15,20))\n",
    "plt.subplot(3,1,1)\n",
    "country_sales['sum_sales'].plot.bar(rot=0)\n",
    "plt.xlabel('')\n",
    "plt.title('Total sales per country')\n",
    "\n",
    "plt.subplot(3,1,2)\n",
    "country_sales['customers'].plot.bar(rot=0)\n",
    "plt.xlabel('')\n",
    "plt.title('Number of customers from each country')\n",
    "\n",
    "plt.subplot(3,1,3)\n",
    "country_sales['avg_sales'].plot.bar(rot=0)\n",
    "plt.xlabel('')\n",
    "plt.title('Average sale per country')\n",
    "\n",
    "plt.show()"
   ]
  },
  {
   "cell_type": "markdown",
   "metadata": {},
   "source": [
    "Looking at plots above we see that:\n",
    "\n",
    "* **USA and Others country have the highest total sales**\n",
    "\n",
    "However we have to remember that `Others` is some countries which there is only 1 customer, so the result - sum of whole countires could be insignificant.\n",
    "\n",
    "* **The most customers come frome USA and other countires**\n",
    "\n",
    "It seems obvious, because many these countires have the biggest total sales. \n",
    "\n",
    "* ** Czech Republic has the highest purchase average**\n",
    "\n",
    "Purchase average in Czech Repubilc is almost 140. However, we can also see there are only 2 cusotmers form that country."
   ]
  },
  {
   "cell_type": "markdown",
   "metadata": {},
   "source": [
    "## Conclusions\n",
    "\n",
    "So far, we analyzed the Chinook Records Store Database using SQL. We also used Pandas to convert our queries from SQL to Dataframes. It allowed us made some plots and our analyzing was easier.\n",
    "\n",
    "Below are some conclusions which we observed:\n",
    "\n",
    "* Rock, Punk and Metal are the most popular music category in the USA,\n",
    "* More than 50% sales in USA are rock tracks,\n",
    "* Jane Peacock\twho is Sales Support Agent made the best sale result (around 1700),\n",
    "* USA and Others country have the highest total sales,\n",
    "* The most customers come frome USA and other countires,\n",
    "* Czech Republic has the highest purchase average."
   ]
  }
 ],
 "metadata": {
  "kernelspec": {
   "display_name": "Python 3",
   "language": "python",
   "name": "python3"
  },
  "language_info": {
   "codemirror_mode": {
    "name": "ipython",
    "version": 3
   },
   "file_extension": ".py",
   "mimetype": "text/x-python",
   "name": "python",
   "nbconvert_exporter": "python",
   "pygments_lexer": "ipython3",
   "version": "3.4.3"
  }
 },
 "nbformat": 4,
 "nbformat_minor": 2
}
