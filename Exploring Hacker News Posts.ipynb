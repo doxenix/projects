{
 "cells": [
  {
   "cell_type": "markdown",
   "metadata": {},
   "source": [
    "# Exploring Hacker News Posts\n",
    "\n",
    "In this project we will explor data from [Hacker News Posts](https://news.ycombinator.com/). Hacker News is extremely popular in technology and startup circles, and posts that make it to the top of Hacker News' listings can get hundreds of thousands of visitors as a result.\n",
    "\n",
    "We will take a look at two types of posts whoes titles begin with either *Ask HN* or *Show HN*. Users submit *Ask HN* posts to ask the Hacker News community a specific question, such as \"*Ask HN: How to improve my personal website?*\". Likewise, users submit Show HN posts to show the Hacker News community a project, product, or just generally something interesting.\n",
    "\n",
    "## Goals\n",
    "We'll compare these two types of posts to determine the following:\n",
    "\n",
    " * Do Ask HN or Show HN receive more comments and points on average?\n",
    " * Do posts created at a certain time receive more comments and points on average? \n",
    " \n",
    "## Data set\n",
    "[Link](https://www.kaggle.com/keplaxo/hacker-news) "
   ]
  },
  {
   "cell_type": "markdown",
   "metadata": {},
   "source": [
    "## Introduction\n",
    "First, we will open our file *hacker_news.csv* and remove the headers."
   ]
  },
  {
   "cell_type": "code",
   "execution_count": 3,
   "metadata": {
    "scrolled": true
   },
   "outputs": [
    {
     "name": "stdout",
     "output_type": "stream",
     "text": [
      "[['id', 'title', 'url', 'num_points', 'num_comments', 'author', 'created_at'], ['12224879', 'Interactive Dynamic Video', 'http://www.interactivedynamicvideo.com/', '386', '52', 'ne0phyte', '8/4/2016 11:52'], ['10975351', 'How to Use Open Source and Shut the Fuck Up at the Same Time', 'http://hueniverse.com/2016/01/26/how-to-use-open-source-and-shut-the-fuck-up-at-the-same-time/', '39', '10', 'josep2', '1/26/2016 19:30'], ['11964716', \"Florida DJs May Face Felony for April Fools' Water Joke\", 'http://www.thewire.com/entertainment/2013/04/florida-djs-april-fools-water-joke/63798/', '2', '1', 'vezycash', '6/23/2016 22:20'], ['11919867', 'Technology ventures: From Idea to Enterprise', 'https://www.amazon.com/Technology-Ventures-Enterprise-Thomas-Byers/dp/0073523429', '3', '1', 'hswarna', '6/17/2016 0:01']]\n"
     ]
    }
   ],
   "source": [
    "#Oppening file\n",
    "from csv import reader\n",
    "\n",
    "oppened_file = open('hacker_news.csv', encoding=\"utf8\")\n",
    "read_file = reader(oppened_file)\n",
    "hn = list(read_file) #Convert to list of lists\n",
    "\n",
    "#Display first 5 rows:\n",
    "print(hn[:5])"
   ]
  },
  {
   "cell_type": "markdown",
   "metadata": {},
   "source": [
    "## Removing Headers"
   ]
  },
  {
   "cell_type": "code",
   "execution_count": 4,
   "metadata": {
    "scrolled": true
   },
   "outputs": [
    {
     "name": "stdout",
     "output_type": "stream",
     "text": [
      "['id', 'title', 'url', 'num_points', 'num_comments', 'author', 'created_at']\n",
      "\n",
      "\n",
      "[['12224879', 'Interactive Dynamic Video', 'http://www.interactivedynamicvideo.com/', '386', '52', 'ne0phyte', '8/4/2016 11:52'], ['10975351', 'How to Use Open Source and Shut the Fuck Up at the Same Time', 'http://hueniverse.com/2016/01/26/how-to-use-open-source-and-shut-the-fuck-up-at-the-same-time/', '39', '10', 'josep2', '1/26/2016 19:30'], ['11964716', \"Florida DJs May Face Felony for April Fools' Water Joke\", 'http://www.thewire.com/entertainment/2013/04/florida-djs-april-fools-water-joke/63798/', '2', '1', 'vezycash', '6/23/2016 22:20'], ['11919867', 'Technology ventures: From Idea to Enterprise', 'https://www.amazon.com/Technology-Ventures-Enterprise-Thomas-Byers/dp/0073523429', '3', '1', 'hswarna', '6/17/2016 0:01'], ['10301696', 'Note by Note: The Making of Steinway L1037 (2007)', 'http://www.nytimes.com/2007/11/07/movies/07stein.html?_r=0', '8', '2', 'walterbell', '9/30/2015 4:12']]\n"
     ]
    }
   ],
   "source": [
    "headrs = hn[0] #Headrs column\n",
    "hn = hn[1:] #Remove headers from data set\n",
    "\n",
    "print(headrs)\n",
    "print('\\n')\n",
    "print(hn[:5])"
   ]
  },
  {
   "cell_type": "markdown",
   "metadata": {},
   "source": [
    "We can spot above that our data set contains inter alia the number of comments for each post (*num_comments* **column**) and time when post was created (*created_at* **column**). We will explor this data more."
   ]
  },
  {
   "cell_type": "markdown",
   "metadata": {},
   "source": [
    "## Separating ask and show posts\n",
    "\n",
    "Below, we created 3 empty lists to add selecting rows to each group of lists. We will loop through each row in *hn*."
   ]
  },
  {
   "cell_type": "code",
   "execution_count": 5,
   "metadata": {},
   "outputs": [
    {
     "name": "stdout",
     "output_type": "stream",
     "text": [
      "1744\n",
      "1162\n",
      "17194\n"
     ]
    }
   ],
   "source": [
    "#Separating posts that begin with \"Ask HN\" and \"Show HN\". \n",
    "\n",
    "ask_posts = []\n",
    "show_posts = []\n",
    "other_posts = []\n",
    "\n",
    "for row in hn:\n",
    "    title = row[1]\n",
    "    \n",
    "    if title.lower().startswith('ask hn'):\n",
    "        ask_posts.append(row)\n",
    "    elif title.lower().startswith('show hn'):\n",
    "        show_posts.append(row)\n",
    "    else:\n",
    "        other_posts.append(row)\n",
    "print(len(ask_posts))\n",
    "print(len(show_posts))\n",
    "print(len(other_posts))"
   ]
  },
  {
   "cell_type": "markdown",
   "metadata": {},
   "source": [
    "## Calculating average comments in ask and show posts\n",
    "\n",
    "Let's check where the average of comments are higher.\n",
    "We will count the average each group of posts by suming total number of comments and divide by quantity of posts."
   ]
  },
  {
   "cell_type": "code",
   "execution_count": 6,
   "metadata": {},
   "outputs": [
    {
     "name": "stdout",
     "output_type": "stream",
     "text": [
      "14.038417431192661\n"
     ]
    }
   ],
   "source": [
    "#Ask posts \n",
    "total_ask_comments = 0\n",
    "\n",
    "for row in ask_posts:\n",
    "    num_comments = int(row[4])\n",
    "    total_ask_comments += num_comments\n",
    "    \n",
    "avg_ask_comments = total_ask_comments / len(ask_posts)\n",
    "\n",
    "print(avg_ask_comments)"
   ]
  },
  {
   "cell_type": "code",
   "execution_count": 7,
   "metadata": {
    "scrolled": true
   },
   "outputs": [
    {
     "name": "stdout",
     "output_type": "stream",
     "text": [
      "10.31669535283993\n"
     ]
    }
   ],
   "source": [
    "#Show posts\n",
    "total_show_comments = 0\n",
    "\n",
    "for row in show_posts:\n",
    "    num_comments = int(row[4])\n",
    "    total_show_comments += num_comments\n",
    "\n",
    "avg_show_comments = total_show_comments / len(show_posts)\n",
    "\n",
    "print(avg_show_comments)"
   ]
  },
  {
   "cell_type": "markdown",
   "metadata": {},
   "source": [
    "We see ask posts are more popular than show posts. On average ask posts got approximately 14 comments, whereas show posts got around 10. Since ask posts are more likely to receive comments, we'll focus our remaining analysis just on these posts."
   ]
  },
  {
   "cell_type": "code",
   "execution_count": 8,
   "metadata": {},
   "outputs": [],
   "source": [
    "#Creating list to store 2 values: the date as a string and number of comments as an intiger\n",
    "\n",
    "result_list = []\n",
    "for row in ask_posts:\n",
    "    created_at = row[6]\n",
    "    num_comments = int(row[4])\n",
    "    result_list.append((created_at, num_comments))   \n",
    "    "
   ]
  },
  {
   "cell_type": "markdown",
   "metadata": {},
   "source": [
    "## Looking for the number of Ask Posts and Comments by hour created\n",
    "\n",
    "Let's check if we can state which hour is the best to received the most number of comments in *Ask posts*. First, we will find the amount of ask posts created durng each hour of day (*counts_by_hour* **dictionary**)."
   ]
  },
  {
   "cell_type": "code",
   "execution_count": 9,
   "metadata": {
    "scrolled": true
   },
   "outputs": [
    {
     "name": "stdout",
     "output_type": "stream",
     "text": [
      "{'09': 45, '13': 85, '10': 59, '14': 107, '16': 108, '23': 68, '12': 73, '17': 100, '15': 116, '21': 109, '20': 80, '02': 58, '18': 109, '03': 54, '05': 46, '19': 110, '01': 60, '22': 71, '08': 48, '04': 47, '00': 55, '06': 44, '07': 34, '11': 58}\n",
      "\n",
      "\n",
      "{'09': 251, '13': 1253, '10': 793, '14': 1416, '16': 1814, '23': 543, '12': 687, '17': 1146, '15': 4477, '21': 1745, '20': 1722, '02': 1381, '18': 1439, '03': 421, '05': 464, '19': 1188, '01': 683, '22': 479, '08': 492, '04': 337, '00': 447, '06': 397, '07': 267, '11': 641}\n"
     ]
    }
   ],
   "source": [
    "#finding the amount of ask posts created durng each hour of day \n",
    "import datetime as dt\n",
    "\n",
    "counts_by_hour = {} #contains the number of ask posts created during each hour of the day\n",
    "comments_by_hour = {} #contains the corresponding number of comments ask posts created at each hour received.\n",
    "\n",
    "for _ in result_list:\n",
    "    date = _[0]\n",
    "    n_comments = _[1]\n",
    "    hour = dt.datetime.strptime(date, \"%m/%d/%Y %H:%M\").strftime(\"%H\")\n",
    "    \n",
    "    if hour not in counts_by_hour:\n",
    "        counts_by_hour[hour] = 1\n",
    "        comments_by_hour[hour] = n_comments\n",
    "    else:\n",
    "        counts_by_hour[hour] += 1\n",
    "        comments_by_hour[hour] += n_comments\n",
    "    \n",
    "print(counts_by_hour)\n",
    "print(\"\\n\")\n",
    "print(comments_by_hour) "
   ]
  },
  {
   "cell_type": "markdown",
   "metadata": {},
   "source": [
    "## Calculating the Average Number of Comments for Ask HN Posts by Hour"
   ]
  },
  {
   "cell_type": "code",
   "execution_count": 10,
   "metadata": {},
   "outputs": [],
   "source": [
    "# Calculate the average amount of comments `Ask HN` posts created at each hour of the day receive.\n",
    "avg_by_hour = []\n",
    "\n",
    "for _ in comments_by_hour:\n",
    "    avg = comments_by_hour[_] / counts_by_hour[_]\n",
    "    avg_by_hour.append([_, avg])"
   ]
  },
  {
   "cell_type": "code",
   "execution_count": 11,
   "metadata": {
    "scrolled": true
   },
   "outputs": [
    {
     "data": {
      "text/plain": [
       "[['09', 5.5777777777777775],\n",
       " ['13', 14.741176470588234],\n",
       " ['10', 13.440677966101696],\n",
       " ['14', 13.233644859813085],\n",
       " ['16', 16.796296296296298],\n",
       " ['23', 7.985294117647059],\n",
       " ['12', 9.41095890410959],\n",
       " ['17', 11.46],\n",
       " ['15', 38.5948275862069],\n",
       " ['21', 16.009174311926607],\n",
       " ['20', 21.525],\n",
       " ['02', 23.810344827586206],\n",
       " ['18', 13.20183486238532],\n",
       " ['03', 7.796296296296297],\n",
       " ['05', 10.08695652173913],\n",
       " ['19', 10.8],\n",
       " ['01', 11.383333333333333],\n",
       " ['22', 6.746478873239437],\n",
       " ['08', 10.25],\n",
       " ['04', 7.170212765957447],\n",
       " ['00', 8.127272727272727],\n",
       " ['06', 9.022727272727273],\n",
       " ['07', 7.852941176470588],\n",
       " ['11', 11.051724137931034]]"
      ]
     },
     "execution_count": 11,
     "metadata": {},
     "output_type": "execute_result"
    }
   ],
   "source": [
    "avg_by_hour"
   ]
  },
  {
   "cell_type": "markdown",
   "metadata": {},
   "source": [
    "## Sorting number of comments from highest to lowest values"
   ]
  },
  {
   "cell_type": "code",
   "execution_count": 12,
   "metadata": {},
   "outputs": [
    {
     "name": "stdout",
     "output_type": "stream",
     "text": [
      "[[5.5777777777777775, '09'], [14.741176470588234, '13'], [13.440677966101696, '10'], [13.233644859813085, '14'], [16.796296296296298, '16'], [7.985294117647059, '23'], [9.41095890410959, '12'], [11.46, '17'], [38.5948275862069, '15'], [16.009174311926607, '21'], [21.525, '20'], [23.810344827586206, '02'], [13.20183486238532, '18'], [7.796296296296297, '03'], [10.08695652173913, '05'], [10.8, '19'], [11.383333333333333, '01'], [6.746478873239437, '22'], [10.25, '08'], [7.170212765957447, '04'], [8.127272727272727, '00'], [9.022727272727273, '06'], [7.852941176470588, '07'], [11.051724137931034, '11']]\n"
     ]
    }
   ],
   "source": [
    "#Create empty list to swap the items from avg_by_hour list\n",
    "swap_avg_by_hour = []\n",
    "for _ in avg_by_hour:\n",
    "    swap_avg_by_hour.append([_[1], _[0]])\n",
    "print(swap_avg_by_hour)"
   ]
  },
  {
   "cell_type": "code",
   "execution_count": 13,
   "metadata": {},
   "outputs": [
    {
     "name": "stdout",
     "output_type": "stream",
     "text": [
      "[[38.5948275862069, '15'], [23.810344827586206, '02'], [21.525, '20'], [16.796296296296298, '16'], [16.009174311926607, '21']]\n"
     ]
    }
   ],
   "source": [
    "sorted_swap = sorted(swap_avg_by_hour, reverse = True)\n",
    "\n",
    "#Print 5 top values \n",
    "print(sorted_swap[:5]) "
   ]
  },
  {
   "cell_type": "code",
   "execution_count": 14,
   "metadata": {
    "scrolled": true
   },
   "outputs": [
    {
     "name": "stdout",
     "output_type": "stream",
     "text": [
      "15:00:00 38.59 average comments per post.\n",
      "02:00:00 23.81 average comments per post.\n",
      "20:00:00 21.52 average comments per post.\n",
      "16:00:00 16.80 average comments per post.\n",
      "21:00:00 16.01 average comments per post.\n"
     ]
    }
   ],
   "source": [
    "for avg, h in sorted_swap[:5]:\n",
    "    hour = dt.datetime.strptime(h, \"%H\")\n",
    "    print(f'{hour.time()} {avg:.2f} average comments per post.')"
   ]
  },
  {
   "cell_type": "markdown",
   "metadata": {},
   "source": [
    "The hour 15:00 receives the most comments per post on average, with an average of 38.59 comments per post. On second place is 2:00 hour with an average of 23.81 comments per post. This is a huge diffrence.\n",
    "\n",
    "According to the data set [documentation](https://www.kaggle.com/hacker-news/hacker-news-posts), the timezone is Eastern Time in the US. We have to convert this time to our timezone.\n",
    "\n",
    "So we will convert time hours from Eastern Time in the US to Central European Standard Time. There is 6 hours diffrence between these 2 timezones."
   ]
  },
  {
   "cell_type": "code",
   "execution_count": 15,
   "metadata": {},
   "outputs": [
    {
     "name": "stdout",
     "output_type": "stream",
     "text": [
      "21:00:00 38.59 average comments per post.\n",
      "08:00:00 23.81 average comments per post.\n",
      "02:00:00 21.52 average comments per post.\n",
      "22:00:00 16.80 average comments per post.\n",
      "03:00:00 16.01 average comments per post.\n"
     ]
    }
   ],
   "source": [
    "for avg, h in sorted_swap[:5]:\n",
    "    hour = dt.datetime.strptime(h, \"%H\")\n",
    "    six_hour = dt.timedelta(hours=6) #Add 6 hours to get time in Central European Standard Time timezone\n",
    "    hour = hour + six_hour\n",
    "    print(f'{hour.time()} {avg:.2f} average comments per post.')"
   ]
  },
  {
   "cell_type": "markdown",
   "metadata": {},
   "source": [
    "## Checking if ask posts or show posts receive more points on average\n",
    "\n",
    "Let's explore *num_points* **column** to check if ask posts or show posts receive more points on average.\n",
    "\n",
    "Just for record, we have created lists with separated *ask_posts* and *show_posts*:"
   ]
  },
  {
   "cell_type": "code",
   "execution_count": 24,
   "metadata": {
    "scrolled": true
   },
   "outputs": [
    {
     "name": "stdout",
     "output_type": "stream",
     "text": [
      "1744\n",
      "1162\n"
     ]
    }
   ],
   "source": [
    "print(len(ask_posts)) \n",
    "print(len(show_posts)) \n",
    "\n"
   ]
  },
  {
   "cell_type": "markdown",
   "metadata": {},
   "source": [
    "Let's check where the average of points are higher.\n",
    "We will count the average each group of posts the same like with number of comments."
   ]
  },
  {
   "cell_type": "code",
   "execution_count": 23,
   "metadata": {},
   "outputs": [
    {
     "name": "stdout",
     "output_type": "stream",
     "text": [
      "15.061926605504587\n"
     ]
    }
   ],
   "source": [
    "#Ask posts \n",
    "total_ask_points = 0\n",
    "\n",
    "for row in ask_posts:\n",
    "    num_points = int(row[3])\n",
    "    total_ask_points += num_points\n",
    "    \n",
    "avg_ask_points = total_ask_points / len(ask_posts)\n",
    "\n",
    "print(avg_ask_points)"
   ]
  },
  {
   "cell_type": "code",
   "execution_count": 25,
   "metadata": {},
   "outputs": [
    {
     "name": "stdout",
     "output_type": "stream",
     "text": [
      "27.555077452667813\n"
     ]
    }
   ],
   "source": [
    "#Show posts \n",
    "total_show_points = 0\n",
    "\n",
    "for row in show_posts:\n",
    "    num_points = int(row[3])\n",
    "    total_show_points += num_points\n",
    "    \n",
    "avg_show_points = total_show_points / len(show_posts)\n",
    "\n",
    "print(avg_show_points)"
   ]
  },
  {
   "cell_type": "markdown",
   "metadata": {},
   "source": [
    "We see now that show posts received more points than ask posts. Show posts has 27.55 points on avergae, whereas ask posts has only 15 points on average, so it's almost 2 times less than show posts.\n",
    "\n",
    "Show posts are often deccription of some interesting subject. People gaves points (like likes in Facebook) to appreciate the work.\n",
    "\n",
    "Now we will explore more show posts."
   ]
  },
  {
   "cell_type": "code",
   "execution_count": 28,
   "metadata": {},
   "outputs": [],
   "source": [
    "#Creating list to store 2 values: the date as a string and number of points as an intiger\n",
    "\n",
    "result_list = []\n",
    "for row in show_posts:\n",
    "    created_at = row[6]\n",
    "    num_points = int(row[3])\n",
    "    result_list.append((created_at, num_points))    \n"
   ]
  },
  {
   "cell_type": "markdown",
   "metadata": {},
   "source": [
    "## Looking for the number of Show Posts and Points by hour created\n",
    "\n",
    "Previously, we could find which hour is the best to create Ask post to increase chance getting more number of comments. We can assume that we can also find the best time to publish Show post and get more points."
   ]
  },
  {
   "cell_type": "code",
   "execution_count": 29,
   "metadata": {
    "scrolled": true
   },
   "outputs": [
    {
     "name": "stdout",
     "output_type": "stream",
     "text": [
      "{'14': 86, '22': 46, '18': 61, '07': 26, '20': 60, '05': 19, '16': 93, '19': 55, '15': 78, '03': 27, '17': 93, '06': 16, '02': 30, '13': 99, '08': 34, '21': 47, '04': 26, '11': 44, '12': 61, '23': 36, '09': 30, '01': 28, '10': 36, '00': 31}\n",
      "\n",
      "\n",
      "{'14': 2187, '22': 1856, '18': 2215, '07': 494, '20': 1819, '05': 104, '16': 2634, '19': 1702, '15': 2228, '03': 679, '17': 2521, '06': 375, '02': 340, '13': 2438, '08': 519, '21': 866, '04': 386, '11': 1480, '12': 2543, '23': 1526, '09': 553, '01': 700, '10': 681, '00': 1173}\n"
     ]
    }
   ],
   "source": [
    "#finding the amount of show posts created durng each hour of day \n",
    "\n",
    "counts_by_hour = {} #contains the number of show posts created during each hour of the day\n",
    "points_by_hour = {} #contains the corresponding number of points show posts created at each hour received.\n",
    "\n",
    "for _ in result_list:\n",
    "    date = _[0]\n",
    "    n_points = _[1]\n",
    "    hour = dt.datetime.strptime(date, \"%m/%d/%Y %H:%M\").strftime(\"%H\")\n",
    "    \n",
    "    if hour not in counts_by_hour:\n",
    "        counts_by_hour[hour] = 1\n",
    "        points_by_hour[hour] = n_points\n",
    "    else:\n",
    "        counts_by_hour[hour] += 1\n",
    "        points_by_hour[hour] += n_points\n",
    "    \n",
    "print(counts_by_hour)\n",
    "print(\"\\n\")\n",
    "print(points_by_hour) "
   ]
  },
  {
   "cell_type": "markdown",
   "metadata": {},
   "source": [
    "## Calculating the Average Number of Points for Show HN Posts by Hour"
   ]
  },
  {
   "cell_type": "code",
   "execution_count": 31,
   "metadata": {
    "scrolled": true
   },
   "outputs": [
    {
     "name": "stdout",
     "output_type": "stream",
     "text": [
      "[['14', 25.430232558139537], ['22', 40.34782608695652], ['18', 36.31147540983606], ['07', 19.0], ['20', 30.316666666666666], ['05', 5.473684210526316], ['16', 28.322580645161292], ['19', 30.945454545454545], ['15', 28.564102564102566], ['03', 25.14814814814815], ['17', 27.107526881720432], ['06', 23.4375], ['02', 11.333333333333334], ['13', 24.626262626262626], ['08', 15.264705882352942], ['21', 18.425531914893618], ['04', 14.846153846153847], ['11', 33.63636363636363], ['12', 41.68852459016394], ['23', 42.388888888888886], ['09', 18.433333333333334], ['01', 25.0], ['10', 18.916666666666668], ['00', 37.83870967741935]]\n"
     ]
    }
   ],
   "source": [
    "# Calculate the average amount of points `Show HN` posts created at each hour of the day receive.\n",
    "avg_by_hour = []\n",
    "\n",
    "for _ in points_by_hour:\n",
    "    avg = points_by_hour[_] / counts_by_hour[_]\n",
    "    avg_by_hour.append([_, avg])\n",
    "    \n",
    "print(avg_by_hour)"
   ]
  },
  {
   "cell_type": "markdown",
   "metadata": {},
   "source": [
    "## Sorting number of comments from highest to lowest values"
   ]
  },
  {
   "cell_type": "code",
   "execution_count": 32,
   "metadata": {},
   "outputs": [
    {
     "name": "stdout",
     "output_type": "stream",
     "text": [
      "[[25.430232558139537, '14'], [40.34782608695652, '22'], [36.31147540983606, '18'], [19.0, '07'], [30.316666666666666, '20'], [5.473684210526316, '05'], [28.322580645161292, '16'], [30.945454545454545, '19'], [28.564102564102566, '15'], [25.14814814814815, '03'], [27.107526881720432, '17'], [23.4375, '06'], [11.333333333333334, '02'], [24.626262626262626, '13'], [15.264705882352942, '08'], [18.425531914893618, '21'], [14.846153846153847, '04'], [33.63636363636363, '11'], [41.68852459016394, '12'], [42.388888888888886, '23'], [18.433333333333334, '09'], [25.0, '01'], [18.916666666666668, '10'], [37.83870967741935, '00']]\n"
     ]
    }
   ],
   "source": [
    "#Create empty list to swap the items from avg_by_hour list\n",
    "swap_avg_by_hour = []\n",
    "for _ in avg_by_hour:\n",
    "    swap_avg_by_hour.append([_[1], _[0]])\n",
    "print(swap_avg_by_hour)"
   ]
  },
  {
   "cell_type": "code",
   "execution_count": 33,
   "metadata": {},
   "outputs": [
    {
     "name": "stdout",
     "output_type": "stream",
     "text": [
      "[[42.388888888888886, '23'], [41.68852459016394, '12'], [40.34782608695652, '22'], [37.83870967741935, '00'], [36.31147540983606, '18']]\n"
     ]
    }
   ],
   "source": [
    "sorted_swap = sorted(swap_avg_by_hour, reverse = True)\n",
    "\n",
    "#Print 5 top values \n",
    "print(sorted_swap[:5]) "
   ]
  },
  {
   "cell_type": "code",
   "execution_count": 34,
   "metadata": {},
   "outputs": [
    {
     "name": "stdout",
     "output_type": "stream",
     "text": [
      "23:00:00 42.39 average points per post.\n",
      "12:00:00 41.69 average points per post.\n",
      "22:00:00 40.35 average points per post.\n",
      "00:00:00 37.84 average points per post.\n",
      "18:00:00 36.31 average points per post.\n"
     ]
    }
   ],
   "source": [
    "for avg, h in sorted_swap[:5]:\n",
    "    hour = dt.datetime.strptime(h, \"%H\")\n",
    "    print(f'{hour.time()} {avg:.2f} average points per post.')"
   ]
  },
  {
   "cell_type": "markdown",
   "metadata": {},
   "source": [
    "The hour 23:00 receives the most points per post on average, with an average of 42.39 points per post. On second place is 12:00 hour with an average of 41.69 points per post. Then is 22:00 with 40.35 average. We can see that differences between these hours are not big.\n",
    "\n",
    "As before, hours which we get above are in Eastern Time in the US. Let's convert to Central European Standard Time."
   ]
  },
  {
   "cell_type": "code",
   "execution_count": 35,
   "metadata": {
    "scrolled": true
   },
   "outputs": [
    {
     "name": "stdout",
     "output_type": "stream",
     "text": [
      "05:00:00 42.39 average comments per post.\n",
      "18:00:00 41.69 average comments per post.\n",
      "04:00:00 40.35 average comments per post.\n",
      "06:00:00 37.84 average comments per post.\n",
      "00:00:00 36.31 average comments per post.\n"
     ]
    }
   ],
   "source": [
    "for avg, h in sorted_swap[:5]:\n",
    "    hour = dt.datetime.strptime(h, \"%H\")\n",
    "    six_hour = dt.timedelta(hours=6) #Add 6 hours to get time in Central European Standard Time timezone\n",
    "    hour = hour + six_hour\n",
    "    print(f'{hour.time()} {avg:.2f} average comments per post.')"
   ]
  },
  {
   "cell_type": "markdown",
   "metadata": {},
   "source": [
    "## Conclusion\n",
    "\n",
    "In this project, we analyzed ask and show posts to check which type of post are generating the most comments and points on average, created in each hour. We found that Ask posts got more comments than Show posts. To maximize the amount of comments, we should create post between 21:00 and 22:00 (in Central European Standard Time timezone). Whereas, to get a chance of receiving the most points, we should create Show post between 5:00 and 6:00 or 18:00 and 19:00.\n"
   ]
  }
 ],
 "metadata": {
  "kernelspec": {
   "display_name": "Python 3",
   "language": "python",
   "name": "python3"
  },
  "language_info": {
   "codemirror_mode": {
    "name": "ipython",
    "version": 3
   },
   "file_extension": ".py",
   "mimetype": "text/x-python",
   "name": "python",
   "nbconvert_exporter": "python",
   "pygments_lexer": "ipython3",
   "version": "3.7.6"
  }
 },
 "nbformat": 4,
 "nbformat_minor": 4
}
