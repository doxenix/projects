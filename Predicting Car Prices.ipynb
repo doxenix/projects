{
 "cells": [
  {
   "cell_type": "markdown",
   "metadata": {
    "collapsed": true
   },
   "source": [
    "## Creating first machine learing model -  Predicting Car Prices\n",
    "\n",
    "In this guided project, we'll practice the machine learning workflow, using the k-nearest neighbors algorithm. The data set we will be working with contains information on various cars. For each car we have information about the technical aspects of the vehicle such as the motor's displacement, the weight of the car, the miles per gallon, how fast the car accelerates, and more.\n",
    "We'll build model which will predcit car prices. "
   ]
  },
  {
   "cell_type": "code",
   "execution_count": 1,
   "metadata": {
    "collapsed": true
   },
   "outputs": [],
   "source": [
    "import pandas as pd\n",
    "import numpy as np\n",
    "pd.options.display.max_columns = 99\n",
    "\n",
    "#dataset doesn't contains column names, so we added them manually\n",
    "cols = ['symboling', 'normalized-losses', 'make', 'fuel-type', 'aspiration', 'num-of-doors', 'body-style', \n",
    "        'drive-wheels', 'engine-location', 'wheel-base', 'length', 'width', 'height', 'curb-weight', 'engine-type', \n",
    "        'num-of-cylinders', 'engine-size', 'fuel-system', 'bore', 'stroke', 'compression-rate', 'horsepower', 'peak-rpm', 'city-mpg', 'highway-mpg', 'price']\n",
    "\n",
    "cars = pd.read_csv('imports-85.data', names=cols)"
   ]
  },
  {
   "cell_type": "code",
   "execution_count": 2,
   "metadata": {
    "collapsed": false,
    "scrolled": true
   },
   "outputs": [
    {
     "data": {
      "text/html": [
       "<div>\n",
       "<style scoped>\n",
       "    .dataframe tbody tr th:only-of-type {\n",
       "        vertical-align: middle;\n",
       "    }\n",
       "\n",
       "    .dataframe tbody tr th {\n",
       "        vertical-align: top;\n",
       "    }\n",
       "\n",
       "    .dataframe thead th {\n",
       "        text-align: right;\n",
       "    }\n",
       "</style>\n",
       "<table border=\"1\" class=\"dataframe\">\n",
       "  <thead>\n",
       "    <tr style=\"text-align: right;\">\n",
       "      <th></th>\n",
       "      <th>symboling</th>\n",
       "      <th>normalized-losses</th>\n",
       "      <th>make</th>\n",
       "      <th>fuel-type</th>\n",
       "      <th>aspiration</th>\n",
       "      <th>num-of-doors</th>\n",
       "      <th>body-style</th>\n",
       "      <th>drive-wheels</th>\n",
       "      <th>engine-location</th>\n",
       "      <th>wheel-base</th>\n",
       "      <th>length</th>\n",
       "      <th>width</th>\n",
       "      <th>height</th>\n",
       "      <th>curb-weight</th>\n",
       "      <th>engine-type</th>\n",
       "      <th>num-of-cylinders</th>\n",
       "      <th>engine-size</th>\n",
       "      <th>fuel-system</th>\n",
       "      <th>bore</th>\n",
       "      <th>stroke</th>\n",
       "      <th>compression-rate</th>\n",
       "      <th>horsepower</th>\n",
       "      <th>peak-rpm</th>\n",
       "      <th>city-mpg</th>\n",
       "      <th>highway-mpg</th>\n",
       "      <th>price</th>\n",
       "    </tr>\n",
       "  </thead>\n",
       "  <tbody>\n",
       "    <tr>\n",
       "      <th>0</th>\n",
       "      <td>3</td>\n",
       "      <td>?</td>\n",
       "      <td>alfa-romero</td>\n",
       "      <td>gas</td>\n",
       "      <td>std</td>\n",
       "      <td>two</td>\n",
       "      <td>convertible</td>\n",
       "      <td>rwd</td>\n",
       "      <td>front</td>\n",
       "      <td>88.6</td>\n",
       "      <td>168.8</td>\n",
       "      <td>64.1</td>\n",
       "      <td>48.8</td>\n",
       "      <td>2548</td>\n",
       "      <td>dohc</td>\n",
       "      <td>four</td>\n",
       "      <td>130</td>\n",
       "      <td>mpfi</td>\n",
       "      <td>3.47</td>\n",
       "      <td>2.68</td>\n",
       "      <td>9.0</td>\n",
       "      <td>111</td>\n",
       "      <td>5000</td>\n",
       "      <td>21</td>\n",
       "      <td>27</td>\n",
       "      <td>13495</td>\n",
       "    </tr>\n",
       "    <tr>\n",
       "      <th>1</th>\n",
       "      <td>3</td>\n",
       "      <td>?</td>\n",
       "      <td>alfa-romero</td>\n",
       "      <td>gas</td>\n",
       "      <td>std</td>\n",
       "      <td>two</td>\n",
       "      <td>convertible</td>\n",
       "      <td>rwd</td>\n",
       "      <td>front</td>\n",
       "      <td>88.6</td>\n",
       "      <td>168.8</td>\n",
       "      <td>64.1</td>\n",
       "      <td>48.8</td>\n",
       "      <td>2548</td>\n",
       "      <td>dohc</td>\n",
       "      <td>four</td>\n",
       "      <td>130</td>\n",
       "      <td>mpfi</td>\n",
       "      <td>3.47</td>\n",
       "      <td>2.68</td>\n",
       "      <td>9.0</td>\n",
       "      <td>111</td>\n",
       "      <td>5000</td>\n",
       "      <td>21</td>\n",
       "      <td>27</td>\n",
       "      <td>16500</td>\n",
       "    </tr>\n",
       "    <tr>\n",
       "      <th>2</th>\n",
       "      <td>1</td>\n",
       "      <td>?</td>\n",
       "      <td>alfa-romero</td>\n",
       "      <td>gas</td>\n",
       "      <td>std</td>\n",
       "      <td>two</td>\n",
       "      <td>hatchback</td>\n",
       "      <td>rwd</td>\n",
       "      <td>front</td>\n",
       "      <td>94.5</td>\n",
       "      <td>171.2</td>\n",
       "      <td>65.5</td>\n",
       "      <td>52.4</td>\n",
       "      <td>2823</td>\n",
       "      <td>ohcv</td>\n",
       "      <td>six</td>\n",
       "      <td>152</td>\n",
       "      <td>mpfi</td>\n",
       "      <td>2.68</td>\n",
       "      <td>3.47</td>\n",
       "      <td>9.0</td>\n",
       "      <td>154</td>\n",
       "      <td>5000</td>\n",
       "      <td>19</td>\n",
       "      <td>26</td>\n",
       "      <td>16500</td>\n",
       "    </tr>\n",
       "    <tr>\n",
       "      <th>3</th>\n",
       "      <td>2</td>\n",
       "      <td>164</td>\n",
       "      <td>audi</td>\n",
       "      <td>gas</td>\n",
       "      <td>std</td>\n",
       "      <td>four</td>\n",
       "      <td>sedan</td>\n",
       "      <td>fwd</td>\n",
       "      <td>front</td>\n",
       "      <td>99.8</td>\n",
       "      <td>176.6</td>\n",
       "      <td>66.2</td>\n",
       "      <td>54.3</td>\n",
       "      <td>2337</td>\n",
       "      <td>ohc</td>\n",
       "      <td>four</td>\n",
       "      <td>109</td>\n",
       "      <td>mpfi</td>\n",
       "      <td>3.19</td>\n",
       "      <td>3.40</td>\n",
       "      <td>10.0</td>\n",
       "      <td>102</td>\n",
       "      <td>5500</td>\n",
       "      <td>24</td>\n",
       "      <td>30</td>\n",
       "      <td>13950</td>\n",
       "    </tr>\n",
       "    <tr>\n",
       "      <th>4</th>\n",
       "      <td>2</td>\n",
       "      <td>164</td>\n",
       "      <td>audi</td>\n",
       "      <td>gas</td>\n",
       "      <td>std</td>\n",
       "      <td>four</td>\n",
       "      <td>sedan</td>\n",
       "      <td>4wd</td>\n",
       "      <td>front</td>\n",
       "      <td>99.4</td>\n",
       "      <td>176.6</td>\n",
       "      <td>66.4</td>\n",
       "      <td>54.3</td>\n",
       "      <td>2824</td>\n",
       "      <td>ohc</td>\n",
       "      <td>five</td>\n",
       "      <td>136</td>\n",
       "      <td>mpfi</td>\n",
       "      <td>3.19</td>\n",
       "      <td>3.40</td>\n",
       "      <td>8.0</td>\n",
       "      <td>115</td>\n",
       "      <td>5500</td>\n",
       "      <td>18</td>\n",
       "      <td>22</td>\n",
       "      <td>17450</td>\n",
       "    </tr>\n",
       "  </tbody>\n",
       "</table>\n",
       "</div>"
      ],
      "text/plain": [
       "   symboling normalized-losses         make fuel-type aspiration num-of-doors  \\\n",
       "0          3                 ?  alfa-romero       gas        std          two   \n",
       "1          3                 ?  alfa-romero       gas        std          two   \n",
       "2          1                 ?  alfa-romero       gas        std          two   \n",
       "3          2               164         audi       gas        std         four   \n",
       "4          2               164         audi       gas        std         four   \n",
       "\n",
       "    body-style drive-wheels engine-location  wheel-base  length  width  \\\n",
       "0  convertible          rwd           front        88.6   168.8   64.1   \n",
       "1  convertible          rwd           front        88.6   168.8   64.1   \n",
       "2    hatchback          rwd           front        94.5   171.2   65.5   \n",
       "3        sedan          fwd           front        99.8   176.6   66.2   \n",
       "4        sedan          4wd           front        99.4   176.6   66.4   \n",
       "\n",
       "   height  curb-weight engine-type num-of-cylinders  engine-size fuel-system  \\\n",
       "0    48.8         2548        dohc             four          130        mpfi   \n",
       "1    48.8         2548        dohc             four          130        mpfi   \n",
       "2    52.4         2823        ohcv              six          152        mpfi   \n",
       "3    54.3         2337         ohc             four          109        mpfi   \n",
       "4    54.3         2824         ohc             five          136        mpfi   \n",
       "\n",
       "   bore stroke  compression-rate horsepower peak-rpm  city-mpg  highway-mpg  \\\n",
       "0  3.47   2.68               9.0        111     5000        21           27   \n",
       "1  3.47   2.68               9.0        111     5000        21           27   \n",
       "2  2.68   3.47               9.0        154     5000        19           26   \n",
       "3  3.19   3.40              10.0        102     5500        24           30   \n",
       "4  3.19   3.40               8.0        115     5500        18           22   \n",
       "\n",
       "   price  \n",
       "0  13495  \n",
       "1  16500  \n",
       "2  16500  \n",
       "3  13950  \n",
       "4  17450  "
      ]
     },
     "execution_count": 2,
     "metadata": {},
     "output_type": "execute_result"
    }
   ],
   "source": [
    "cars.head()"
   ]
  },
  {
   "cell_type": "code",
   "execution_count": 3,
   "metadata": {
    "collapsed": true
   },
   "outputs": [],
   "source": [
    "continuous_values_cols = ['normalized-losses', 'wheel-base', 'length', 'width', 'height', 'curb-weight', \n",
    "                          'engine-size', 'bore', 'stroke', 'compression-rate', 'horsepower', 'peak-rpm', 'city-mpg', \n",
    "                          'highway-mpg', 'price']\n",
    "\n",
    "cars = cars[continuous_values_cols]"
   ]
  },
  {
   "cell_type": "markdown",
   "metadata": {},
   "source": [
    "## Data Cleaning\n",
    "\n",
    "The first step is determine if we have any missing values. Building our model, we can't have any `NaN` values which we could use. First look at dataset above, we saw that we have some `?` values in `normalized-losses` column. We have to replace them. We will also **rescale** the values in the numeric columns."
   ]
  },
  {
   "cell_type": "code",
   "execution_count": 4,
   "metadata": {
    "collapsed": false
   },
   "outputs": [],
   "source": [
    "cars = cars.replace('?', np.nan)"
   ]
  },
  {
   "cell_type": "code",
   "execution_count": 5,
   "metadata": {
    "collapsed": false
   },
   "outputs": [
    {
     "name": "stdout",
     "output_type": "stream",
     "text": [
      "<class 'pandas.core.frame.DataFrame'>\n",
      "RangeIndex: 205 entries, 0 to 204\n",
      "Data columns (total 15 columns):\n",
      "normalized-losses    164 non-null object\n",
      "wheel-base           205 non-null float64\n",
      "length               205 non-null float64\n",
      "width                205 non-null float64\n",
      "height               205 non-null float64\n",
      "curb-weight          205 non-null int64\n",
      "engine-size          205 non-null int64\n",
      "bore                 201 non-null object\n",
      "stroke               201 non-null object\n",
      "compression-rate     205 non-null float64\n",
      "horsepower           203 non-null object\n",
      "peak-rpm             203 non-null object\n",
      "city-mpg             205 non-null int64\n",
      "highway-mpg          205 non-null int64\n",
      "price                201 non-null object\n",
      "dtypes: float64(5), int64(4), object(6)\n",
      "memory usage: 24.1+ KB\n"
     ]
    }
   ],
   "source": [
    "cars.info()"
   ]
  },
  {
   "cell_type": "code",
   "execution_count": 6,
   "metadata": {
    "collapsed": true
   },
   "outputs": [],
   "source": [
    "cars = cars.astype(float)"
   ]
  },
  {
   "cell_type": "code",
   "execution_count": 7,
   "metadata": {
    "collapsed": false,
    "scrolled": true
   },
   "outputs": [
    {
     "data": {
      "text/plain": [
       "normalized-losses    41\n",
       "wheel-base            0\n",
       "length                0\n",
       "width                 0\n",
       "height                0\n",
       "curb-weight           0\n",
       "engine-size           0\n",
       "bore                  4\n",
       "stroke                4\n",
       "compression-rate      0\n",
       "horsepower            2\n",
       "peak-rpm              2\n",
       "city-mpg              0\n",
       "highway-mpg           0\n",
       "price                 4\n",
       "dtype: int64"
      ]
     },
     "execution_count": 7,
     "metadata": {},
     "output_type": "execute_result"
    }
   ],
   "source": [
    "cars.isnull().sum()\n"
   ]
  },
  {
   "cell_type": "markdown",
   "metadata": {},
   "source": [
    "Let's remove some `NaN` values from `price` column. There are only 4 there and we want predict price, so we need all values here."
   ]
  },
  {
   "cell_type": "code",
   "execution_count": 8,
   "metadata": {
    "collapsed": true
   },
   "outputs": [],
   "source": [
    "cars = cars[cars['price'].notnull()].copy()"
   ]
  },
  {
   "cell_type": "markdown",
   "metadata": {},
   "source": [
    "We saw above, that we have some missing values in `bore`, `stroke`, `horsepower` and `peak-rpm` columns. The best way will be to count the average for each column and replace with missing values. Our dataset is not large, so we try to keep as many rows as is possible."
   ]
  },
  {
   "cell_type": "code",
   "execution_count": 9,
   "metadata": {
    "collapsed": true
   },
   "outputs": [],
   "source": [
    "cars = cars.fillna(cars.mean())"
   ]
  },
  {
   "cell_type": "code",
   "execution_count": 10,
   "metadata": {
    "collapsed": false,
    "scrolled": true
   },
   "outputs": [
    {
     "data": {
      "text/plain": [
       "normalized-losses    0\n",
       "wheel-base           0\n",
       "length               0\n",
       "width                0\n",
       "height               0\n",
       "curb-weight          0\n",
       "engine-size          0\n",
       "bore                 0\n",
       "stroke               0\n",
       "compression-rate     0\n",
       "horsepower           0\n",
       "peak-rpm             0\n",
       "city-mpg             0\n",
       "highway-mpg          0\n",
       "price                0\n",
       "dtype: int64"
      ]
     },
     "execution_count": 10,
     "metadata": {},
     "output_type": "execute_result"
    }
   ],
   "source": [
    "cars.isnull().sum()"
   ]
  },
  {
   "cell_type": "code",
   "execution_count": 11,
   "metadata": {
    "collapsed": false
   },
   "outputs": [],
   "source": [
    "#rescale all columns except price column\n",
    "price = cars['price']\n",
    "\n",
    "cars = (cars - cars.min()) / (cars.max() - cars.min())\n",
    "\n",
    "\n",
    "cars['price'] = price"
   ]
  },
  {
   "cell_type": "code",
   "execution_count": 12,
   "metadata": {
    "collapsed": false
   },
   "outputs": [
    {
     "data": {
      "text/html": [
       "<div>\n",
       "<style scoped>\n",
       "    .dataframe tbody tr th:only-of-type {\n",
       "        vertical-align: middle;\n",
       "    }\n",
       "\n",
       "    .dataframe tbody tr th {\n",
       "        vertical-align: top;\n",
       "    }\n",
       "\n",
       "    .dataframe thead th {\n",
       "        text-align: right;\n",
       "    }\n",
       "</style>\n",
       "<table border=\"1\" class=\"dataframe\">\n",
       "  <thead>\n",
       "    <tr style=\"text-align: right;\">\n",
       "      <th></th>\n",
       "      <th>normalized-losses</th>\n",
       "      <th>wheel-base</th>\n",
       "      <th>length</th>\n",
       "      <th>width</th>\n",
       "      <th>height</th>\n",
       "      <th>curb-weight</th>\n",
       "      <th>engine-size</th>\n",
       "      <th>bore</th>\n",
       "      <th>stroke</th>\n",
       "      <th>compression-rate</th>\n",
       "      <th>horsepower</th>\n",
       "      <th>peak-rpm</th>\n",
       "      <th>city-mpg</th>\n",
       "      <th>highway-mpg</th>\n",
       "      <th>price</th>\n",
       "    </tr>\n",
       "  </thead>\n",
       "  <tbody>\n",
       "    <tr>\n",
       "      <th>0</th>\n",
       "      <td>0.298429</td>\n",
       "      <td>0.058309</td>\n",
       "      <td>0.413433</td>\n",
       "      <td>0.324786</td>\n",
       "      <td>0.083333</td>\n",
       "      <td>0.411171</td>\n",
       "      <td>0.260377</td>\n",
       "      <td>0.664286</td>\n",
       "      <td>0.290476</td>\n",
       "      <td>0.1250</td>\n",
       "      <td>0.294393</td>\n",
       "      <td>0.346939</td>\n",
       "      <td>0.222222</td>\n",
       "      <td>0.289474</td>\n",
       "      <td>13495.0</td>\n",
       "    </tr>\n",
       "    <tr>\n",
       "      <th>1</th>\n",
       "      <td>0.298429</td>\n",
       "      <td>0.058309</td>\n",
       "      <td>0.413433</td>\n",
       "      <td>0.324786</td>\n",
       "      <td>0.083333</td>\n",
       "      <td>0.411171</td>\n",
       "      <td>0.260377</td>\n",
       "      <td>0.664286</td>\n",
       "      <td>0.290476</td>\n",
       "      <td>0.1250</td>\n",
       "      <td>0.294393</td>\n",
       "      <td>0.346939</td>\n",
       "      <td>0.222222</td>\n",
       "      <td>0.289474</td>\n",
       "      <td>16500.0</td>\n",
       "    </tr>\n",
       "    <tr>\n",
       "      <th>2</th>\n",
       "      <td>0.298429</td>\n",
       "      <td>0.230321</td>\n",
       "      <td>0.449254</td>\n",
       "      <td>0.444444</td>\n",
       "      <td>0.383333</td>\n",
       "      <td>0.517843</td>\n",
       "      <td>0.343396</td>\n",
       "      <td>0.100000</td>\n",
       "      <td>0.666667</td>\n",
       "      <td>0.1250</td>\n",
       "      <td>0.495327</td>\n",
       "      <td>0.346939</td>\n",
       "      <td>0.166667</td>\n",
       "      <td>0.263158</td>\n",
       "      <td>16500.0</td>\n",
       "    </tr>\n",
       "    <tr>\n",
       "      <th>3</th>\n",
       "      <td>0.518325</td>\n",
       "      <td>0.384840</td>\n",
       "      <td>0.529851</td>\n",
       "      <td>0.504274</td>\n",
       "      <td>0.541667</td>\n",
       "      <td>0.329325</td>\n",
       "      <td>0.181132</td>\n",
       "      <td>0.464286</td>\n",
       "      <td>0.633333</td>\n",
       "      <td>0.1875</td>\n",
       "      <td>0.252336</td>\n",
       "      <td>0.551020</td>\n",
       "      <td>0.305556</td>\n",
       "      <td>0.368421</td>\n",
       "      <td>13950.0</td>\n",
       "    </tr>\n",
       "    <tr>\n",
       "      <th>4</th>\n",
       "      <td>0.518325</td>\n",
       "      <td>0.373178</td>\n",
       "      <td>0.529851</td>\n",
       "      <td>0.521368</td>\n",
       "      <td>0.541667</td>\n",
       "      <td>0.518231</td>\n",
       "      <td>0.283019</td>\n",
       "      <td>0.464286</td>\n",
       "      <td>0.633333</td>\n",
       "      <td>0.0625</td>\n",
       "      <td>0.313084</td>\n",
       "      <td>0.551020</td>\n",
       "      <td>0.138889</td>\n",
       "      <td>0.157895</td>\n",
       "      <td>17450.0</td>\n",
       "    </tr>\n",
       "  </tbody>\n",
       "</table>\n",
       "</div>"
      ],
      "text/plain": [
       "   normalized-losses  wheel-base    length     width    height  curb-weight  \\\n",
       "0           0.298429    0.058309  0.413433  0.324786  0.083333     0.411171   \n",
       "1           0.298429    0.058309  0.413433  0.324786  0.083333     0.411171   \n",
       "2           0.298429    0.230321  0.449254  0.444444  0.383333     0.517843   \n",
       "3           0.518325    0.384840  0.529851  0.504274  0.541667     0.329325   \n",
       "4           0.518325    0.373178  0.529851  0.521368  0.541667     0.518231   \n",
       "\n",
       "   engine-size      bore    stroke  compression-rate  horsepower  peak-rpm  \\\n",
       "0     0.260377  0.664286  0.290476            0.1250    0.294393  0.346939   \n",
       "1     0.260377  0.664286  0.290476            0.1250    0.294393  0.346939   \n",
       "2     0.343396  0.100000  0.666667            0.1250    0.495327  0.346939   \n",
       "3     0.181132  0.464286  0.633333            0.1875    0.252336  0.551020   \n",
       "4     0.283019  0.464286  0.633333            0.0625    0.313084  0.551020   \n",
       "\n",
       "   city-mpg  highway-mpg    price  \n",
       "0  0.222222     0.289474  13495.0  \n",
       "1  0.222222     0.289474  16500.0  \n",
       "2  0.166667     0.263158  16500.0  \n",
       "3  0.305556     0.368421  13950.0  \n",
       "4  0.138889     0.157895  17450.0  "
      ]
     },
     "execution_count": 12,
     "metadata": {},
     "output_type": "execute_result"
    }
   ],
   "source": [
    "cars.head()"
   ]
  },
  {
   "cell_type": "markdown",
   "metadata": {},
   "source": [
    "## Univariate Model\n",
    "\n",
    "Let's start with some univariate k-nearest neighbors models. Starting with simple models before moving to more complex models helps us structure code workflow and understand the features better."
   ]
  },
  {
   "cell_type": "code",
   "execution_count": 13,
   "metadata": {
    "collapsed": true
   },
   "outputs": [],
   "source": [
    "from sklearn.neighbors import KNeighborsRegressor\n",
    "from sklearn.metrics import mean_squared_error\n",
    "\n",
    "def knn_train_test(traning_column, target_column, df):\n",
    "    \n",
    "    knn = KNeighborsRegressor()\n",
    "    np.random.seed(1)\n",
    "    \n",
    "    shuffled_index = np.random.permutation(df.index)\n",
    "    shuffled_df = df.reindex(shuffled_index)\n",
    "    \n",
    "    index_half = round(len(cars) / 2)\n",
    "    first_half = shuffled_df.iloc[:index_half]\n",
    "    second_half = shuffled_df.iloc[index_half:]  \n",
    "    \n",
    "    \n",
    "    knn.fit(first_half[traning_column], first_half[target_column])\n",
    "    predictions = knn.predict(second_half[traning_column])\n",
    "    \n",
    "    mse = mean_squared_error(second_half[target_column], predictions) \n",
    "    rmse = mse**(1/2)\n",
    "    return rmse"
   ]
  },
  {
   "cell_type": "code",
   "execution_count": 14,
   "metadata": {
    "collapsed": false
   },
   "outputs": [
    {
     "data": {
      "text/plain": [
       "engine-size          3238.462830\n",
       "horsepower           4037.037713\n",
       "curb-weight          4401.118255\n",
       "highway-mpg          4630.026799\n",
       "width                4704.482590\n",
       "city-mpg             4766.422505\n",
       "length               5427.200961\n",
       "wheel-base           5461.553998\n",
       "compression-rate     6610.812153\n",
       "bore                 6780.627785\n",
       "normalized-losses    7330.197653\n",
       "peak-rpm             7697.459696\n",
       "stroke               8006.529545\n",
       "height               8144.441043\n",
       "dtype: float64"
      ]
     },
     "execution_count": 14,
     "metadata": {},
     "output_type": "execute_result"
    }
   ],
   "source": [
    "rmse_cols = {}\n",
    "cols_all = cars.columns.drop('price')\n",
    "\n",
    "for col in cols_all:\n",
    "    result = knn_train_test([col], 'price', cars)\n",
    "    rmse_cols[col] = result\n",
    "    \n",
    "rmse_cols = pd.Series(rmse_cols)\n",
    "rmse_cols.sort_values()"
   ]
  },
  {
   "cell_type": "code",
   "execution_count": 15,
   "metadata": {
    "collapsed": true
   },
   "outputs": [],
   "source": [
    "def knn_train_test(traning_column, target_column, df, k_value):\n",
    "    \n",
    "    knn = KNeighborsRegressor(n_neighbors=k_value)\n",
    "    np.random.seed(1)\n",
    "    \n",
    "    shuffled_index = np.random.permutation(df.index)\n",
    "    shuffled_df = df.reindex(shuffled_index)\n",
    "    \n",
    "    index_half = round(len(cars) / 2)\n",
    "    first_half = shuffled_df.iloc[:index_half]\n",
    "    second_half = shuffled_df.iloc[index_half:]  \n",
    "    \n",
    "    \n",
    "    knn.fit(first_half[traning_column], first_half[target_column])\n",
    "    predictions = knn.predict(second_half[traning_column])\n",
    "    \n",
    "    mse = mean_squared_error(second_half[target_column], predictions) \n",
    "    rmse = mse**(1/2)\n",
    "    return rmse\n",
    "\n",
    "k_values = [1, 3, 5, 7, 9]\n",
    "rmse ={}\n",
    "\n",
    "for col in cols_all:\n",
    "    rmse[col] = 0\n",
    "    rmse_each = {}\n",
    "    for k in k_values:\n",
    "        result = knn_train_test([col], 'price', cars, k)\n",
    "        rmse_each[k] = result\n",
    "    rmse[col] = rmse_each\n",
    "        "
   ]
  },
  {
   "cell_type": "code",
   "execution_count": 16,
   "metadata": {
    "collapsed": false
   },
   "outputs": [
    {
     "data": {
      "text/plain": [
       "{'bore': {1: 8602.58848450066,\n",
       "  3: 6984.239489480916,\n",
       "  5: 6780.627784685976,\n",
       "  7: 6878.097965921532,\n",
       "  9: 6866.808502038413},\n",
       " 'city-mpg': {1: 5901.143574354764,\n",
       "  3: 4646.746408727155,\n",
       "  5: 4766.422505090134,\n",
       "  7: 5232.523034167316,\n",
       "  9: 5465.209492527533},\n",
       " 'compression-rate': {1: 8087.205346523092,\n",
       "  3: 7375.063685578359,\n",
       "  5: 6610.812153159129,\n",
       "  7: 6732.801282941515,\n",
       "  9: 7024.485525463435},\n",
       " 'curb-weight': {1: 5264.290230758878,\n",
       "  3: 5022.318011757233,\n",
       "  5: 4401.118254793124,\n",
       "  7: 4330.608104418053,\n",
       "  9: 4632.044474454401},\n",
       " 'engine-size': {1: 3258.4861059962027,\n",
       "  3: 2840.562805643501,\n",
       "  5: 3238.4628296477176,\n",
       "  7: 3563.086774256415,\n",
       "  9: 3831.8244149840766},\n",
       " 'height': {1: 8904.04645636071,\n",
       "  3: 8277.609643045525,\n",
       "  5: 8144.441042663747,\n",
       "  7: 7679.598124393773,\n",
       "  9: 7811.03606291223},\n",
       " 'highway-mpg': {1: 6025.594966720739,\n",
       "  3: 4617.305019788554,\n",
       "  5: 4630.026798588056,\n",
       "  7: 4796.061440186946,\n",
       "  9: 5278.358056953987},\n",
       " 'horsepower': {1: 4170.054848037801,\n",
       "  3: 4020.8492630885394,\n",
       "  5: 4037.0377131537603,\n",
       "  7: 4353.811860277134,\n",
       "  9: 4515.135617419103},\n",
       " 'length': {1: 4628.45550121557,\n",
       "  3: 5129.8358210721635,\n",
       "  5: 5427.2009608367125,\n",
       "  7: 5313.427720847974,\n",
       "  9: 5383.054514833446},\n",
       " 'normalized-losses': {1: 7846.750605148984,\n",
       "  3: 7500.5698123109905,\n",
       "  5: 7330.197653434445,\n",
       "  7: 7756.421586234123,\n",
       "  9: 7688.096096891432},\n",
       " 'peak-rpm': {1: 9511.480067750124,\n",
       "  3: 8537.550899973421,\n",
       "  5: 7697.4596964334805,\n",
       "  7: 7510.294160083481,\n",
       "  9: 7340.041341263401},\n",
       " 'stroke': {1: 9116.495955406906,\n",
       "  3: 7338.68466990294,\n",
       "  5: 8006.529544647101,\n",
       "  7: 7803.937796804327,\n",
       "  9: 7735.554366079291},\n",
       " 'wheel-base': {1: 4493.734068810494,\n",
       "  3: 5120.161506064513,\n",
       "  5: 5461.553997873057,\n",
       "  7: 5448.1070513823315,\n",
       "  9: 5738.405685192312},\n",
       " 'width': {1: 4559.257297950061,\n",
       "  3: 4606.413692169901,\n",
       "  5: 4704.482589704386,\n",
       "  7: 4571.485046194653,\n",
       "  9: 4652.914172067787}}"
      ]
     },
     "execution_count": 16,
     "metadata": {},
     "output_type": "execute_result"
    }
   ],
   "source": [
    "rmse"
   ]
  },
  {
   "cell_type": "code",
   "execution_count": 17,
   "metadata": {
    "collapsed": false
   },
   "outputs": [
    {
     "data": {
      "image/png": "[encoded data removed]",
      "text/plain": [
       "<matplotlib.figure.Figure at 0x7ff051da4a90>"
      ]
     },
     "metadata": {},
     "output_type": "display_data"
    }
   ],
   "source": [
    "import matplotlib.pyplot as plt\n",
    "%matplotlib inline\n",
    "\n",
    "for k,v in rmse.items():\n",
    "    x = list(v.keys())\n",
    "    y = list(v.values())\n",
    "    \n",
    "    plt.plot(x,y)\n",
    "    plt.xlabel('k value')\n",
    "    plt.ylabel('RMSE')    "
   ]
  },
  {
   "cell_type": "markdown",
   "metadata": {},
   "source": [
    "## Multivariate Model\n",
    "\n",
    "Let's add some features to our model. As we saw above using only 1 column makes prediction not accurate. We'll set now default `k` value and check:\n",
    "\n",
    "* best 2 features,\n",
    "* best 3 features,\n",
    "* best 4 features,\n",
    "* best 5 features."
   ]
  },
  {
   "cell_type": "code",
   "execution_count": 18,
   "metadata": {
    "collapsed": false
   },
   "outputs": [
    {
     "data": {
      "text/plain": [
       "engine-size          3238.462830\n",
       "horsepower           4037.037713\n",
       "curb-weight          4401.118255\n",
       "highway-mpg          4630.026799\n",
       "width                4704.482590\n",
       "city-mpg             4766.422505\n",
       "length               5427.200961\n",
       "wheel-base           5461.553998\n",
       "compression-rate     6610.812153\n",
       "bore                 6780.627785\n",
       "normalized-losses    7330.197653\n",
       "peak-rpm             7697.459696\n",
       "stroke               8006.529545\n",
       "height               8144.441043\n",
       "dtype: float64"
      ]
     },
     "execution_count": 18,
     "metadata": {},
     "output_type": "execute_result"
    }
   ],
   "source": [
    "rmse_cols.sort_values()"
   ]
  },
  {
   "cell_type": "code",
   "execution_count": 19,
   "metadata": {
    "collapsed": false
   },
   "outputs": [
    {
     "data": {
      "text/plain": [
       "{'2 best': 2949.8817277180374,\n",
       " '3 best': 3435.2601095401815,\n",
       " '4 best': 3286.5597353252815,\n",
       " '5 best': 3410.2170133901805}"
      ]
     },
     "execution_count": 19,
     "metadata": {},
     "output_type": "execute_result"
    }
   ],
   "source": [
    "rmse_features = {}\n",
    "\n",
    "rmse_features['2 best'] = knn_train_test(['engine-size', 'horsepower'], 'price', cars, 5)\n",
    "rmse_features['3 best'] = knn_train_test(['engine-size', 'horsepower', 'curb-weight'], 'price', cars, 5)\n",
    "rmse_features['4 best'] = knn_train_test(['engine-size', 'horsepower', 'curb-weight', 'highway-mpg'], 'price', cars, 5)\n",
    "rmse_features['5 best'] = knn_train_test(['engine-size', 'horsepower', 'curb-weight', 'highway-mpg', 'width'], 'price', cars, 5)\n",
    "\n",
    "rmse_features"
   ]
  },
  {
   "cell_type": "markdown",
   "metadata": {},
   "source": [
    "## Hyperparameter Tuning\n",
    "\n",
    "Let's now optimize the model that performed the best in the previous step."
   ]
  },
  {
   "cell_type": "code",
   "execution_count": 20,
   "metadata": {
    "collapsed": false
   },
   "outputs": [],
   "source": [
    "def knn_train_test(traning_column, target_column, df):\n",
    "    \n",
    "    \n",
    "    np.random.seed(1)\n",
    "    \n",
    "    shuffled_index = np.random.permutation(df.index)\n",
    "    shuffled_df = df.reindex(shuffled_index)\n",
    "    \n",
    "    index_half = round(len(cars) / 2)\n",
    "    first_half = shuffled_df.iloc[:index_half]\n",
    "    second_half = shuffled_df.iloc[index_half:]  \n",
    "    \n",
    "    k_values = [x for x in range(1,26)]\n",
    "    k_rmse = {}\n",
    "    \n",
    "    for k in k_values:\n",
    "        knn = KNeighborsRegressor(n_neighbors=k)\n",
    "        knn.fit(first_half[traning_column], first_half[target_column])\n",
    "        predictions = knn.predict(second_half[traning_column])\n",
    "    \n",
    "        mse = mean_squared_error(second_half[target_column], predictions) \n",
    "        rmse = mse**(1/2)\n",
    "        k_rmse[k] = rmse\n",
    "        \n",
    "    return k_rmse\n",
    "\n",
    "rmse_k = {}\n",
    "rmse_k['2 best'] = knn_train_test(['engine-size', 'horsepower'], 'price', cars)\n",
    "rmse_k['5 best'] = knn_train_test(['engine-size', 'horsepower', 'curb-weight', 'highway-mpg', 'width'], 'price', cars)\n",
    "rmse_k['4 best'] = knn_train_test(['engine-size', 'horsepower', 'curb-weight', 'highway-mpg'], 'price', cars)"
   ]
  },
  {
   "cell_type": "code",
   "execution_count": 21,
   "metadata": {
    "collapsed": false
   },
   "outputs": [
    {
     "data": {
      "text/plain": [
       "{'2 best': {1: 2783.6204237227344,\n",
       "  2: 2657.7963807419765,\n",
       "  3: 2792.586573031673,\n",
       "  4: 2891.5329686923255,\n",
       "  5: 2949.8817277180374,\n",
       "  6: 3096.402601694776,\n",
       "  7: 3164.681969020496,\n",
       "  8: 3413.228359192009,\n",
       "  9: 3748.6716603306486,\n",
       "  10: 4080.7125057341937,\n",
       "  11: 4215.6372280600335,\n",
       "  12: 4275.421524277872,\n",
       "  13: 4373.901683035496,\n",
       "  14: 4424.285137239815,\n",
       "  15: 4539.505493095937,\n",
       "  16: 4667.307671446768,\n",
       "  17: 4729.605305844226,\n",
       "  18: 4790.556632159094,\n",
       "  19: 4824.3866193292615,\n",
       "  20: 4840.850914693829,\n",
       "  21: 4837.429062000271,\n",
       "  22: 4831.16988267597,\n",
       "  23: 4861.679492959275,\n",
       "  24: 4903.346008862579,\n",
       "  25: 4955.892429427362},\n",
       " '4 best': {1: 2927.820116343107,\n",
       "  2: 2600.431466008274,\n",
       "  3: 2799.0983199667144,\n",
       "  4: 3074.9999988931822,\n",
       "  5: 3286.5597353252815,\n",
       "  6: 3705.1702717384333,\n",
       "  7: 3822.180444798032,\n",
       "  8: 3986.7014080509525,\n",
       "  9: 4210.340136384571,\n",
       "  10: 4213.315457869819,\n",
       "  11: 4182.323353796191,\n",
       "  12: 4288.696189501458,\n",
       "  13: 4249.894628724804,\n",
       "  14: 4357.287937912011,\n",
       "  15: 4451.408927529352,\n",
       "  16: 4459.2244133241875,\n",
       "  17: 4495.028598279714,\n",
       "  18: 4546.50352887804,\n",
       "  19: 4643.185310790349,\n",
       "  20: 4668.634597012364,\n",
       "  21: 4698.7862455275545,\n",
       "  22: 4700.1491313974975,\n",
       "  23: 4711.210423921079,\n",
       "  24: 4739.97994062864,\n",
       "  25: 4766.177179071813},\n",
       " '5 best': {1: 2824.7061233282866,\n",
       "  2: 2915.6731645496975,\n",
       "  3: 3012.4204546509704,\n",
       "  4: 3202.8876051367483,\n",
       "  5: 3410.2170133901805,\n",
       "  6: 3618.4509432660384,\n",
       "  7: 3622.6290209234803,\n",
       "  8: 3848.635835654326,\n",
       "  9: 3977.8149139381726,\n",
       "  10: 3994.8132211260104,\n",
       "  11: 4159.843526607947,\n",
       "  12: 4294.3389473154875,\n",
       "  13: 4380.848359486949,\n",
       "  14: 4466.368754416089,\n",
       "  15: 4522.420711094978,\n",
       "  16: 4536.427578452413,\n",
       "  17: 4587.098443664006,\n",
       "  18: 4622.107837952761,\n",
       "  19: 4612.890107622797,\n",
       "  20: 4632.693976139521,\n",
       "  21: 4712.917548435062,\n",
       "  22: 4676.301064518744,\n",
       "  23: 4691.189310956096,\n",
       "  24: 4755.990767231825,\n",
       "  25: 4804.323266214411}}"
      ]
     },
     "execution_count": 21,
     "metadata": {},
     "output_type": "execute_result"
    }
   ],
   "source": [
    "rmse_k"
   ]
  },
  {
   "cell_type": "code",
   "execution_count": 22,
   "metadata": {
    "collapsed": false,
    "scrolled": true
   },
   "outputs": [
    {
     "data": {
      "image/png": "[encoded data removed]",
      "text/plain": [
       "<matplotlib.figure.Figure at 0x7ff04954d710>"
      ]
     },
     "metadata": {},
     "output_type": "display_data"
    }
   ],
   "source": [
    "for k,v in rmse_k.items():\n",
    "    x = list(v.keys())\n",
    "    y = list(v.values())  \n",
    "    plt.plot(x,y, label=\"{}\".format(k))\n",
    "    \n",
    "plt.xlabel('k value')\n",
    "plt.ylabel('RMSE')\n",
    "plt.legend(loc=\"upper left\")\n",
    "plt.show()"
   ]
  },
  {
   "cell_type": "markdown",
   "metadata": {},
   "source": [
    "## Cross validation\n",
    "\n",
    "We will also check another technique - cross validation instead of test/train validation. Previous we split dataset on half. Now we will split our dataset on 5 parts. "
   ]
  },
  {
   "cell_type": "code",
   "execution_count": 23,
   "metadata": {
    "collapsed": false,
    "scrolled": true
   },
   "outputs": [
    {
     "data": {
      "text/html": [
       "<div>\n",
       "<style scoped>\n",
       "    .dataframe tbody tr th:only-of-type {\n",
       "        vertical-align: middle;\n",
       "    }\n",
       "\n",
       "    .dataframe tbody tr th {\n",
       "        vertical-align: top;\n",
       "    }\n",
       "\n",
       "    .dataframe thead th {\n",
       "        text-align: right;\n",
       "    }\n",
       "</style>\n",
       "<table border=\"1\" class=\"dataframe\">\n",
       "  <thead>\n",
       "    <tr style=\"text-align: right;\">\n",
       "      <th></th>\n",
       "      <th>normalized-losses</th>\n",
       "      <th>wheel-base</th>\n",
       "      <th>length</th>\n",
       "      <th>width</th>\n",
       "      <th>height</th>\n",
       "      <th>curb-weight</th>\n",
       "      <th>engine-size</th>\n",
       "      <th>bore</th>\n",
       "      <th>stroke</th>\n",
       "      <th>compression-rate</th>\n",
       "      <th>horsepower</th>\n",
       "      <th>peak-rpm</th>\n",
       "      <th>city-mpg</th>\n",
       "      <th>highway-mpg</th>\n",
       "      <th>price</th>\n",
       "      <th>fold</th>\n",
       "    </tr>\n",
       "  </thead>\n",
       "  <tbody>\n",
       "    <tr>\n",
       "      <th>0</th>\n",
       "      <td>0.298429</td>\n",
       "      <td>0.058309</td>\n",
       "      <td>0.413433</td>\n",
       "      <td>0.324786</td>\n",
       "      <td>0.083333</td>\n",
       "      <td>0.411171</td>\n",
       "      <td>0.260377</td>\n",
       "      <td>0.664286</td>\n",
       "      <td>0.290476</td>\n",
       "      <td>0.1250</td>\n",
       "      <td>0.294393</td>\n",
       "      <td>0.346939</td>\n",
       "      <td>0.222222</td>\n",
       "      <td>0.289474</td>\n",
       "      <td>13495.0</td>\n",
       "      <td>1.0</td>\n",
       "    </tr>\n",
       "    <tr>\n",
       "      <th>1</th>\n",
       "      <td>0.298429</td>\n",
       "      <td>0.058309</td>\n",
       "      <td>0.413433</td>\n",
       "      <td>0.324786</td>\n",
       "      <td>0.083333</td>\n",
       "      <td>0.411171</td>\n",
       "      <td>0.260377</td>\n",
       "      <td>0.664286</td>\n",
       "      <td>0.290476</td>\n",
       "      <td>0.1250</td>\n",
       "      <td>0.294393</td>\n",
       "      <td>0.346939</td>\n",
       "      <td>0.222222</td>\n",
       "      <td>0.289474</td>\n",
       "      <td>16500.0</td>\n",
       "      <td>1.0</td>\n",
       "    </tr>\n",
       "    <tr>\n",
       "      <th>2</th>\n",
       "      <td>0.298429</td>\n",
       "      <td>0.230321</td>\n",
       "      <td>0.449254</td>\n",
       "      <td>0.444444</td>\n",
       "      <td>0.383333</td>\n",
       "      <td>0.517843</td>\n",
       "      <td>0.343396</td>\n",
       "      <td>0.100000</td>\n",
       "      <td>0.666667</td>\n",
       "      <td>0.1250</td>\n",
       "      <td>0.495327</td>\n",
       "      <td>0.346939</td>\n",
       "      <td>0.166667</td>\n",
       "      <td>0.263158</td>\n",
       "      <td>16500.0</td>\n",
       "      <td>1.0</td>\n",
       "    </tr>\n",
       "    <tr>\n",
       "      <th>3</th>\n",
       "      <td>0.518325</td>\n",
       "      <td>0.384840</td>\n",
       "      <td>0.529851</td>\n",
       "      <td>0.504274</td>\n",
       "      <td>0.541667</td>\n",
       "      <td>0.329325</td>\n",
       "      <td>0.181132</td>\n",
       "      <td>0.464286</td>\n",
       "      <td>0.633333</td>\n",
       "      <td>0.1875</td>\n",
       "      <td>0.252336</td>\n",
       "      <td>0.551020</td>\n",
       "      <td>0.305556</td>\n",
       "      <td>0.368421</td>\n",
       "      <td>13950.0</td>\n",
       "      <td>1.0</td>\n",
       "    </tr>\n",
       "    <tr>\n",
       "      <th>4</th>\n",
       "      <td>0.518325</td>\n",
       "      <td>0.373178</td>\n",
       "      <td>0.529851</td>\n",
       "      <td>0.521368</td>\n",
       "      <td>0.541667</td>\n",
       "      <td>0.518231</td>\n",
       "      <td>0.283019</td>\n",
       "      <td>0.464286</td>\n",
       "      <td>0.633333</td>\n",
       "      <td>0.0625</td>\n",
       "      <td>0.313084</td>\n",
       "      <td>0.551020</td>\n",
       "      <td>0.138889</td>\n",
       "      <td>0.157895</td>\n",
       "      <td>17450.0</td>\n",
       "      <td>1.0</td>\n",
       "    </tr>\n",
       "  </tbody>\n",
       "</table>\n",
       "</div>"
      ],
      "text/plain": [
       "   normalized-losses  wheel-base    length     width    height  curb-weight  \\\n",
       "0           0.298429    0.058309  0.413433  0.324786  0.083333     0.411171   \n",
       "1           0.298429    0.058309  0.413433  0.324786  0.083333     0.411171   \n",
       "2           0.298429    0.230321  0.449254  0.444444  0.383333     0.517843   \n",
       "3           0.518325    0.384840  0.529851  0.504274  0.541667     0.329325   \n",
       "4           0.518325    0.373178  0.529851  0.521368  0.541667     0.518231   \n",
       "\n",
       "   engine-size      bore    stroke  compression-rate  horsepower  peak-rpm  \\\n",
       "0     0.260377  0.664286  0.290476            0.1250    0.294393  0.346939   \n",
       "1     0.260377  0.664286  0.290476            0.1250    0.294393  0.346939   \n",
       "2     0.343396  0.100000  0.666667            0.1250    0.495327  0.346939   \n",
       "3     0.181132  0.464286  0.633333            0.1875    0.252336  0.551020   \n",
       "4     0.283019  0.464286  0.633333            0.0625    0.313084  0.551020   \n",
       "\n",
       "   city-mpg  highway-mpg    price  fold  \n",
       "0  0.222222     0.289474  13495.0   1.0  \n",
       "1  0.222222     0.289474  16500.0   1.0  \n",
       "2  0.166667     0.263158  16500.0   1.0  \n",
       "3  0.305556     0.368421  13950.0   1.0  \n",
       "4  0.138889     0.157895  17450.0   1.0  "
      ]
     },
     "execution_count": 23,
     "metadata": {},
     "output_type": "execute_result"
    }
   ],
   "source": [
    "cars.loc[cars.index[0:40], \"fold\"] = 1\n",
    "cars.loc[cars.index[40:80], \"fold\"] = 2\n",
    "cars.loc[cars.index[80:120], \"fold\"] = 3\n",
    "cars.loc[cars.index[120:160], \"fold\"] = 4\n",
    "cars.loc[cars.index[160:], \"fold\"] = 5\n",
    "\n",
    "cars.head()"
   ]
  },
  {
   "cell_type": "code",
   "execution_count": 24,
   "metadata": {
    "collapsed": false
   },
   "outputs": [
    {
     "data": {
      "text/plain": [
       "[3996.4477845957153,\n",
       " 4357.911313806191,\n",
       " 3388.27634793858,\n",
       " 2689.208208562513,\n",
       " 3798.278277350821]"
      ]
     },
     "execution_count": 24,
     "metadata": {},
     "output_type": "execute_result"
    }
   ],
   "source": [
    "fold_ids = [1,2,3,4,5]\n",
    "\n",
    "def knn_train_test_cross(df, folds):\n",
    "    \n",
    "    rmses_list = []\n",
    "    for fold in folds:\n",
    "        knn = KNeighborsRegressor()\n",
    "        train = df[df['fold'] != fold].copy()\n",
    "        test = df[df['fold'] == fold].copy()\n",
    "        knn.fit(train[['engine-size', 'horsepower']], train['price'])\n",
    "        predict = knn.predict(test[['engine-size', 'horsepower']])\n",
    "        rmse = mean_squared_error(test['price'], predict)**(1/2)\n",
    "        rmses_list.append(rmse)\n",
    "    return rmses_list\n",
    "\n",
    "rmse = knn_train_test_cross(cars, fold_ids)\n",
    "\n",
    "rmse"
   ]
  },
  {
   "cell_type": "markdown",
   "metadata": {},
   "source": [
    "## Conclusions\n",
    "\n",
    "We build machine learing model using the k-nearest neighbors algorithm to predcit car prices. We noticed that:\n",
    "\n",
    "* `k` value = 2 is the best value to set in model with 2 best and 4 best features\n",
    "* using only one feature the best is `engine-size` column with rmse = 3238\n",
    "* the lowest rmse value (2600) was result of using 4 features: `'engine-size', 'horsepower', 'curb-weight', 'highway-mpg'` and k = 2\n",
    "* test/train validation method gave us better resultat in lower rmse than using cross validation, however the difference is not large\n",
    "\n",
    "However, our model predict prices with large approximation. One of the reson could be a very small dataset."
   ]
  }
 ],
 "metadata": {
  "kernelspec": {
   "display_name": "Python 3",
   "language": "python",
   "name": "python3"
  },
  "language_info": {
   "codemirror_mode": {
    "name": "ipython",
    "version": 3
   },
   "file_extension": ".py",
   "mimetype": "text/x-python",
   "name": "python",
   "nbconvert_exporter": "python",
   "pygments_lexer": "ipython3",
   "version": "3.4.3"
  }
 },
 "nbformat": 4,
 "nbformat_minor": 2
}
