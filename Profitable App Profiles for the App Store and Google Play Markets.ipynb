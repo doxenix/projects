{
 "cells": [
  {
   "cell_type": "markdown",
   "metadata": {},
   "source": [
    "# Profitable App Profiles for the App Store and Google Play Markets\n",
    "\n",
    "The project is devoted to free to download iOS and Android apps analysis. We assume, we're working for a company that builds Android and iOS apps and our aim is to find mobile app profiles which are profitable for App Store and Google Play markets.\n",
    "\n",
    "We'll analyse free Android and iOS apps to find which apps categories are the most popular amoung useres and on this basis, we'll propose a type of app which may has the biggest chance to gain more popularity than another app profiles.\n",
    "\n",
    "Apple Store data set is available [here](https://www.kaggle.com/ramamet4/app-store-apple-data-set-10k-apps/home)\n",
    "\n",
    "Google Play data set is available [here](https://www.kaggle.com/lava18/google-play-store-apps)\n",
    "\n"
   ]
  },
  {
   "cell_type": "markdown",
   "metadata": {},
   "source": [
    "Let's explore our data sets. First, we will open and read both files: *AppleStore.csv* and *googleplaystore.csv*"
   ]
  },
  {
   "cell_type": "code",
   "execution_count": 1,
   "metadata": {},
   "outputs": [],
   "source": [
    "from csv import reader\n",
    "\n",
    "#Apple Store dataset\n",
    "oppend_file = open('AppleStore.csv', encoding=\"utf8\")\n",
    "read_file = reader(oppend_file)\n",
    "ios_apps_data = list(read_file)\n",
    "\n",
    "#Google Play dataset\n",
    "oppend_file = open('googleplaystore.csv', encoding=\"utf8\")\n",
    "read_file = reader(oppend_file)\n",
    "android_apps_data = list(read_file)\n",
    "\n",
    "\n",
    "def explore_data(dataset, start, end, rows_and_columns=False):\n",
    "    dataset_slice = dataset[start:end]    \n",
    "    for row in dataset_slice:\n",
    "        print(row)\n",
    "        print('\\n') # adds a new (empty) line after each row\n",
    "\n",
    "    if rows_and_columns:\n",
    "        print('Number of rows:', len(dataset))\n",
    "        print('Number of columns:', len(dataset[0]))"
   ]
  },
  {
   "cell_type": "code",
   "execution_count": 2,
   "metadata": {},
   "outputs": [
    {
     "name": "stdout",
     "output_type": "stream",
     "text": [
      "['App', 'Category', 'Rating', 'Reviews', 'Size', 'Installs', 'Type', 'Price', 'Content Rating', 'Genres', 'Last Updated', 'Current Ver', 'Android Ver']\n",
      "\n",
      "\n",
      "['Photo Editor & Candy Camera & Grid & ScrapBook', 'ART_AND_DESIGN', '4.1', '159', '19M', '10,000+', 'Free', '0', 'Everyone', 'Art & Design', 'January 7, 2018', '1.0.0', '4.0.3 and up']\n",
      "\n",
      "\n",
      "Number of rows: 10842\n",
      "Number of columns: 13\n"
     ]
    }
   ],
   "source": [
    "explore_data(android_apps_data, 0, 2, True)"
   ]
  },
  {
   "cell_type": "code",
   "execution_count": 3,
   "metadata": {},
   "outputs": [
    {
     "name": "stdout",
     "output_type": "stream",
     "text": [
      "['id', 'track_name', 'size_bytes', 'currency', 'price', 'rating_count_tot', 'rating_count_ver', 'user_rating', 'user_rating_ver', 'ver', 'cont_rating', 'prime_genre', 'sup_devices.num', 'ipadSc_urls.num', 'lang.num', 'vpp_lic']\n",
      "\n",
      "\n",
      "['284882215', 'Facebook', '389879808', 'USD', '0.0', '2974676', '212', '3.5', '3.5', '95.0', '4+', 'Social Networking', '37', '1', '29', '1']\n",
      "\n",
      "\n",
      "Number of rows: 7198\n",
      "Number of columns: 16\n"
     ]
    }
   ],
   "source": [
    "explore_data(ios_apps_data, 0, 2, True)"
   ]
  },
  {
   "cell_type": "markdown",
   "metadata": {},
   "source": [
    "Description of each column in Apple Store data set: [Link](https://www.kaggle.com/ramamet4/app-store-apple-data-set-10k-apps)"
   ]
  },
  {
   "cell_type": "code",
   "execution_count": 4,
   "metadata": {},
   "outputs": [],
   "source": [
    "# Delete one row [10473] index, one column is missing there\n",
    "del android_apps_data[10473]"
   ]
  },
  {
   "cell_type": "code",
   "execution_count": 5,
   "metadata": {},
   "outputs": [],
   "source": [
    "#Checking duplicates for Apple Dataset\n",
    "\n",
    "ios_unique_apps = [] \n",
    "ios_duplicate_apps = [] \n",
    "\n",
    "for app in ios_apps_data: \n",
    "    app_id = app[0] \n",
    "\n",
    "    if app_id in ios_unique_apps:\n",
    "        ios_duplicate_apps.append(app_id)\n",
    "    else:\n",
    "        ios_unique_apps.append(app_id)"
   ]
  },
  {
   "cell_type": "code",
   "execution_count": 6,
   "metadata": {},
   "outputs": [
    {
     "name": "stdout",
     "output_type": "stream",
     "text": [
      "The number of duplicates in Apple Store Dataset:  0\n"
     ]
    }
   ],
   "source": [
    "print(\"The number of duplicates in Apple Store Dataset: \", len(ios_duplicate_apps))"
   ]
  },
  {
   "cell_type": "code",
   "execution_count": 7,
   "metadata": {},
   "outputs": [],
   "source": [
    "#Checking duplicates for Google Play Dataset\n",
    "\n",
    "android_unique_apps = [] \n",
    "android_duplicate_apps = [] \n",
    "\n",
    "for app in android_apps_data: \n",
    "    app_name = app[0] \n",
    "\n",
    "    if app_name in android_unique_apps:\n",
    "        android_duplicate_apps.append(app_name)\n",
    "    else:\n",
    "        android_unique_apps.append(app_name)"
   ]
  },
  {
   "cell_type": "code",
   "execution_count": 8,
   "metadata": {},
   "outputs": [
    {
     "name": "stdout",
     "output_type": "stream",
     "text": [
      "The number of duplicates in Google Play Dataset:  1181\n",
      "3 examples: \n",
      "\n",
      "Quick PDF Scanner + OCR FREE\n",
      "\n",
      "\n",
      "Box\n",
      "\n",
      "\n",
      "Google My Business\n",
      "\n",
      "\n"
     ]
    }
   ],
   "source": [
    "print(\"The number of duplicates in Google Play Dataset: \", len(android_duplicate_apps))\n",
    "print(\"3 examples: \\n\")\n",
    "\n",
    "explore_data(android_duplicate_apps, 0, 3)"
   ]
  },
  {
   "cell_type": "markdown",
   "metadata": {},
   "source": [
    "We can't remove dupliactes randomly. We have to decide, which duplacte we will remove. \n",
    "Our duplicates contain diffrent number of reviews, so we will choose row-app with the most user reviews. \n",
    "The others with less numbr of reviews we will delete from dataset.\n",
    "\n",
    "1. We created an empty **dictionary** to find one app with the highest number of reviews  among our duplacates.\n",
    "2. We loop through the Google Play data set.\n",
    "3. We adding name of app as a key and number of reviews as a value to our *reviews_max* **dictonary**.\n",
    "4. If we find the duplicate and the number of reviews is higher than our already exists item in *reviews_max* **dictonary**, we uppdate this value. \n"
   ]
  },
  {
   "cell_type": "code",
   "execution_count": 9,
   "metadata": {},
   "outputs": [],
   "source": [
    "reviews_max = {}\n",
    "\n",
    "for app in android_apps_data[1:]:\n",
    "    name = app[0]\n",
    "    n_reviews = float(app[3])\n",
    "    \n",
    "    if name in reviews_max and reviews_max[name] < n_reviews:\n",
    "        reviews_max[name] =  n_reviews\n",
    "    elif name not in reviews_max:\n",
    "        reviews_max[name] = n_reviews"
   ]
  },
  {
   "cell_type": "code",
   "execution_count": 10,
   "metadata": {},
   "outputs": [
    {
     "data": {
      "text/plain": [
       "9659"
      ]
     },
     "execution_count": 10,
     "metadata": {},
     "output_type": "execute_result"
    }
   ],
   "source": [
    "len(reviews_max)"
   ]
  },
  {
   "cell_type": "markdown",
   "metadata": {},
   "source": [
    "Next, we will clean our data set. \n",
    "\n",
    "1. We created two empty lists: *android_clean* and *already_added*.\n",
    "2. We loop through the android data set.\n",
    "3. We're checking if current number of reviews is equal to our value in *reviews_max* **dictionary** and we have to check also if app row hasn't been added before. Some duplicates has the same number of review. The *already_added* **list** contains the unqiue apps name"
   ]
  },
  {
   "cell_type": "code",
   "execution_count": 11,
   "metadata": {},
   "outputs": [],
   "source": [
    "android_clean = []\n",
    "already_added = []\n",
    "\n",
    "for app in android_apps_data[1:]:\n",
    "    name = app[0]\n",
    "    n_reviews = float(app[3])\n",
    "    \n",
    "    if (n_reviews == reviews_max[name]) and (name not in already_added):\n",
    "        android_clean.append(app)\n",
    "        already_added.append(name)"
   ]
  },
  {
   "cell_type": "code",
   "execution_count": 12,
   "metadata": {},
   "outputs": [
    {
     "data": {
      "text/plain": [
       "9659"
      ]
     },
     "execution_count": 12,
     "metadata": {},
     "output_type": "execute_result"
    }
   ],
   "source": [
    "len(android_clean)\n",
    "\n",
    "#After cleaning process, our Google Play data set contains 9659 rows"
   ]
  },
  {
   "cell_type": "code",
   "execution_count": 13,
   "metadata": {},
   "outputs": [
    {
     "data": {
      "text/plain": [
       "7197"
      ]
     },
     "execution_count": 13,
     "metadata": {},
     "output_type": "execute_result"
    }
   ],
   "source": [
    "len(ios_apps_data[1:])\n",
    "\n",
    "#Just for record, App Store has 7197 rows"
   ]
  },
  {
   "cell_type": "code",
   "execution_count": 14,
   "metadata": {},
   "outputs": [],
   "source": [
    "def check_if_eng(name):\n",
    "    for letter in name:\n",
    "        if ord(letter) > 127:\n",
    "            return False\n",
    "    return True\n",
    "    "
   ]
  },
  {
   "cell_type": "code",
   "execution_count": 15,
   "metadata": {},
   "outputs": [
    {
     "name": "stdout",
     "output_type": "stream",
     "text": [
      "False\n",
      "False\n",
      "False\n"
     ]
    }
   ],
   "source": [
    "print(check_if_eng('Docs To Go™ Free Office Suite'))\n",
    "print(check_if_eng('Instachat 😜'))\n",
    "print(check_if_eng('爱奇艺PPS -《欢乐颂2》电视剧热播'))\n"
   ]
  },
  {
   "cell_type": "markdown",
   "metadata": {},
   "source": [
    "We may see that our created **function** - *check_if_eng(name)* is not perfect. Some symbols like (™) is outside our range for english letters.\n",
    "\n",
    "We will uppdate our *check_if_eng(name)* **function**"
   ]
  },
  {
   "cell_type": "code",
   "execution_count": 16,
   "metadata": {},
   "outputs": [],
   "source": [
    "def check_if_eng(name):\n",
    "    none_eng_letters = 0\n",
    "    \n",
    "    for letter in name:\n",
    "        if ord(letter) > 127:\n",
    "            none_eng_letters += 1\n",
    "    if none_eng_letters > 3:\n",
    "        return False\n",
    "    else:\n",
    "        return True"
   ]
  },
  {
   "cell_type": "markdown",
   "metadata": {},
   "source": [
    "We assume that 3 letter from out of our range are acceptable to treats app name as english."
   ]
  },
  {
   "cell_type": "code",
   "execution_count": 17,
   "metadata": {},
   "outputs": [],
   "source": [
    "#Deleting no-english apps in Google Play data set\n",
    "eng_android_apps_data = []\n",
    "\n",
    "for row in android_clean:\n",
    "    name = row[0]\n",
    "    eng_name = check_if_eng(name)\n",
    "    if eng_name:\n",
    "        eng_android_apps_data.append(row)\n",
    "        "
   ]
  },
  {
   "cell_type": "code",
   "execution_count": 18,
   "metadata": {},
   "outputs": [
    {
     "data": {
      "text/plain": [
       "9614"
      ]
     },
     "execution_count": 18,
     "metadata": {},
     "output_type": "execute_result"
    }
   ],
   "source": [
    "len(eng_android_apps_data)\n",
    "#We have 9614 english apps in Google Play data set now "
   ]
  },
  {
   "cell_type": "code",
   "execution_count": 19,
   "metadata": {},
   "outputs": [],
   "source": [
    "#Deleting no-english apps in App Store data set\n",
    "eng_ios_apps_data = []\n",
    "\n",
    "for row in ios_apps_data[1:]:\n",
    "    name = row[1]\n",
    "    eng_name = check_if_eng(name)\n",
    "    if eng_name:\n",
    "        eng_ios_apps_data.append(row)\n",
    "        "
   ]
  },
  {
   "cell_type": "code",
   "execution_count": 20,
   "metadata": {},
   "outputs": [
    {
     "data": {
      "text/plain": [
       "6183"
      ]
     },
     "execution_count": 20,
     "metadata": {},
     "output_type": "execute_result"
    }
   ],
   "source": [
    "len(eng_ios_apps_data)\n",
    "#We have 6183 english apps in App Store data set now "
   ]
  },
  {
   "cell_type": "code",
   "execution_count": 21,
   "metadata": {},
   "outputs": [],
   "source": [
    "android_free_apps = []\n",
    "\n",
    "for row in eng_android_apps_data:\n",
    "    price = row[7]\n",
    "    if (price == '0') or (price == '0.0'):\n",
    "        android_free_apps.append(row)"
   ]
  },
  {
   "cell_type": "code",
   "execution_count": 22,
   "metadata": {
    "scrolled": true
   },
   "outputs": [
    {
     "data": {
      "text/plain": [
       "8864"
      ]
     },
     "execution_count": 22,
     "metadata": {},
     "output_type": "execute_result"
    }
   ],
   "source": [
    "len(android_free_apps)"
   ]
  },
  {
   "cell_type": "code",
   "execution_count": 23,
   "metadata": {},
   "outputs": [],
   "source": [
    "ios_free_apps = []\n",
    "\n",
    "for row in eng_ios_apps_data:\n",
    "    price = row[4]\n",
    "    if (price == '0') or (price == '0.0'):\n",
    "        ios_free_apps.append(row)"
   ]
  },
  {
   "cell_type": "code",
   "execution_count": 24,
   "metadata": {},
   "outputs": [
    {
     "data": {
      "text/plain": [
       "3222"
      ]
     },
     "execution_count": 24,
     "metadata": {},
     "output_type": "execute_result"
    }
   ],
   "source": [
    "len(ios_free_apps)"
   ]
  },
  {
   "cell_type": "markdown",
   "metadata": {},
   "source": [
    "After cleaning process we have:\n",
    "* 8873 Android free apps,\n",
    "* 3300 iOS free apps.\n"
   ]
  },
  {
   "cell_type": "markdown",
   "metadata": {},
   "source": [
    "Next, we will find the most popular app category in either Google Play or App Store.\n",
    "It allows to build an app, which will has the greatest chance to get to the highest number of users in both markets. \n",
    "App will create on Android first, then if will be a good users' response, our develop department put this app also in App Store after six months.\n"
   ]
  },
  {
   "cell_type": "code",
   "execution_count": 25,
   "metadata": {},
   "outputs": [],
   "source": [
    "def freq_table(dataset, index):\n",
    "    freqDict = {}\n",
    "    for row in dataset:\n",
    "        key = row[index]\n",
    "        if key in freqDict:\n",
    "            freqDict[key] += 1\n",
    "        else:\n",
    "            freqDict[key] = 1\n",
    "            \n",
    "    values_sum = sum(freqDict.values())\n",
    "        \n",
    "    for key, value in freqDict.items():\n",
    "        perc = value / values_sum * 100\n",
    "        freqDict[key] = perc\n",
    "        \n",
    "    return freqDict\n",
    "\n",
    "def display_table(dataset, index):\n",
    "    table = freq_table(dataset, index)\n",
    "    table_display = []\n",
    "    for key in table:\n",
    "        key_val_as_tuple = (table[key], key)\n",
    "        table_display.append(key_val_as_tuple)\n",
    "\n",
    "    table_sorted = sorted(table_display, reverse = True)\n",
    "    for entry in table_sorted:\n",
    "        print(entry[1], ':', entry[0])"
   ]
  },
  {
   "cell_type": "markdown",
   "metadata": {},
   "source": [
    "*Freq_table()* **function** is showing frequency of specific column in percentage.\n",
    "*Display_table()* **function** prints all items from *Freq_table()* **function**, sorted by values.\n",
    "In this case we're checking which category has the most apps.\n",
    "\n",
    "Let's see which categories have the most apps in Google Play."
   ]
  },
  {
   "cell_type": "code",
   "execution_count": 26,
   "metadata": {
    "scrolled": true
   },
   "outputs": [
    {
     "name": "stdout",
     "output_type": "stream",
     "text": [
      "FAMILY : 18.907942238267147\n",
      "GAME : 9.724729241877256\n",
      "TOOLS : 8.461191335740072\n",
      "BUSINESS : 4.591606498194946\n",
      "LIFESTYLE : 3.9034296028880866\n",
      "PRODUCTIVITY : 3.892148014440433\n",
      "FINANCE : 3.7003610108303246\n",
      "MEDICAL : 3.531137184115524\n",
      "SPORTS : 3.395758122743682\n",
      "PERSONALIZATION : 3.3167870036101084\n",
      "COMMUNICATION : 3.2378158844765346\n",
      "HEALTH_AND_FITNESS : 3.0798736462093865\n",
      "PHOTOGRAPHY : 2.944494584837545\n",
      "NEWS_AND_MAGAZINES : 2.7978339350180503\n",
      "SOCIAL : 2.6624548736462095\n",
      "TRAVEL_AND_LOCAL : 2.33528880866426\n",
      "SHOPPING : 2.2450361010830324\n",
      "BOOKS_AND_REFERENCE : 2.1435018050541514\n",
      "DATING : 1.861462093862816\n",
      "VIDEO_PLAYERS : 1.7937725631768955\n",
      "MAPS_AND_NAVIGATION : 1.3989169675090252\n",
      "FOOD_AND_DRINK : 1.2409747292418771\n",
      "EDUCATION : 1.1620036101083033\n",
      "ENTERTAINMENT : 0.9589350180505415\n",
      "LIBRARIES_AND_DEMO : 0.9363718411552346\n",
      "AUTO_AND_VEHICLES : 0.9250902527075812\n",
      "HOUSE_AND_HOME : 0.8235559566787004\n",
      "WEATHER : 0.8009927797833934\n",
      "EVENTS : 0.7107400722021661\n",
      "PARENTING : 0.6543321299638989\n",
      "ART_AND_DESIGN : 0.6430505415162455\n",
      "COMICS : 0.6204873646209386\n",
      "BEAUTY : 0.5979241877256317\n"
     ]
    }
   ],
   "source": [
    "display_table(android_free_apps, 1)"
   ]
  },
  {
   "cell_type": "markdown",
   "metadata": {},
   "source": [
    "Judging by the result above, the most free and english apps available on Android are in categories:\n",
    " * FAMILY 19%\n",
    " * GAME 10%\n",
    " * TOOLS 8,5%\n",
    " * BUSINESS 4,5%\n",
    " \n",
    " "
   ]
  },
  {
   "cell_type": "code",
   "execution_count": 27,
   "metadata": {},
   "outputs": [
    {
     "name": "stdout",
     "output_type": "stream",
     "text": [
      "Tools : 8.449909747292418\n",
      "Entertainment : 6.069494584837545\n",
      "Education : 5.347472924187725\n",
      "Business : 4.591606498194946\n",
      "Productivity : 3.892148014440433\n",
      "Lifestyle : 3.892148014440433\n",
      "Finance : 3.7003610108303246\n",
      "Medical : 3.531137184115524\n",
      "Sports : 3.463447653429603\n",
      "Personalization : 3.3167870036101084\n",
      "Communication : 3.2378158844765346\n",
      "Action : 3.1024368231046933\n",
      "Health & Fitness : 3.0798736462093865\n",
      "Photography : 2.944494584837545\n",
      "News & Magazines : 2.7978339350180503\n",
      "Social : 2.6624548736462095\n",
      "Travel & Local : 2.3240072202166067\n",
      "Shopping : 2.2450361010830324\n",
      "Books & Reference : 2.1435018050541514\n",
      "Simulation : 2.0419675090252705\n",
      "Dating : 1.861462093862816\n",
      "Arcade : 1.8501805054151623\n",
      "Video Players & Editors : 1.7712093862815883\n",
      "Casual : 1.7599277978339352\n",
      "Maps & Navigation : 1.3989169675090252\n",
      "Food & Drink : 1.2409747292418771\n",
      "Puzzle : 1.128158844765343\n",
      "Racing : 0.9927797833935018\n",
      "Role Playing : 0.9363718411552346\n",
      "Libraries & Demo : 0.9363718411552346\n",
      "Auto & Vehicles : 0.9250902527075812\n",
      "Strategy : 0.9138086642599278\n",
      "House & Home : 0.8235559566787004\n",
      "Weather : 0.8009927797833934\n",
      "Events : 0.7107400722021661\n",
      "Adventure : 0.6768953068592057\n",
      "Comics : 0.6092057761732852\n",
      "Beauty : 0.5979241877256317\n",
      "Art & Design : 0.5979241877256317\n",
      "Parenting : 0.4963898916967509\n",
      "Card : 0.45126353790613716\n",
      "Casino : 0.42870036101083037\n",
      "Trivia : 0.41741877256317694\n",
      "Educational;Education : 0.39485559566787\n",
      "Board : 0.3835740072202166\n",
      "Educational : 0.3722924187725632\n",
      "Education;Education : 0.33844765342960287\n",
      "Word : 0.2594765342960289\n",
      "Casual;Pretend Play : 0.236913357400722\n",
      "Music : 0.2030685920577617\n",
      "Racing;Action & Adventure : 0.16922382671480143\n",
      "Puzzle;Brain Games : 0.16922382671480143\n",
      "Entertainment;Music & Video : 0.16922382671480143\n",
      "Casual;Brain Games : 0.13537906137184114\n",
      "Casual;Action & Adventure : 0.13537906137184114\n",
      "Arcade;Action & Adventure : 0.12409747292418773\n",
      "Action;Action & Adventure : 0.10153429602888085\n",
      "Educational;Pretend Play : 0.09025270758122744\n",
      "Simulation;Action & Adventure : 0.078971119133574\n",
      "Parenting;Education : 0.078971119133574\n",
      "Entertainment;Brain Games : 0.078971119133574\n",
      "Board;Brain Games : 0.078971119133574\n",
      "Parenting;Music & Video : 0.06768953068592057\n",
      "Educational;Brain Games : 0.06768953068592057\n",
      "Casual;Creativity : 0.06768953068592057\n",
      "Art & Design;Creativity : 0.06768953068592057\n",
      "Education;Pretend Play : 0.056407942238267145\n",
      "Role Playing;Pretend Play : 0.04512635379061372\n",
      "Education;Creativity : 0.04512635379061372\n",
      "Role Playing;Action & Adventure : 0.033844765342960284\n",
      "Puzzle;Action & Adventure : 0.033844765342960284\n",
      "Entertainment;Creativity : 0.033844765342960284\n",
      "Entertainment;Action & Adventure : 0.033844765342960284\n",
      "Educational;Creativity : 0.033844765342960284\n",
      "Educational;Action & Adventure : 0.033844765342960284\n",
      "Education;Music & Video : 0.033844765342960284\n",
      "Education;Brain Games : 0.033844765342960284\n",
      "Education;Action & Adventure : 0.033844765342960284\n",
      "Adventure;Action & Adventure : 0.033844765342960284\n",
      "Video Players & Editors;Music & Video : 0.02256317689530686\n",
      "Sports;Action & Adventure : 0.02256317689530686\n",
      "Simulation;Pretend Play : 0.02256317689530686\n",
      "Puzzle;Creativity : 0.02256317689530686\n",
      "Music;Music & Video : 0.02256317689530686\n",
      "Entertainment;Pretend Play : 0.02256317689530686\n",
      "Casual;Education : 0.02256317689530686\n",
      "Board;Action & Adventure : 0.02256317689530686\n",
      "Video Players & Editors;Creativity : 0.01128158844765343\n",
      "Trivia;Education : 0.01128158844765343\n",
      "Travel & Local;Action & Adventure : 0.01128158844765343\n",
      "Tools;Education : 0.01128158844765343\n",
      "Strategy;Education : 0.01128158844765343\n",
      "Strategy;Creativity : 0.01128158844765343\n",
      "Strategy;Action & Adventure : 0.01128158844765343\n",
      "Simulation;Education : 0.01128158844765343\n",
      "Role Playing;Brain Games : 0.01128158844765343\n",
      "Racing;Pretend Play : 0.01128158844765343\n",
      "Puzzle;Education : 0.01128158844765343\n",
      "Parenting;Brain Games : 0.01128158844765343\n",
      "Music & Audio;Music & Video : 0.01128158844765343\n",
      "Lifestyle;Pretend Play : 0.01128158844765343\n",
      "Lifestyle;Education : 0.01128158844765343\n",
      "Health & Fitness;Education : 0.01128158844765343\n",
      "Health & Fitness;Action & Adventure : 0.01128158844765343\n",
      "Entertainment;Education : 0.01128158844765343\n",
      "Communication;Creativity : 0.01128158844765343\n",
      "Comics;Creativity : 0.01128158844765343\n",
      "Casual;Music & Video : 0.01128158844765343\n",
      "Card;Action & Adventure : 0.01128158844765343\n",
      "Books & Reference;Education : 0.01128158844765343\n",
      "Art & Design;Pretend Play : 0.01128158844765343\n",
      "Art & Design;Action & Adventure : 0.01128158844765343\n",
      "Arcade;Pretend Play : 0.01128158844765343\n",
      "Adventure;Education : 0.01128158844765343\n"
     ]
    }
   ],
   "source": [
    "display_table(android_free_apps, -4)"
   ]
  },
  {
   "cell_type": "markdown",
   "metadata": {},
   "source": [
    "We may noticed that the **Catogory** and **Genres** columns is not obvious. **Genres** column)  has much categories.\n",
    "If we look again on both columns, we can spot, that *FAMILY* category (19% share in **Catogory** column) and *Entertainment* genre (6% share in **Genres** column), which could mean that the most apps are games dedicated to entire family, including children."
   ]
  },
  {
   "cell_type": "code",
   "execution_count": 28,
   "metadata": {
    "scrolled": true
   },
   "outputs": [
    {
     "name": "stdout",
     "output_type": "stream",
     "text": [
      "Games : 58.16263190564867\n",
      "Entertainment : 7.883302296710118\n",
      "Photo & Video : 4.9658597144630665\n",
      "Education : 3.662321539416512\n",
      "Social Networking : 3.2898820608317814\n",
      "Shopping : 2.60707635009311\n",
      "Utilities : 2.5139664804469275\n",
      "Sports : 2.1415270018621975\n",
      "Music : 2.0484171322160147\n",
      "Health & Fitness : 2.0173805090006205\n",
      "Productivity : 1.7380509000620732\n",
      "Lifestyle : 1.5828677839851024\n",
      "News : 1.3345747982619491\n",
      "Travel : 1.2414649286157666\n",
      "Finance : 1.1173184357541899\n",
      "Weather : 0.8690254500310366\n",
      "Food & Drink : 0.8069522036002483\n",
      "Reference : 0.5586592178770949\n",
      "Business : 0.5276225946617008\n",
      "Book : 0.4345127250155183\n",
      "Navigation : 0.186219739292365\n",
      "Medical : 0.186219739292365\n",
      "Catalogs : 0.12414649286157665\n"
     ]
    }
   ],
   "source": [
    "display_table(ios_free_apps, -5)"
   ]
  },
  {
   "cell_type": "markdown",
   "metadata": {},
   "source": [
    "Analyzig free and english apps on iOS, we see that **Games** category has the most apps available in App Store. Next is Entertainment and this may contains appps connected with games also.\n",
    "\n",
    "We can make it clear that the largest amonut free and english iOS apps provides users fun and entertainment.\n",
    "\n",
    "At the moment, we found that the App Store is dominated by apps designed for fun, while Google Play shows a more balanced landscape of both practical and for-fun apps.\n",
    "\n",
    "But does these information indicate on the most popular categories amoung useres also? Well, we have to examine which categories have the most number of users."
   ]
  },
  {
   "cell_type": "markdown",
   "metadata": {},
   "source": [
    "# Most Popular Apps by Genre on App Store\n",
    "\n",
    "Let's see which categories have the most useres average. \n",
    "\n"
   ]
  },
  {
   "cell_type": "code",
   "execution_count": 29,
   "metadata": {},
   "outputs": [
    {
     "name": "stdout",
     "output_type": "stream",
     "text": [
      "Social Networking  :  71548\n",
      "Photo & Video  :  28442\n",
      "Games  :  22789\n",
      "Music  :  57327\n",
      "Reference  :  74942\n",
      "Health & Fitness  :  23298\n",
      "Weather  :  52280\n",
      "Utilities  :  18684\n",
      "Travel  :  28244\n",
      "Shopping  :  26920\n",
      "News  :  21248\n",
      "Navigation  :  86090\n",
      "Lifestyle  :  16486\n",
      "Entertainment  :  14030\n",
      "Food & Drink  :  33334\n",
      "Sports  :  23009\n",
      "Book  :  39758\n",
      "Finance  :  31468\n",
      "Education  :  7004\n",
      "Productivity  :  21028\n",
      "Business  :  7491\n",
      "Catalogs  :  4004\n",
      "Medical  :  612\n"
     ]
    }
   ],
   "source": [
    "ios_freq_genere = freq_table(ios_free_apps, -5)\n",
    "\n",
    "for genere in ios_freq_genere:\n",
    "    total = 0\n",
    "    len_genere = 0\n",
    "    \n",
    "    \n",
    "    for app in ios_free_apps:\n",
    "        genre_app = app[-5]\n",
    "        \n",
    "        if genre_app == genere:\n",
    "            total_user_rating = float(app[5])\n",
    "            total += total_user_rating\n",
    "            len_genere += 1\n",
    "            \n",
    "    avg_user = round(total / len_genere)\n",
    "    print(genere, ' : ', avg_user)"
   ]
  },
  {
   "cell_type": "markdown",
   "metadata": {},
   "source": [
    "We can see that on avarage, the most popular categories in App Store are:\n",
    " * Navigation (86090),\n",
    " * Reference  (74942), \n",
    " * Social Networking (71548),\n",
    " * Music (57327),\n",
    " * Weather (52280).\n",
    " \n",
    "We know now that amount of apps in each category, dosen't alwyas points on the most popular apps amoung useres."
   ]
  },
  {
   "cell_type": "code",
   "execution_count": 30,
   "metadata": {
    "scrolled": true
   },
   "outputs": [
    {
     "name": "stdout",
     "output_type": "stream",
     "text": [
      "Waze - GPS Navigation, Maps & Real-time Traffic : 345046\n",
      "Google Maps - Navigation & Transit : 154911\n",
      "Geocaching® : 12811\n",
      "CoPilot GPS – Car Navigation & Offline Maps : 3582\n",
      "ImmobilienScout24: Real Estate Search in Germany : 187\n",
      "Railway Route Search : 5\n"
     ]
    }
   ],
   "source": [
    "for app in ios_free_apps:\n",
    "    if app[-5] == 'Navigation':\n",
    "        print(app[1], ':', app[5]) # print name and number of ratings"
   ]
  },
  {
   "cell_type": "markdown",
   "metadata": {},
   "source": [
    "Ok, **Navigation** category is dominated by *Waze* and *Google Maps*. The rest apps has a little number of ratings.\n",
    "\n",
    "We can supposed that, similar situation is in Social Networking category. There are few giants, like: *Facebook, Instagram, Twitter, YouTube.* etc.\n",
    "\n",
    "**Weather** category has many users, but the problem is that people spends too little time during checking the actual wetaher.\n",
    "\n"
   ]
  },
  {
   "cell_type": "code",
   "execution_count": 31,
   "metadata": {
    "scrolled": true
   },
   "outputs": [
    {
     "name": "stdout",
     "output_type": "stream",
     "text": [
      "Pandora - Music & Radio : 1126879\n",
      "Spotify Music : 878563\n",
      "Shazam - Discover music, artists, videos & lyrics : 402925\n",
      "iHeartRadio – Free Music & Radio Stations : 293228\n",
      "SoundCloud - Music & Audio : 135744\n",
      "Magic Piano by Smule : 131695\n",
      "Smule Sing! : 119316\n",
      "TuneIn Radio - MLB NBA Audiobooks Podcasts Music : 110420\n",
      "Amazon Music : 106235\n",
      "SoundHound Song Search & Music Player : 82602\n",
      "Sonos Controller : 48905\n",
      "Bandsintown Concerts : 30845\n",
      "Karaoke - Sing Karaoke, Unlimited Songs! : 28606\n",
      "My Mixtapez Music : 26286\n",
      "Sing Karaoke Songs Unlimited with StarMaker : 26227\n",
      "Ringtones for iPhone & Ringtone Maker : 25403\n",
      "Musi - Unlimited Music For YouTube : 25193\n",
      "AutoRap by Smule : 18202\n",
      "Spinrilla - Mixtapes For Free : 15053\n",
      "Napster - Top Music & Radio : 14268\n",
      "edjing Mix:DJ turntable to remix and scratch music : 13580\n",
      "Free Music - MP3 Streamer & Playlist Manager Pro : 13443\n",
      "Free Piano app by Yokee : 13016\n",
      "Google Play Music : 10118\n",
      "Certified Mixtapes - Hip Hop Albums & Mixtapes : 9975\n",
      "TIDAL : 7398\n",
      "YouTube Music : 7109\n",
      "Nicki Minaj: The Empire : 5196\n",
      "Sounds app - Music And Friends : 5126\n",
      "SongFlip - Free Music Streamer : 5004\n",
      "Simple Radio - Live AM & FM Radio Stations : 4787\n",
      "Deezer - Listen to your Favorite Music & Playlists : 4677\n",
      "Ringtones for iPhone with Ringtone Maker : 4013\n",
      "Bose SoundTouch : 3687\n",
      "Amazon Alexa : 3018\n",
      "DatPiff : 2815\n",
      "Trebel Music - Unlimited Music Downloader : 2570\n",
      "Free Music Play - Mp3 Streamer & Player : 2496\n",
      "Acapella from PicPlayPost : 2487\n",
      "Coach Guitar - Lessons & Easy Tabs For Beginners : 2416\n",
      "Musicloud - MP3 and FLAC Music Player for Cloud Platforms. : 2211\n",
      "Piano - Play Keyboard Music Games with Magic Tiles : 1636\n",
      "Boom: Best Equalizer & Magical Surround Sound : 1375\n",
      "Music Freedom - Unlimited Free MP3 Music Streaming : 1246\n",
      "AmpMe - A Portable Social Party Music Speaker : 1047\n",
      "Medly - Music Maker : 933\n",
      "Bose Connect : 915\n",
      "Music Memos : 909\n",
      "UE BOOM : 612\n",
      "LiveMixtapes : 555\n",
      "NOISE : 355\n",
      "MP3 Music Player & Streamer for Clouds : 329\n",
      "Musical Video Maker - Create Music clips lip sync : 320\n",
      "Cloud Music Player - Downloader & Playlist Manager : 319\n",
      "Remixlive - Remix loops with pads : 288\n",
      "QQ音乐HD : 224\n",
      "Blocs Wave - Make & Record Music : 158\n",
      "PlayGround • Music At Your Fingertips : 150\n",
      "Music and Chill : 135\n",
      "The Singing Machine Mobile Karaoke App : 130\n",
      "radio.de - Der Radioplayer : 64\n",
      "Free Music -  Player & Streamer  for Dropbox, OneDrive & Google Drive : 46\n",
      "NRJ Radio : 38\n",
      "Smart Music: Streaming Videos and Radio : 17\n",
      "BOSS Tuner : 13\n",
      "PetitLyrics : 0\n"
     ]
    }
   ],
   "source": [
    "for app in ios_free_apps:\n",
    "    if app[-5] == 'Music':\n",
    "        print(app[1], ':', app[5]) # print name and number of ratings"
   ]
  },
  {
   "cell_type": "markdown",
   "metadata": {},
   "source": [
    "**Musis** *category* is also dominated by few big players like Pandora, Spotify, and Shazam. They make haeavliy inlfuence on average number.\n",
    "But we can noticed some others Music apps which have many useres."
   ]
  },
  {
   "cell_type": "code",
   "execution_count": 32,
   "metadata": {},
   "outputs": [
    {
     "name": "stdout",
     "output_type": "stream",
     "text": [
      "Bible : 985920\n",
      "Dictionary.com Dictionary & Thesaurus : 200047\n",
      "Dictionary.com Dictionary & Thesaurus for iPad : 54175\n",
      "Google Translate : 26786\n",
      "Muslim Pro: Ramadan 2017 Prayer Times, Azan, Quran : 18418\n",
      "New Furniture Mods - Pocket Wiki & Game Tools for Minecraft PC Edition : 17588\n",
      "Merriam-Webster Dictionary : 16849\n",
      "Night Sky : 12122\n",
      "City Maps for Minecraft PE - The Best Maps for Minecraft Pocket Edition (MCPE) : 8535\n",
      "LUCKY BLOCK MOD ™ for Minecraft PC Edition - The Best Pocket Wiki & Mods Installer Tools : 4693\n",
      "GUNS MODS for Minecraft PC Edition - Mods Tools : 1497\n",
      "Guides for Pokémon GO - Pokemon GO News and Cheats : 826\n",
      "WWDC : 762\n",
      "Horror Maps for Minecraft PE - Download The Scariest Maps for Minecraft Pocket Edition (MCPE) Free : 718\n",
      "VPN Express : 14\n",
      "Real Bike Traffic Rider Virtual Reality Glasses : 8\n",
      "教えて!goo : 0\n",
      "Jishokun-Japanese English Dictionary & Translator : 0\n"
     ]
    }
   ],
   "source": [
    "for app in ios_free_apps:\n",
    "    if app[-5] == 'Reference':\n",
    "        print(app[1], ':', app[5]) # print name and number of ratings"
   ]
  },
  {
   "cell_type": "markdown",
   "metadata": {},
   "source": [
    "Here, in **Reference** category, the main app is Bible and makes big influence on average number. \n",
    "\n",
    "# Most Popular Apps by Genre on Google Play\n",
    "\n",
    "Let's check our data in Google Play apps. Previous, we had accurate date about number of votes. Now, we have information about the number of installs. At face value, number of downloads seems to be more accurate than number of votes, but in this case we can see that most values are open-ended (100+, 1,000+, 5,000+, etc.):\n",
    "\n"
   ]
  },
  {
   "cell_type": "code",
   "execution_count": 33,
   "metadata": {},
   "outputs": [
    {
     "name": "stdout",
     "output_type": "stream",
     "text": [
      "1,000,000+ : 15.726534296028879\n",
      "100,000+ : 11.552346570397113\n",
      "10,000,000+ : 10.548285198555957\n",
      "10,000+ : 10.198555956678701\n",
      "1,000+ : 8.393501805054152\n",
      "100+ : 6.915613718411552\n",
      "5,000,000+ : 6.825361010830325\n",
      "500,000+ : 5.561823104693141\n",
      "50,000+ : 4.7721119133574\n",
      "5,000+ : 4.512635379061372\n",
      "10+ : 3.5424187725631766\n",
      "500+ : 3.2490974729241873\n",
      "50,000,000+ : 2.3014440433213\n",
      "100,000,000+ : 2.1322202166064983\n",
      "50+ : 1.917870036101083\n",
      "5+ : 0.78971119133574\n",
      "1+ : 0.5076714801444043\n",
      "500,000,000+ : 0.2707581227436823\n",
      "1,000,000,000+ : 0.22563176895306858\n",
      "0+ : 0.04512635379061372\n",
      "0 : 0.01128158844765343\n"
     ]
    }
   ],
   "source": [
    "display_table(android_free_apps, 5) #the Installs columns"
   ]
  },
  {
   "cell_type": "markdown",
   "metadata": {},
   "source": [
    "Above, we noticed that our data is not precise. For instance, if we take closer look on apps with 1,000,000+ installs, we don't now if is 1,000,000 installs, 2,000,000 or 4,500,000. The next range is 5,000,000 installs.\n",
    "\n",
    "However, we don't need accurate data also. We have to find only category which is the most popular amoung users, not specific apps.\n",
    "\n",
    "In this case, we assume that 1,000,000+ installs is the number 1,000,000, 50,000+ is 50,000 etc.\n",
    "\n",
    "We have to convert our data in **Installs** *columns* from strings to floats and remove ',' and '+' characters, becasue we will get an error if we don't do it."
   ]
  },
  {
   "cell_type": "code",
   "execution_count": 34,
   "metadata": {
    "scrolled": true
   },
   "outputs": [
    {
     "name": "stdout",
     "output_type": "stream",
     "text": [
      "BOOKS_AND_REFERENCE  :  277647377\n",
      "BUSINESS  :  116150348\n",
      "COMMUNICATION  :  1839484367\n",
      "ENTERTAINMENT  :  164910000\n",
      "HEALTH_AND_FITNESS  :  190591400\n",
      "GAME  :  2239478242\n",
      "FAMILY  :  1032315948\n",
      "SOCIAL  :  914643650\n",
      "SHOPPING  :  233389764\n",
      "PHOTOGRAPHY  :  776044802\n",
      "SPORTS  :  182538447\n",
      "TRAVEL_AND_LOCAL  :  482450681\n",
      "TOOLS  :  1350173912\n",
      "PERSONALIZATION  :  254872648\n",
      "PRODUCTIVITY  :  965271552\n",
      "VIDEO_PLAYERS  :  655288620\n",
      "NEWS_AND_MAGAZINES  :  394699377\n"
     ]
    }
   ],
   "source": [
    "android_freq_genere = freq_table(android_free_apps, 1)\n",
    "\n",
    "for category in android_freq_genere:\n",
    "    total = 0\n",
    "    len_category = 0\n",
    "    \n",
    "    for app in android_free_apps:\n",
    "        category_app = app[1]\n",
    "        if category_app == category:\n",
    "            installs = app[5]\n",
    "            installs = float(installs.replace('+','').replace(',', ''))            \n",
    "            total += installs\n",
    "            len_category += 1\n",
    "            \n",
    "    avg_user = round(total / len_genere)\n",
    "    if avg_user > 100000000:\n",
    "        print(category, ' : ', avg_user)"
   ]
  },
  {
   "cell_type": "markdown",
   "metadata": {},
   "source": [
    "We see that **Game** has 2,239,478,242 installs."
   ]
  },
  {
   "cell_type": "code",
   "execution_count": 35,
   "metadata": {
    "scrolled": true
   },
   "outputs": [
    {
     "name": "stdout",
     "output_type": "stream",
     "text": [
      "Sonic Dash : 100,000,000+\n",
      "PAC-MAN : 100,000,000+\n",
      "Roll the Ball® - slide puzzle : 100,000,000+\n",
      "Piano Tiles 2™ : 100,000,000+\n",
      "Pokémon GO : 100,000,000+\n",
      "Extreme Car Driving Simulator : 100,000,000+\n",
      "Trivia Crack : 100,000,000+\n",
      "Angry Birds 2 : 100,000,000+\n",
      "Candy Crush Saga : 500,000,000+\n",
      "8 Ball Pool : 100,000,000+\n",
      "Subway Surfers : 1,000,000,000+\n",
      "Candy Crush Soda Saga : 100,000,000+\n",
      "Clash Royale : 100,000,000+\n",
      "Clash of Clans : 100,000,000+\n",
      "Plants vs. Zombies FREE : 100,000,000+\n",
      "Pou : 500,000,000+\n",
      "Flow Free : 100,000,000+\n",
      "My Talking Angela : 100,000,000+\n",
      "slither.io : 100,000,000+\n",
      "Cooking Fever : 100,000,000+\n",
      "Yes day : 100,000,000+\n",
      "Score! Hero : 100,000,000+\n",
      "Dream League Soccer 2018 : 100,000,000+\n",
      "My Talking Tom : 500,000,000+\n",
      "Sniper 3D Gun Shooter: Free Shooting Games - FPS : 100,000,000+\n",
      "Zombie Tsunami : 100,000,000+\n",
      "Helix Jump : 100,000,000+\n",
      "Crossy Road : 100,000,000+\n",
      "Temple Run 2 : 500,000,000+\n",
      "Talking Tom Gold Run : 100,000,000+\n",
      "Agar.io : 100,000,000+\n",
      "Bus Rush: Subway Edition : 100,000,000+\n",
      "Traffic Racer : 100,000,000+\n",
      "Hill Climb Racing : 100,000,000+\n",
      "Angry Birds Rio : 100,000,000+\n",
      "Cut the Rope FULL FREE : 100,000,000+\n",
      "Hungry Shark Evolution : 100,000,000+\n",
      "Angry Birds Classic : 100,000,000+\n",
      "Hill Climb Racing 2 : 100,000,000+\n",
      "Jetpack Joyride : 100,000,000+\n",
      "Super Mario Run : 100,000,000+\n",
      "Glow Hockey : 100,000,000+\n",
      "Asphalt 8: Airborne : 100,000,000+\n",
      "Lep's World 2 🍀🍀 : 100,000,000+\n",
      "Fruit Ninja® : 100,000,000+\n",
      "Vector : 100,000,000+\n",
      "Dr. Driving : 100,000,000+\n",
      "Bike Race Free - Top Motorcycle Racing Games : 100,000,000+\n",
      "Smash Hit : 100,000,000+\n",
      "Temple Run : 100,000,000+\n",
      "Geometry Dash Lite : 100,000,000+\n",
      "Ant Smasher by Best Cool & Fun Games : 100,000,000+\n",
      "Angry Birds Star Wars : 100,000,000+\n",
      "Mobile Legends: Bang Bang : 100,000,000+\n",
      "Banana Kong : 100,000,000+\n",
      "Skater Boy : 100,000,000+\n",
      "Shadow Fight 2 : 100,000,000+\n",
      "Modern Combat 5: eSports FPS : 100,000,000+\n",
      "Garena Free Fire : 100,000,000+\n"
     ]
    }
   ],
   "source": [
    "for app in android_free_apps:\n",
    "    if app[1] == 'GAME' and (app[5] == '1,000,000,000+'\n",
    "                                      or app[5] == '500,000,000+'\n",
    "                                      or app[5] == '100,000,000+'):\n",
    "        print(app[0], ':', app[5])"
   ]
  },
  {
   "cell_type": "markdown",
   "metadata": {},
   "source": [
    "**Game** *category* is very crowded by a lot of games. They are very popular amoung useres, but couldbe difficult to create game app which will attract attention fastly.\n",
    "\n",
    "Let's look at **Family** *category*\n",
    " "
   ]
  },
  {
   "cell_type": "code",
   "execution_count": 36,
   "metadata": {
    "scrolled": true
   },
   "outputs": [
    {
     "name": "stdout",
     "output_type": "stream",
     "text": [
      "Minion Rush: Despicable Me Official Game : 100,000,000+\n",
      "ROBLOX : 100,000,000+\n",
      "Hay Day : 100,000,000+\n",
      "Talking Tom Cat 2 : 100,000,000+\n",
      "Talking Ginger : 100,000,000+\n",
      "Where's My Water? Free : 100,000,000+\n",
      "Talking Tom Cat : 100,000,000+\n",
      "Tom Loves Angela : 100,000,000+\n",
      "Talking Tom & Ben News : 100,000,000+\n",
      "Google Play Games : 1,000,000,000+\n",
      "Bitmoji – Your Personal Emoji : 100,000,000+\n",
      "Bubble Witch 2 Saga : 100,000,000+\n",
      "Duolingo: Learn Languages Free : 100,000,000+\n",
      "Farm Heroes Saga : 100,000,000+\n"
     ]
    }
   ],
   "source": [
    "for app in android_free_apps:\n",
    "    if app[1] == 'FAMILY' and (app[5] == '1,000,000,000+'\n",
    "                                      or app[5] == '500,000,000+'\n",
    "                                      or app[5] == '100,000,000+'):\n",
    "        print(app[0], ':', app[5])"
   ]
  },
  {
   "cell_type": "markdown",
   "metadata": {},
   "source": [
    "There is no such apps with 1,000,000,000+ installs and more in this category. As we can see, there are also many games.  "
   ]
  },
  {
   "cell_type": "code",
   "execution_count": 37,
   "metadata": {
    "scrolled": true
   },
   "outputs": [
    {
     "name": "stdout",
     "output_type": "stream",
     "text": [
      "Wikipedia : 10,000,000+\n",
      "Cool Reader : 10,000,000+\n",
      "Book store : 1,000,000+\n",
      "FBReader: Favorite Book Reader : 10,000,000+\n",
      "Free Books - Spirit Fanfiction and Stories : 1,000,000+\n",
      "AlReader -any text book reader : 5,000,000+\n",
      "FamilySearch Tree : 1,000,000+\n",
      "Cloud of Books : 1,000,000+\n",
      "ReadEra – free ebook reader : 1,000,000+\n",
      "Ebook Reader : 5,000,000+\n",
      "Read books online : 5,000,000+\n",
      "eBoox: book reader fb2 epub zip : 1,000,000+\n",
      "All Maths Formulas : 1,000,000+\n",
      "Ancestry : 5,000,000+\n",
      "HTC Help : 10,000,000+\n",
      "Moon+ Reader : 10,000,000+\n",
      "English-Myanmar Dictionary : 1,000,000+\n",
      "Golden Dictionary (EN-AR) : 1,000,000+\n",
      "All Language Translator Free : 1,000,000+\n",
      "Aldiko Book Reader : 10,000,000+\n",
      "Dictionary - WordWeb : 5,000,000+\n",
      "50000 Free eBooks & Free AudioBooks : 5,000,000+\n",
      "Al-Quran (Free) : 10,000,000+\n",
      "Al Quran Indonesia : 10,000,000+\n",
      "Al'Quran Bahasa Indonesia : 10,000,000+\n",
      "Al Quran Al karim : 1,000,000+\n",
      "Al Quran : EAlim - Translations & MP3 Offline : 5,000,000+\n",
      "Koran Read &MP3 30 Juz Offline : 1,000,000+\n",
      "Hafizi Quran 15 lines per page : 1,000,000+\n",
      "Quran for Android : 10,000,000+\n",
      "Satellite AR : 1,000,000+\n",
      "Oxford A-Z of English Usage : 1,000,000+\n",
      "Dictionary.com: Find Definitions for English Words : 10,000,000+\n",
      "English Dictionary - Offline : 10,000,000+\n",
      "Bible KJV : 5,000,000+\n",
      "NOOK: Read eBooks & Magazines : 10,000,000+\n",
      "Brilliant Quotes: Life, Love, Family & Motivation : 1,000,000+\n",
      "Stats Royale for Clash Royale : 1,000,000+\n",
      "Dictionary : 10,000,000+\n",
      "wikiHow: how to do anything : 1,000,000+\n",
      "EGW Writings : 1,000,000+\n",
      "My Little Pony AR Guide : 1,000,000+\n",
      "Spanish English Translator : 10,000,000+\n",
      "Dictionary - Merriam-Webster : 10,000,000+\n",
      "JW Library : 10,000,000+\n",
      "Oxford Dictionary of English : Free : 10,000,000+\n",
      "English Hindi Dictionary : 10,000,000+\n",
      "English to Hindi Dictionary : 5,000,000+\n"
     ]
    }
   ],
   "source": [
    "\n",
    "for app in android_free_apps:\n",
    "    if app[1] == 'BOOKS_AND_REFERENCE' and (app[5] == '1,000,000+'\n",
    "                                            or app[5] == '5,000,000+'\n",
    "                                            or app[5] == '10,000,000+'\n",
    "                                            or app[5] == '50,000,000+'):\n",
    "        print(app[0], ':', app[5])"
   ]
  },
  {
   "cell_type": "markdown",
   "metadata": {},
   "source": [
    "As we can spot, there are many popular apps there and dominated by software for processing and reading ebooks, as well as various collections of libraries and dictionaries. \n",
    "\n",
    "Remember that similar results we got in App Store apps, so it's seems that creat an app in **Refernce** *category* is good proposal to our develop team. We can creat an app which will read books. Additionally, to make stand out our app, we will add audiobook option. Speech synthesizer will read the toxt from the book. It will be a great benfit to user, because he will read the books faster. \n",
    "\n",
    "\n",
    "\n",
    "## Conclusion\n",
    "\n",
    "In this project, we analyzed data about the App Store and Google Play mobile apps with the goal of recommending an app profile that can be profitable for both markets.\n",
    "\n",
    "We concluded that creating an app in Reference category is good idea, but we have to remember, ordinary e-book reader \n",
    "will not attract many users. Adding audiobook function should increase popularity. Moreover, pepole during reading and listing their favourite books will spend a lot of time, so it is a huge profit for us.\n",
    "\n"
   ]
  }
 ],
 "metadata": {
  "kernelspec": {
   "display_name": "Python 3",
   "language": "python",
   "name": "python3"
  },
  "language_info": {
   "codemirror_mode": {
    "name": "ipython",
    "version": 3
   },
   "file_extension": ".py",
   "mimetype": "text/x-python",
   "name": "python",
   "nbconvert_exporter": "python",
   "pygments_lexer": "ipython3",
   "version": "3.7.6"
  }
 },
 "nbformat": 4,
 "nbformat_minor": 4
}
