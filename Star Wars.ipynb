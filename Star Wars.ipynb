{
 "cells": [
  {
   "cell_type": "markdown",
   "metadata": {
    "collapsed": true
   },
   "source": [
    "# Star Wars Survey\n",
    "\n",
    "In this project we're going to explore dataset of Star Wars Survey, which contains respondetns' answers about Star Wars. The survey has been carried out on July 2014 (before the release of `Star Wars: The Force Awakens`) and all data was collected by **FiveThirtyEight team** to answer on following question: **\"does the rest of America realize that “The Empire Strikes Back” is clearly the best of the bunch?\"**\n",
    "\n",
    "Our aim is to answer on question about. We'll also try to find any interesting patterns.\n",
    "\n",
    "### Dataset\n",
    "The dataset is available [here](https://github.com/fivethirtyeight/data/blob/master/star-wars-survey/StarWars.csv)"
   ]
  },
  {
   "cell_type": "markdown",
   "metadata": {},
   "source": [
    "## Data reading and first take a look at dataset"
   ]
  },
  {
   "cell_type": "code",
   "execution_count": 37,
   "metadata": {},
   "outputs": [
    {
     "data": {
      "text/html": [
       "<div>\n",
       "<style scoped>\n",
       "    .dataframe tbody tr th:only-of-type {\n",
       "        vertical-align: middle;\n",
       "    }\n",
       "\n",
       "    .dataframe tbody tr th {\n",
       "        vertical-align: top;\n",
       "    }\n",
       "\n",
       "    .dataframe thead th {\n",
       "        text-align: right;\n",
       "    }\n",
       "</style>\n",
       "<table border=\"1\" class=\"dataframe\">\n",
       "  <thead>\n",
       "    <tr style=\"text-align: right;\">\n",
       "      <th></th>\n",
       "      <th>RespondentID</th>\n",
       "      <th>Have you seen any of the 6 films in the Star Wars franchise?</th>\n",
       "      <th>Do you consider yourself to be a fan of the Star Wars film franchise?</th>\n",
       "      <th>Which of the following Star Wars films have you seen? Please select all that apply.</th>\n",
       "      <th>Unnamed: 4</th>\n",
       "      <th>Unnamed: 5</th>\n",
       "      <th>Unnamed: 6</th>\n",
       "      <th>Unnamed: 7</th>\n",
       "      <th>Unnamed: 8</th>\n",
       "      <th>Please rank the Star Wars films in order of preference with 1 being your favorite film in the franchise and 6 being your least favorite film.</th>\n",
       "      <th>...</th>\n",
       "      <th>Unnamed: 28</th>\n",
       "      <th>Which character shot first?</th>\n",
       "      <th>Are you familiar with the Expanded Universe?</th>\n",
       "      <th>Do you consider yourself to be a fan of the Expanded Universe?</th>\n",
       "      <th>Do you consider yourself to be a fan of the Star Trek franchise?</th>\n",
       "      <th>Gender</th>\n",
       "      <th>Age</th>\n",
       "      <th>Household Income</th>\n",
       "      <th>Education</th>\n",
       "      <th>Location (Census Region)</th>\n",
       "    </tr>\n",
       "  </thead>\n",
       "  <tbody>\n",
       "    <tr>\n",
       "      <th>0</th>\n",
       "      <td>3292879998</td>\n",
       "      <td>Yes</td>\n",
       "      <td>Yes</td>\n",
       "      <td>Star Wars: Episode I  The Phantom Menace</td>\n",
       "      <td>Star Wars: Episode II  Attack of the Clones</td>\n",
       "      <td>Star Wars: Episode III  Revenge of the Sith</td>\n",
       "      <td>Star Wars: Episode IV  A New Hope</td>\n",
       "      <td>Star Wars: Episode V The Empire Strikes Back</td>\n",
       "      <td>Star Wars: Episode VI Return of the Jedi</td>\n",
       "      <td>3.0</td>\n",
       "      <td>...</td>\n",
       "      <td>Very favorably</td>\n",
       "      <td>I don't understand this question</td>\n",
       "      <td>Yes</td>\n",
       "      <td>No</td>\n",
       "      <td>No</td>\n",
       "      <td>Male</td>\n",
       "      <td>18-29</td>\n",
       "      <td>NaN</td>\n",
       "      <td>High school degree</td>\n",
       "      <td>South Atlantic</td>\n",
       "    </tr>\n",
       "    <tr>\n",
       "      <th>1</th>\n",
       "      <td>3292879538</td>\n",
       "      <td>No</td>\n",
       "      <td>NaN</td>\n",
       "      <td>NaN</td>\n",
       "      <td>NaN</td>\n",
       "      <td>NaN</td>\n",
       "      <td>NaN</td>\n",
       "      <td>NaN</td>\n",
       "      <td>NaN</td>\n",
       "      <td>NaN</td>\n",
       "      <td>...</td>\n",
       "      <td>NaN</td>\n",
       "      <td>NaN</td>\n",
       "      <td>NaN</td>\n",
       "      <td>NaN</td>\n",
       "      <td>Yes</td>\n",
       "      <td>Male</td>\n",
       "      <td>18-29</td>\n",
       "      <td>$0 - $24,999</td>\n",
       "      <td>Bachelor degree</td>\n",
       "      <td>West South Central</td>\n",
       "    </tr>\n",
       "    <tr>\n",
       "      <th>2</th>\n",
       "      <td>3292765271</td>\n",
       "      <td>Yes</td>\n",
       "      <td>No</td>\n",
       "      <td>Star Wars: Episode I  The Phantom Menace</td>\n",
       "      <td>Star Wars: Episode II  Attack of the Clones</td>\n",
       "      <td>Star Wars: Episode III  Revenge of the Sith</td>\n",
       "      <td>NaN</td>\n",
       "      <td>NaN</td>\n",
       "      <td>NaN</td>\n",
       "      <td>1.0</td>\n",
       "      <td>...</td>\n",
       "      <td>Unfamiliar (N/A)</td>\n",
       "      <td>I don't understand this question</td>\n",
       "      <td>No</td>\n",
       "      <td>NaN</td>\n",
       "      <td>No</td>\n",
       "      <td>Male</td>\n",
       "      <td>18-29</td>\n",
       "      <td>$0 - $24,999</td>\n",
       "      <td>High school degree</td>\n",
       "      <td>West North Central</td>\n",
       "    </tr>\n",
       "    <tr>\n",
       "      <th>3</th>\n",
       "      <td>3292763116</td>\n",
       "      <td>Yes</td>\n",
       "      <td>Yes</td>\n",
       "      <td>Star Wars: Episode I  The Phantom Menace</td>\n",
       "      <td>Star Wars: Episode II  Attack of the Clones</td>\n",
       "      <td>Star Wars: Episode III  Revenge of the Sith</td>\n",
       "      <td>Star Wars: Episode IV  A New Hope</td>\n",
       "      <td>Star Wars: Episode V The Empire Strikes Back</td>\n",
       "      <td>Star Wars: Episode VI Return of the Jedi</td>\n",
       "      <td>5.0</td>\n",
       "      <td>...</td>\n",
       "      <td>Very favorably</td>\n",
       "      <td>I don't understand this question</td>\n",
       "      <td>No</td>\n",
       "      <td>NaN</td>\n",
       "      <td>Yes</td>\n",
       "      <td>Male</td>\n",
       "      <td>18-29</td>\n",
       "      <td>$100,000 - $149,999</td>\n",
       "      <td>Some college or Associate degree</td>\n",
       "      <td>West North Central</td>\n",
       "    </tr>\n",
       "    <tr>\n",
       "      <th>4</th>\n",
       "      <td>3292731220</td>\n",
       "      <td>Yes</td>\n",
       "      <td>Yes</td>\n",
       "      <td>Star Wars: Episode I  The Phantom Menace</td>\n",
       "      <td>Star Wars: Episode II  Attack of the Clones</td>\n",
       "      <td>Star Wars: Episode III  Revenge of the Sith</td>\n",
       "      <td>Star Wars: Episode IV  A New Hope</td>\n",
       "      <td>Star Wars: Episode V The Empire Strikes Back</td>\n",
       "      <td>Star Wars: Episode VI Return of the Jedi</td>\n",
       "      <td>5.0</td>\n",
       "      <td>...</td>\n",
       "      <td>Somewhat favorably</td>\n",
       "      <td>Greedo</td>\n",
       "      <td>Yes</td>\n",
       "      <td>No</td>\n",
       "      <td>No</td>\n",
       "      <td>Male</td>\n",
       "      <td>18-29</td>\n",
       "      <td>$100,000 - $149,999</td>\n",
       "      <td>Some college or Associate degree</td>\n",
       "      <td>West North Central</td>\n",
       "    </tr>\n",
       "    <tr>\n",
       "      <th>5</th>\n",
       "      <td>3292719380</td>\n",
       "      <td>Yes</td>\n",
       "      <td>Yes</td>\n",
       "      <td>Star Wars: Episode I  The Phantom Menace</td>\n",
       "      <td>Star Wars: Episode II  Attack of the Clones</td>\n",
       "      <td>Star Wars: Episode III  Revenge of the Sith</td>\n",
       "      <td>Star Wars: Episode IV  A New Hope</td>\n",
       "      <td>Star Wars: Episode V The Empire Strikes Back</td>\n",
       "      <td>Star Wars: Episode VI Return of the Jedi</td>\n",
       "      <td>1.0</td>\n",
       "      <td>...</td>\n",
       "      <td>Very favorably</td>\n",
       "      <td>Han</td>\n",
       "      <td>Yes</td>\n",
       "      <td>No</td>\n",
       "      <td>Yes</td>\n",
       "      <td>Male</td>\n",
       "      <td>18-29</td>\n",
       "      <td>$25,000 - $49,999</td>\n",
       "      <td>Bachelor degree</td>\n",
       "      <td>Middle Atlantic</td>\n",
       "    </tr>\n",
       "    <tr>\n",
       "      <th>6</th>\n",
       "      <td>3292684787</td>\n",
       "      <td>Yes</td>\n",
       "      <td>Yes</td>\n",
       "      <td>Star Wars: Episode I  The Phantom Menace</td>\n",
       "      <td>Star Wars: Episode II  Attack of the Clones</td>\n",
       "      <td>Star Wars: Episode III  Revenge of the Sith</td>\n",
       "      <td>Star Wars: Episode IV  A New Hope</td>\n",
       "      <td>Star Wars: Episode V The Empire Strikes Back</td>\n",
       "      <td>Star Wars: Episode VI Return of the Jedi</td>\n",
       "      <td>6.0</td>\n",
       "      <td>...</td>\n",
       "      <td>Very favorably</td>\n",
       "      <td>Han</td>\n",
       "      <td>Yes</td>\n",
       "      <td>No</td>\n",
       "      <td>No</td>\n",
       "      <td>Male</td>\n",
       "      <td>18-29</td>\n",
       "      <td>NaN</td>\n",
       "      <td>High school degree</td>\n",
       "      <td>East North Central</td>\n",
       "    </tr>\n",
       "    <tr>\n",
       "      <th>7</th>\n",
       "      <td>3292663732</td>\n",
       "      <td>Yes</td>\n",
       "      <td>Yes</td>\n",
       "      <td>Star Wars: Episode I  The Phantom Menace</td>\n",
       "      <td>Star Wars: Episode II  Attack of the Clones</td>\n",
       "      <td>Star Wars: Episode III  Revenge of the Sith</td>\n",
       "      <td>Star Wars: Episode IV  A New Hope</td>\n",
       "      <td>Star Wars: Episode V The Empire Strikes Back</td>\n",
       "      <td>Star Wars: Episode VI Return of the Jedi</td>\n",
       "      <td>4.0</td>\n",
       "      <td>...</td>\n",
       "      <td>Very favorably</td>\n",
       "      <td>Han</td>\n",
       "      <td>No</td>\n",
       "      <td>NaN</td>\n",
       "      <td>Yes</td>\n",
       "      <td>Male</td>\n",
       "      <td>18-29</td>\n",
       "      <td>NaN</td>\n",
       "      <td>High school degree</td>\n",
       "      <td>South Atlantic</td>\n",
       "    </tr>\n",
       "    <tr>\n",
       "      <th>8</th>\n",
       "      <td>3292654043</td>\n",
       "      <td>Yes</td>\n",
       "      <td>Yes</td>\n",
       "      <td>Star Wars: Episode I  The Phantom Menace</td>\n",
       "      <td>Star Wars: Episode II  Attack of the Clones</td>\n",
       "      <td>Star Wars: Episode III  Revenge of the Sith</td>\n",
       "      <td>Star Wars: Episode IV  A New Hope</td>\n",
       "      <td>Star Wars: Episode V The Empire Strikes Back</td>\n",
       "      <td>Star Wars: Episode VI Return of the Jedi</td>\n",
       "      <td>5.0</td>\n",
       "      <td>...</td>\n",
       "      <td>Somewhat favorably</td>\n",
       "      <td>Han</td>\n",
       "      <td>No</td>\n",
       "      <td>NaN</td>\n",
       "      <td>No</td>\n",
       "      <td>Male</td>\n",
       "      <td>18-29</td>\n",
       "      <td>$0 - $24,999</td>\n",
       "      <td>Some college or Associate degree</td>\n",
       "      <td>South Atlantic</td>\n",
       "    </tr>\n",
       "    <tr>\n",
       "      <th>9</th>\n",
       "      <td>3292640424</td>\n",
       "      <td>Yes</td>\n",
       "      <td>No</td>\n",
       "      <td>NaN</td>\n",
       "      <td>Star Wars: Episode II  Attack of the Clones</td>\n",
       "      <td>NaN</td>\n",
       "      <td>NaN</td>\n",
       "      <td>NaN</td>\n",
       "      <td>NaN</td>\n",
       "      <td>1.0</td>\n",
       "      <td>...</td>\n",
       "      <td>Very favorably</td>\n",
       "      <td>I don't understand this question</td>\n",
       "      <td>No</td>\n",
       "      <td>NaN</td>\n",
       "      <td>No</td>\n",
       "      <td>Male</td>\n",
       "      <td>18-29</td>\n",
       "      <td>$25,000 - $49,999</td>\n",
       "      <td>Some college or Associate degree</td>\n",
       "      <td>Pacific</td>\n",
       "    </tr>\n",
       "  </tbody>\n",
       "</table>\n",
       "<p>10 rows × 38 columns</p>\n",
       "</div>"
      ],
      "text/plain": [
       "   RespondentID Have you seen any of the 6 films in the Star Wars franchise?  \\\n",
       "0    3292879998                                                Yes             \n",
       "1    3292879538                                                 No             \n",
       "2    3292765271                                                Yes             \n",
       "3    3292763116                                                Yes             \n",
       "4    3292731220                                                Yes             \n",
       "5    3292719380                                                Yes             \n",
       "6    3292684787                                                Yes             \n",
       "7    3292663732                                                Yes             \n",
       "8    3292654043                                                Yes             \n",
       "9    3292640424                                                Yes             \n",
       "\n",
       "  Do you consider yourself to be a fan of the Star Wars film franchise?  \\\n",
       "0                                                Yes                      \n",
       "1                                                NaN                      \n",
       "2                                                 No                      \n",
       "3                                                Yes                      \n",
       "4                                                Yes                      \n",
       "5                                                Yes                      \n",
       "6                                                Yes                      \n",
       "7                                                Yes                      \n",
       "8                                                Yes                      \n",
       "9                                                 No                      \n",
       "\n",
       "  Which of the following Star Wars films have you seen? Please select all that apply.  \\\n",
       "0           Star Wars: Episode I  The Phantom Menace                                    \n",
       "1                                                NaN                                    \n",
       "2           Star Wars: Episode I  The Phantom Menace                                    \n",
       "3           Star Wars: Episode I  The Phantom Menace                                    \n",
       "4           Star Wars: Episode I  The Phantom Menace                                    \n",
       "5           Star Wars: Episode I  The Phantom Menace                                    \n",
       "6           Star Wars: Episode I  The Phantom Menace                                    \n",
       "7           Star Wars: Episode I  The Phantom Menace                                    \n",
       "8           Star Wars: Episode I  The Phantom Menace                                    \n",
       "9                                                NaN                                    \n",
       "\n",
       "                                    Unnamed: 4  \\\n",
       "0  Star Wars: Episode II  Attack of the Clones   \n",
       "1                                          NaN   \n",
       "2  Star Wars: Episode II  Attack of the Clones   \n",
       "3  Star Wars: Episode II  Attack of the Clones   \n",
       "4  Star Wars: Episode II  Attack of the Clones   \n",
       "5  Star Wars: Episode II  Attack of the Clones   \n",
       "6  Star Wars: Episode II  Attack of the Clones   \n",
       "7  Star Wars: Episode II  Attack of the Clones   \n",
       "8  Star Wars: Episode II  Attack of the Clones   \n",
       "9  Star Wars: Episode II  Attack of the Clones   \n",
       "\n",
       "                                    Unnamed: 5  \\\n",
       "0  Star Wars: Episode III  Revenge of the Sith   \n",
       "1                                          NaN   \n",
       "2  Star Wars: Episode III  Revenge of the Sith   \n",
       "3  Star Wars: Episode III  Revenge of the Sith   \n",
       "4  Star Wars: Episode III  Revenge of the Sith   \n",
       "5  Star Wars: Episode III  Revenge of the Sith   \n",
       "6  Star Wars: Episode III  Revenge of the Sith   \n",
       "7  Star Wars: Episode III  Revenge of the Sith   \n",
       "8  Star Wars: Episode III  Revenge of the Sith   \n",
       "9                                          NaN   \n",
       "\n",
       "                          Unnamed: 6  \\\n",
       "0  Star Wars: Episode IV  A New Hope   \n",
       "1                                NaN   \n",
       "2                                NaN   \n",
       "3  Star Wars: Episode IV  A New Hope   \n",
       "4  Star Wars: Episode IV  A New Hope   \n",
       "5  Star Wars: Episode IV  A New Hope   \n",
       "6  Star Wars: Episode IV  A New Hope   \n",
       "7  Star Wars: Episode IV  A New Hope   \n",
       "8  Star Wars: Episode IV  A New Hope   \n",
       "9                                NaN   \n",
       "\n",
       "                                     Unnamed: 7  \\\n",
       "0  Star Wars: Episode V The Empire Strikes Back   \n",
       "1                                           NaN   \n",
       "2                                           NaN   \n",
       "3  Star Wars: Episode V The Empire Strikes Back   \n",
       "4  Star Wars: Episode V The Empire Strikes Back   \n",
       "5  Star Wars: Episode V The Empire Strikes Back   \n",
       "6  Star Wars: Episode V The Empire Strikes Back   \n",
       "7  Star Wars: Episode V The Empire Strikes Back   \n",
       "8  Star Wars: Episode V The Empire Strikes Back   \n",
       "9                                           NaN   \n",
       "\n",
       "                                 Unnamed: 8  \\\n",
       "0  Star Wars: Episode VI Return of the Jedi   \n",
       "1                                       NaN   \n",
       "2                                       NaN   \n",
       "3  Star Wars: Episode VI Return of the Jedi   \n",
       "4  Star Wars: Episode VI Return of the Jedi   \n",
       "5  Star Wars: Episode VI Return of the Jedi   \n",
       "6  Star Wars: Episode VI Return of the Jedi   \n",
       "7  Star Wars: Episode VI Return of the Jedi   \n",
       "8  Star Wars: Episode VI Return of the Jedi   \n",
       "9                                       NaN   \n",
       "\n",
       "   Please rank the Star Wars films in order of preference with 1 being your favorite film in the franchise and 6 being your least favorite film.  \\\n",
       "0                                                3.0                                                                                               \n",
       "1                                                NaN                                                                                               \n",
       "2                                                1.0                                                                                               \n",
       "3                                                5.0                                                                                               \n",
       "4                                                5.0                                                                                               \n",
       "5                                                1.0                                                                                               \n",
       "6                                                6.0                                                                                               \n",
       "7                                                4.0                                                                                               \n",
       "8                                                5.0                                                                                               \n",
       "9                                                1.0                                                                                               \n",
       "\n",
       "   ...         Unnamed: 28       Which character shot first?  \\\n",
       "0  ...      Very favorably  I don't understand this question   \n",
       "1  ...                 NaN                               NaN   \n",
       "2  ...    Unfamiliar (N/A)  I don't understand this question   \n",
       "3  ...      Very favorably  I don't understand this question   \n",
       "4  ...  Somewhat favorably                            Greedo   \n",
       "5  ...      Very favorably                               Han   \n",
       "6  ...      Very favorably                               Han   \n",
       "7  ...      Very favorably                               Han   \n",
       "8  ...  Somewhat favorably                               Han   \n",
       "9  ...      Very favorably  I don't understand this question   \n",
       "\n",
       "   Are you familiar with the Expanded Universe?  \\\n",
       "0                                           Yes   \n",
       "1                                           NaN   \n",
       "2                                            No   \n",
       "3                                            No   \n",
       "4                                           Yes   \n",
       "5                                           Yes   \n",
       "6                                           Yes   \n",
       "7                                            No   \n",
       "8                                            No   \n",
       "9                                            No   \n",
       "\n",
       "   Do you consider yourself to be a fan of the Expanded Universe?  \\\n",
       "0                                                 No                \n",
       "1                                                NaN                \n",
       "2                                                NaN                \n",
       "3                                                NaN                \n",
       "4                                                 No                \n",
       "5                                                 No                \n",
       "6                                                 No                \n",
       "7                                                NaN                \n",
       "8                                                NaN                \n",
       "9                                                NaN                \n",
       "\n",
       "   Do you consider yourself to be a fan of the Star Trek franchise? Gender  \\\n",
       "0                                                 No                  Male   \n",
       "1                                                Yes                  Male   \n",
       "2                                                 No                  Male   \n",
       "3                                                Yes                  Male   \n",
       "4                                                 No                  Male   \n",
       "5                                                Yes                  Male   \n",
       "6                                                 No                  Male   \n",
       "7                                                Yes                  Male   \n",
       "8                                                 No                  Male   \n",
       "9                                                 No                  Male   \n",
       "\n",
       "     Age     Household Income                         Education  \\\n",
       "0  18-29                  NaN                High school degree   \n",
       "1  18-29         $0 - $24,999                   Bachelor degree   \n",
       "2  18-29         $0 - $24,999                High school degree   \n",
       "3  18-29  $100,000 - $149,999  Some college or Associate degree   \n",
       "4  18-29  $100,000 - $149,999  Some college or Associate degree   \n",
       "5  18-29    $25,000 - $49,999                   Bachelor degree   \n",
       "6  18-29                  NaN                High school degree   \n",
       "7  18-29                  NaN                High school degree   \n",
       "8  18-29         $0 - $24,999  Some college or Associate degree   \n",
       "9  18-29    $25,000 - $49,999  Some college or Associate degree   \n",
       "\n",
       "  Location (Census Region)  \n",
       "0           South Atlantic  \n",
       "1       West South Central  \n",
       "2       West North Central  \n",
       "3       West North Central  \n",
       "4       West North Central  \n",
       "5          Middle Atlantic  \n",
       "6       East North Central  \n",
       "7           South Atlantic  \n",
       "8           South Atlantic  \n",
       "9                  Pacific  \n",
       "\n",
       "[10 rows x 38 columns]"
      ]
     },
     "execution_count": 37,
     "metadata": {},
     "output_type": "execute_result"
    }
   ],
   "source": [
    "#import pandas\n",
    "import pandas as pd\n",
    "#import numpy\n",
    "import numpy as np\n",
    "#import matplotlib library \n",
    "import matplotlib.pyplot as plt\n",
    "import matplotlib.style as style\n",
    "style.use('fivethirtyeight') #set fivethirtyeight on plots\n",
    "\n",
    "#opening file \n",
    "star_wars = pd.read_csv(\"star_wars.csv\", encoding=\"ISO-8859-1\")\n",
    "\n",
    "#print first 10 rows\n",
    "star_wars.head(10)"
   ]
  },
  {
   "cell_type": "code",
   "execution_count": 38,
   "metadata": {
    "scrolled": false
   },
   "outputs": [
    {
     "data": {
      "text/plain": [
       "Index(['RespondentID',\n",
       "       'Have you seen any of the 6 films in the Star Wars franchise?',\n",
       "       'Do you consider yourself to be a fan of the Star Wars film franchise?',\n",
       "       'Which of the following Star Wars films have you seen? Please select all that apply.',\n",
       "       'Unnamed: 4', 'Unnamed: 5', 'Unnamed: 6', 'Unnamed: 7', 'Unnamed: 8',\n",
       "       'Please rank the Star Wars films in order of preference with 1 being your favorite film in the franchise and 6 being your least favorite film.',\n",
       "       'Unnamed: 10', 'Unnamed: 11', 'Unnamed: 12', 'Unnamed: 13',\n",
       "       'Unnamed: 14',\n",
       "       'Please state whether you view the following characters favorably, unfavorably, or are unfamiliar with him/her.',\n",
       "       'Unnamed: 16', 'Unnamed: 17', 'Unnamed: 18', 'Unnamed: 19',\n",
       "       'Unnamed: 20', 'Unnamed: 21', 'Unnamed: 22', 'Unnamed: 23',\n",
       "       'Unnamed: 24', 'Unnamed: 25', 'Unnamed: 26', 'Unnamed: 27',\n",
       "       'Unnamed: 28', 'Which character shot first?',\n",
       "       'Are you familiar with the Expanded Universe?',\n",
       "       'Do you consider yourself to be a fan of the Expanded Universe?',\n",
       "       'Do you consider yourself to be a fan of the Star Trek franchise?',\n",
       "       'Gender', 'Age', 'Household Income', 'Education',\n",
       "       'Location (Census Region)'],\n",
       "      dtype='object')"
      ]
     },
     "execution_count": 38,
     "metadata": {},
     "output_type": "execute_result"
    }
   ],
   "source": [
    "#print all column names\n",
    "star_wars.columns"
   ]
  },
  {
   "cell_type": "markdown",
   "metadata": {},
   "source": [
    "## Cleaning and Mapping Yes/No Columns\n",
    "\n",
    "Let's look at 2 columns:\n",
    "\n",
    "* `Have you seen any of the 6 films in the Star Wars franchise?`\n",
    "* `Do you consider yourself to be a fan of the Star Wars film franchise?`\n",
    "\n",
    "Both represent **Yes/No** questions. They contain also **NaN** values where a respondent didn't answer on question. To make our analysys easier, we'll convert from string types to Boolen (**True**, **False** or **NaN**) these columns.\n",
    "\n",
    "First, we'll creat a dictionary to replace Yes/No values on True or False. Then we'll use `map()` function to fill values on new ones. **NaN** values remain unchanged."
   ]
  },
  {
   "cell_type": "code",
   "execution_count": 39,
   "metadata": {
    "scrolled": true
   },
   "outputs": [],
   "source": [
    "#create dictionary \n",
    "yes_no = {\n",
    "    \"Yes\": True,\n",
    "    \"No\": False\n",
    "}\n",
    "#fill yes/no values in Have you seen any of the 6 films in the Star Wars franchise? column\n",
    "star_wars.iloc[:,1] = star_wars.iloc[:,1].map(yes_no)\n",
    "#fill yes/no values in Do you consider yourself to be a fan of the Star Wars film franchise? column\n",
    "star_wars.iloc[:,2] = star_wars.iloc[:,2].map(yes_no)"
   ]
  },
  {
   "cell_type": "code",
   "execution_count": 40,
   "metadata": {
    "scrolled": true
   },
   "outputs": [
    {
     "name": "stdout",
     "output_type": "stream",
     "text": [
      "True     936\n",
      "False    250\n",
      "Name: Have you seen any of the 6 films in the Star Wars franchise?, dtype: int64\n",
      "\n",
      "\n",
      "True     552\n",
      "NaN      350\n",
      "False    284\n",
      "Name: Do you consider yourself to be a fan of the Star Wars film franchise?, dtype: int64\n"
     ]
    }
   ],
   "source": [
    "#check all values in Have you seen any of the 6 films in the Star Wars franchise? column\n",
    "print(star_wars.iloc[:,1].value_counts(dropna=False))\n",
    "print('\\n')\n",
    "#check all values in Do you consider yourself to be a fan of the Star Wars film franchise? column\n",
    "print(star_wars.iloc[:,2].value_counts(dropna=False))"
   ]
  },
  {
   "cell_type": "markdown",
   "metadata": {},
   "source": [
    "As we can see above, most people have seen any Star Wars movie and almost evry second person consider to be a fan of the Star Wars film franchise.\n",
    "\n",
    "In first column: `Have you seen any of the 6 films in the Star Wars franchise?` we have only True and False values, so it means that respondents had to choose `Yes` or `No` only. In second column, `Do you consider yourself to be a fan of the Star Wars film franchise?` some respondents (almost 30% of all) fill the answer blank."
   ]
  },
  {
   "cell_type": "markdown",
   "metadata": {},
   "source": [
    "## Cleaning and Mapping Checkbox Columns\n",
    "\n",
    "Taking another look at our data set, show us that next 6 columns represent a single checkbox question:\n",
    "\n",
    "| Column | Description |\n",
    "| :----------- | ----------- |\n",
    "| Which of the following Star Wars films have you seen? Please select all that apply. | Whether or not the respondent saw **Star Wars: Episode I The Phantom Menace** |\n",
    "| Unnamed: 4 | Whether or not the respondent saw **Star Wars: Episode II Attack of the Clones**, |\n",
    "| Unnamed: 5 | Whether or not the respondent saw **Star Wars: Episode III Revenge of the Sith** |\n",
    "| Unnamed: 6 | Whether or not the respondent saw **Star Wars: Episode IV A New Hope** |\n",
    "| Unnamed: 7 | Whether or not the respondent saw **Star Wars: Episode V The Empire Strikes Back** |\n",
    "| Unnamed: 8 | Whether or not the respondent saw **Star Wars: Episode VI Return of the Jedi** |\n",
    "\n",
    "Column names and thier values are a bit messy. First, we'll convert all values on **True** or **False**. For example if somebody have seen the movie **Star Wars: Episode II Attack of the Clones**, he's answerd in `Unnamed: 4` column in that name of the film. Whereas, **NaN** value represents that respodent didn't see the movie or didn't answer.\n",
    "\n"
   ]
  },
  {
   "cell_type": "markdown",
   "metadata": {},
   "source": [
    "We noticed that some values have sometimes 2 spaces between a word. To avoid mistake, we will loop over values in 6 columns and assign all to list."
   ]
  },
  {
   "cell_type": "code",
   "execution_count": 41,
   "metadata": {},
   "outputs": [
    {
     "name": "stdout",
     "output_type": "stream",
     "text": [
      "['Star Wars: Episode I  The Phantom Menace', 'Star Wars: Episode II  Attack of the Clones', 'Star Wars: Episode III  Revenge of the Sith', 'Star Wars: Episode IV  A New Hope', 'Star Wars: Episode V The Empire Strikes Back', 'Star Wars: Episode VI Return of the Jedi']\n"
     ]
    }
   ],
   "source": [
    "#create empty list\n",
    "movies = []\n",
    "for col in star_wars.columns[3:9]:\n",
    "    movies.append(star_wars[col].unique()[0])    \n",
    "\n",
    "print(movies)    "
   ]
  },
  {
   "cell_type": "code",
   "execution_count": 42,
   "metadata": {
    "scrolled": true
   },
   "outputs": [
    {
     "data": {
      "text/plain": [
       "{'Star Wars: Episode I  The Phantom Menace': True,\n",
       " 'Star Wars: Episode II  Attack of the Clones': True,\n",
       " 'Star Wars: Episode III  Revenge of the Sith': True,\n",
       " 'Star Wars: Episode IV  A New Hope': True,\n",
       " 'Star Wars: Episode V The Empire Strikes Back': True,\n",
       " 'Star Wars: Episode VI Return of the Jedi': True,\n",
       " nan: False}"
      ]
     },
     "execution_count": 42,
     "metadata": {},
     "output_type": "execute_result"
    }
   ],
   "source": [
    "#create dictionary\n",
    "movie_yes_no = {}\n",
    "#add all values as key and assign True to each of them\n",
    "for movie in movies:\n",
    "    movie_yes_no[movie] = True\n",
    "#add Nan values and assign False    \n",
    "movie_yes_no[np.nan] = False\n",
    "#check all values\n",
    "movie_yes_no    "
   ]
  },
  {
   "cell_type": "code",
   "execution_count": 43,
   "metadata": {
    "scrolled": true
   },
   "outputs": [
    {
     "name": "stdout",
     "output_type": "stream",
     "text": [
      "True     673\n",
      "False    513\n",
      "Name: Which of the following Star Wars films have you seen? Please select all that apply., dtype: int64\n",
      "\n",
      "\n",
      "False    615\n",
      "True     571\n",
      "Name: Unnamed: 4, dtype: int64\n",
      "\n",
      "\n",
      "False    636\n",
      "True     550\n",
      "Name: Unnamed: 5, dtype: int64\n",
      "\n",
      "\n",
      "True     607\n",
      "False    579\n",
      "Name: Unnamed: 6, dtype: int64\n",
      "\n",
      "\n",
      "True     758\n",
      "False    428\n",
      "Name: Unnamed: 7, dtype: int64\n",
      "\n",
      "\n",
      "True     738\n",
      "False    448\n",
      "Name: Unnamed: 8, dtype: int64\n",
      "\n",
      "\n"
     ]
    }
   ],
   "source": [
    "#fill each values in all 6 columns on True or False\n",
    "for col in star_wars.columns[3:9]:\n",
    "    star_wars[col] = star_wars[col].map(movie_yes_no)\n",
    "\n",
    "#check if converting passed well   \n",
    "for col in star_wars.columns[3:9]:\n",
    "    print(star_wars[col].value_counts(dropna=False))\n",
    "    print('\\n')"
   ]
  },
  {
   "cell_type": "markdown",
   "metadata": {},
   "source": [
    "Our values look correctly. Let's rename all 6 columns to better reflect what they represent."
   ]
  },
  {
   "cell_type": "code",
   "execution_count": 44,
   "metadata": {},
   "outputs": [
    {
     "data": {
      "text/plain": [
       "Index(['Which of the following Star Wars films have you seen? Please select all that apply.',\n",
       "       'Unnamed: 4', 'Unnamed: 5', 'Unnamed: 6', 'Unnamed: 7', 'Unnamed: 8'],\n",
       "      dtype='object')"
      ]
     },
     "execution_count": 44,
     "metadata": {},
     "output_type": "execute_result"
    }
   ],
   "source": [
    "#display columns before change\n",
    "star_wars.columns[3:9]"
   ]
  },
  {
   "cell_type": "code",
   "execution_count": 45,
   "metadata": {},
   "outputs": [],
   "source": [
    "#rename columns\n",
    "star_wars = star_wars.rename(columns={\n",
    "    \"Which of the following Star Wars films have you seen? Please select all that apply.\": \"seen_1\",\n",
    "    \"Unnamed: 4\" : 'seen_2',\n",
    "    \"Unnamed: 5\" : 'seen_3',\n",
    "    \"Unnamed: 6\" : 'seen_4',\n",
    "    'Unnamed: 7' : 'seen_5',\n",
    "    'Unnamed: 8' : 'seen_6'\n",
    "})"
   ]
  },
  {
   "cell_type": "code",
   "execution_count": 46,
   "metadata": {},
   "outputs": [
    {
     "data": {
      "text/html": [
       "<div>\n",
       "<style scoped>\n",
       "    .dataframe tbody tr th:only-of-type {\n",
       "        vertical-align: middle;\n",
       "    }\n",
       "\n",
       "    .dataframe tbody tr th {\n",
       "        vertical-align: top;\n",
       "    }\n",
       "\n",
       "    .dataframe thead th {\n",
       "        text-align: right;\n",
       "    }\n",
       "</style>\n",
       "<table border=\"1\" class=\"dataframe\">\n",
       "  <thead>\n",
       "    <tr style=\"text-align: right;\">\n",
       "      <th></th>\n",
       "      <th>RespondentID</th>\n",
       "      <th>Have you seen any of the 6 films in the Star Wars franchise?</th>\n",
       "      <th>Do you consider yourself to be a fan of the Star Wars film franchise?</th>\n",
       "      <th>seen_1</th>\n",
       "      <th>seen_2</th>\n",
       "      <th>seen_3</th>\n",
       "      <th>seen_4</th>\n",
       "      <th>seen_5</th>\n",
       "      <th>seen_6</th>\n",
       "      <th>Please rank the Star Wars films in order of preference with 1 being your favorite film in the franchise and 6 being your least favorite film.</th>\n",
       "      <th>...</th>\n",
       "      <th>Unnamed: 28</th>\n",
       "      <th>Which character shot first?</th>\n",
       "      <th>Are you familiar with the Expanded Universe?</th>\n",
       "      <th>Do you consider yourself to be a fan of the Expanded Universe?</th>\n",
       "      <th>Do you consider yourself to be a fan of the Star Trek franchise?</th>\n",
       "      <th>Gender</th>\n",
       "      <th>Age</th>\n",
       "      <th>Household Income</th>\n",
       "      <th>Education</th>\n",
       "      <th>Location (Census Region)</th>\n",
       "    </tr>\n",
       "  </thead>\n",
       "  <tbody>\n",
       "    <tr>\n",
       "      <th>0</th>\n",
       "      <td>3292879998</td>\n",
       "      <td>True</td>\n",
       "      <td>True</td>\n",
       "      <td>True</td>\n",
       "      <td>True</td>\n",
       "      <td>True</td>\n",
       "      <td>True</td>\n",
       "      <td>True</td>\n",
       "      <td>True</td>\n",
       "      <td>3.0</td>\n",
       "      <td>...</td>\n",
       "      <td>Very favorably</td>\n",
       "      <td>I don't understand this question</td>\n",
       "      <td>Yes</td>\n",
       "      <td>No</td>\n",
       "      <td>No</td>\n",
       "      <td>Male</td>\n",
       "      <td>18-29</td>\n",
       "      <td>NaN</td>\n",
       "      <td>High school degree</td>\n",
       "      <td>South Atlantic</td>\n",
       "    </tr>\n",
       "    <tr>\n",
       "      <th>1</th>\n",
       "      <td>3292879538</td>\n",
       "      <td>False</td>\n",
       "      <td>NaN</td>\n",
       "      <td>False</td>\n",
       "      <td>False</td>\n",
       "      <td>False</td>\n",
       "      <td>False</td>\n",
       "      <td>False</td>\n",
       "      <td>False</td>\n",
       "      <td>NaN</td>\n",
       "      <td>...</td>\n",
       "      <td>NaN</td>\n",
       "      <td>NaN</td>\n",
       "      <td>NaN</td>\n",
       "      <td>NaN</td>\n",
       "      <td>Yes</td>\n",
       "      <td>Male</td>\n",
       "      <td>18-29</td>\n",
       "      <td>$0 - $24,999</td>\n",
       "      <td>Bachelor degree</td>\n",
       "      <td>West South Central</td>\n",
       "    </tr>\n",
       "    <tr>\n",
       "      <th>2</th>\n",
       "      <td>3292765271</td>\n",
       "      <td>True</td>\n",
       "      <td>False</td>\n",
       "      <td>True</td>\n",
       "      <td>True</td>\n",
       "      <td>True</td>\n",
       "      <td>False</td>\n",
       "      <td>False</td>\n",
       "      <td>False</td>\n",
       "      <td>1.0</td>\n",
       "      <td>...</td>\n",
       "      <td>Unfamiliar (N/A)</td>\n",
       "      <td>I don't understand this question</td>\n",
       "      <td>No</td>\n",
       "      <td>NaN</td>\n",
       "      <td>No</td>\n",
       "      <td>Male</td>\n",
       "      <td>18-29</td>\n",
       "      <td>$0 - $24,999</td>\n",
       "      <td>High school degree</td>\n",
       "      <td>West North Central</td>\n",
       "    </tr>\n",
       "    <tr>\n",
       "      <th>3</th>\n",
       "      <td>3292763116</td>\n",
       "      <td>True</td>\n",
       "      <td>True</td>\n",
       "      <td>True</td>\n",
       "      <td>True</td>\n",
       "      <td>True</td>\n",
       "      <td>True</td>\n",
       "      <td>True</td>\n",
       "      <td>True</td>\n",
       "      <td>5.0</td>\n",
       "      <td>...</td>\n",
       "      <td>Very favorably</td>\n",
       "      <td>I don't understand this question</td>\n",
       "      <td>No</td>\n",
       "      <td>NaN</td>\n",
       "      <td>Yes</td>\n",
       "      <td>Male</td>\n",
       "      <td>18-29</td>\n",
       "      <td>$100,000 - $149,999</td>\n",
       "      <td>Some college or Associate degree</td>\n",
       "      <td>West North Central</td>\n",
       "    </tr>\n",
       "    <tr>\n",
       "      <th>4</th>\n",
       "      <td>3292731220</td>\n",
       "      <td>True</td>\n",
       "      <td>True</td>\n",
       "      <td>True</td>\n",
       "      <td>True</td>\n",
       "      <td>True</td>\n",
       "      <td>True</td>\n",
       "      <td>True</td>\n",
       "      <td>True</td>\n",
       "      <td>5.0</td>\n",
       "      <td>...</td>\n",
       "      <td>Somewhat favorably</td>\n",
       "      <td>Greedo</td>\n",
       "      <td>Yes</td>\n",
       "      <td>No</td>\n",
       "      <td>No</td>\n",
       "      <td>Male</td>\n",
       "      <td>18-29</td>\n",
       "      <td>$100,000 - $149,999</td>\n",
       "      <td>Some college or Associate degree</td>\n",
       "      <td>West North Central</td>\n",
       "    </tr>\n",
       "  </tbody>\n",
       "</table>\n",
       "<p>5 rows × 38 columns</p>\n",
       "</div>"
      ],
      "text/plain": [
       "   RespondentID  Have you seen any of the 6 films in the Star Wars franchise?  \\\n",
       "0    3292879998                                               True              \n",
       "1    3292879538                                              False              \n",
       "2    3292765271                                               True              \n",
       "3    3292763116                                               True              \n",
       "4    3292731220                                               True              \n",
       "\n",
       "  Do you consider yourself to be a fan of the Star Wars film franchise?  \\\n",
       "0                                               True                      \n",
       "1                                                NaN                      \n",
       "2                                              False                      \n",
       "3                                               True                      \n",
       "4                                               True                      \n",
       "\n",
       "   seen_1  seen_2  seen_3  seen_4  seen_5  seen_6  \\\n",
       "0    True    True    True    True    True    True   \n",
       "1   False   False   False   False   False   False   \n",
       "2    True    True    True   False   False   False   \n",
       "3    True    True    True    True    True    True   \n",
       "4    True    True    True    True    True    True   \n",
       "\n",
       "   Please rank the Star Wars films in order of preference with 1 being your favorite film in the franchise and 6 being your least favorite film.  \\\n",
       "0                                                3.0                                                                                               \n",
       "1                                                NaN                                                                                               \n",
       "2                                                1.0                                                                                               \n",
       "3                                                5.0                                                                                               \n",
       "4                                                5.0                                                                                               \n",
       "\n",
       "   ...         Unnamed: 28       Which character shot first?  \\\n",
       "0  ...      Very favorably  I don't understand this question   \n",
       "1  ...                 NaN                               NaN   \n",
       "2  ...    Unfamiliar (N/A)  I don't understand this question   \n",
       "3  ...      Very favorably  I don't understand this question   \n",
       "4  ...  Somewhat favorably                            Greedo   \n",
       "\n",
       "   Are you familiar with the Expanded Universe?  \\\n",
       "0                                           Yes   \n",
       "1                                           NaN   \n",
       "2                                            No   \n",
       "3                                            No   \n",
       "4                                           Yes   \n",
       "\n",
       "   Do you consider yourself to be a fan of the Expanded Universe?  \\\n",
       "0                                                 No                \n",
       "1                                                NaN                \n",
       "2                                                NaN                \n",
       "3                                                NaN                \n",
       "4                                                 No                \n",
       "\n",
       "   Do you consider yourself to be a fan of the Star Trek franchise? Gender  \\\n",
       "0                                                 No                  Male   \n",
       "1                                                Yes                  Male   \n",
       "2                                                 No                  Male   \n",
       "3                                                Yes                  Male   \n",
       "4                                                 No                  Male   \n",
       "\n",
       "     Age     Household Income                         Education  \\\n",
       "0  18-29                  NaN                High school degree   \n",
       "1  18-29         $0 - $24,999                   Bachelor degree   \n",
       "2  18-29         $0 - $24,999                High school degree   \n",
       "3  18-29  $100,000 - $149,999  Some college or Associate degree   \n",
       "4  18-29  $100,000 - $149,999  Some college or Associate degree   \n",
       "\n",
       "  Location (Census Region)  \n",
       "0           South Atlantic  \n",
       "1       West South Central  \n",
       "2       West North Central  \n",
       "3       West North Central  \n",
       "4       West North Central  \n",
       "\n",
       "[5 rows x 38 columns]"
      ]
     },
     "execution_count": 46,
     "metadata": {},
     "output_type": "execute_result"
    }
   ],
   "source": [
    "#display data set after changes\n",
    "star_wars.head()"
   ]
  },
  {
   "cell_type": "markdown",
   "metadata": {},
   "source": [
    "## Cleaning the Ranking Columns\n",
    "\n",
    "Our next 6 columns are:\n",
    "\n",
    "| Column | Description |\n",
    "| :----------- | ----------- |\n",
    "| Please rank the Star Wars films in order of preference with 1 being your favorite film in the franchise and 6 being your least favorite film. | How much the respondent liked **Star Wars: Episode I The Phantom Menace** |\n",
    "| Unnamed: 10 | How much the respondent liked **Star Wars: Episode II Attack of the Clones** |\n",
    "| Unnamed: 11 | How much the respondent liked **Star Wars: Episode III Revenge of the Sith** |\n",
    "| Unnamed: 12 | How much the respondent liked **Star Wars: Episode IV A New Hope** |\n",
    "| Unnamed: 13 | How much the respondent liked **Star Wars: Episode V The Empire Strikes Back** |\n",
    "| Unnamed: 14 | How much the respondent liked **Star Wars: Episode VI Return of the Jedi** |\n",
    "\n",
    "Columns above ask the respondent to rank the Star Wars movies in order of least favorite to most favorite. `1` means the film was the most favorite, and `6` means it was the least favorite.\n",
    "\n",
    "First, we'll convert each of the columns above to `float` type. Then we'll change column names."
   ]
  },
  {
   "cell_type": "code",
   "execution_count": 47,
   "metadata": {},
   "outputs": [],
   "source": [
    "#converting each column to float type\n",
    "star_wars[star_wars.columns[9:15]] = star_wars[star_wars.columns[9:15]].astype(float)"
   ]
  },
  {
   "cell_type": "code",
   "execution_count": 48,
   "metadata": {},
   "outputs": [],
   "source": [
    "#rename each column\n",
    "star_wars = star_wars.rename(columns={\n",
    "            'Please rank the Star Wars films in order of preference with 1 being your favorite film in the franchise and 6 being your least favorite film.' : 'ranking_1',\n",
    "            'Unnamed: 10' : 'ranking_2',\n",
    "            'Unnamed: 11' : 'ranking_3',\n",
    "            'Unnamed: 12' : 'ranking_4',\n",
    "            'Unnamed: 13' : 'ranking_5',\n",
    "            'Unnamed: 14' : 'ranking_6'\n",
    "})"
   ]
  },
  {
   "cell_type": "code",
   "execution_count": 49,
   "metadata": {},
   "outputs": [
    {
     "data": {
      "text/html": [
       "<div>\n",
       "<style scoped>\n",
       "    .dataframe tbody tr th:only-of-type {\n",
       "        vertical-align: middle;\n",
       "    }\n",
       "\n",
       "    .dataframe tbody tr th {\n",
       "        vertical-align: top;\n",
       "    }\n",
       "\n",
       "    .dataframe thead th {\n",
       "        text-align: right;\n",
       "    }\n",
       "</style>\n",
       "<table border=\"1\" class=\"dataframe\">\n",
       "  <thead>\n",
       "    <tr style=\"text-align: right;\">\n",
       "      <th></th>\n",
       "      <th>RespondentID</th>\n",
       "      <th>Have you seen any of the 6 films in the Star Wars franchise?</th>\n",
       "      <th>Do you consider yourself to be a fan of the Star Wars film franchise?</th>\n",
       "      <th>seen_1</th>\n",
       "      <th>seen_2</th>\n",
       "      <th>seen_3</th>\n",
       "      <th>seen_4</th>\n",
       "      <th>seen_5</th>\n",
       "      <th>seen_6</th>\n",
       "      <th>ranking_1</th>\n",
       "      <th>...</th>\n",
       "      <th>Unnamed: 28</th>\n",
       "      <th>Which character shot first?</th>\n",
       "      <th>Are you familiar with the Expanded Universe?</th>\n",
       "      <th>Do you consider yourself to be a fan of the Expanded Universe?</th>\n",
       "      <th>Do you consider yourself to be a fan of the Star Trek franchise?</th>\n",
       "      <th>Gender</th>\n",
       "      <th>Age</th>\n",
       "      <th>Household Income</th>\n",
       "      <th>Education</th>\n",
       "      <th>Location (Census Region)</th>\n",
       "    </tr>\n",
       "  </thead>\n",
       "  <tbody>\n",
       "    <tr>\n",
       "      <th>0</th>\n",
       "      <td>3292879998</td>\n",
       "      <td>True</td>\n",
       "      <td>True</td>\n",
       "      <td>True</td>\n",
       "      <td>True</td>\n",
       "      <td>True</td>\n",
       "      <td>True</td>\n",
       "      <td>True</td>\n",
       "      <td>True</td>\n",
       "      <td>3.0</td>\n",
       "      <td>...</td>\n",
       "      <td>Very favorably</td>\n",
       "      <td>I don't understand this question</td>\n",
       "      <td>Yes</td>\n",
       "      <td>No</td>\n",
       "      <td>No</td>\n",
       "      <td>Male</td>\n",
       "      <td>18-29</td>\n",
       "      <td>NaN</td>\n",
       "      <td>High school degree</td>\n",
       "      <td>South Atlantic</td>\n",
       "    </tr>\n",
       "    <tr>\n",
       "      <th>1</th>\n",
       "      <td>3292879538</td>\n",
       "      <td>False</td>\n",
       "      <td>NaN</td>\n",
       "      <td>False</td>\n",
       "      <td>False</td>\n",
       "      <td>False</td>\n",
       "      <td>False</td>\n",
       "      <td>False</td>\n",
       "      <td>False</td>\n",
       "      <td>NaN</td>\n",
       "      <td>...</td>\n",
       "      <td>NaN</td>\n",
       "      <td>NaN</td>\n",
       "      <td>NaN</td>\n",
       "      <td>NaN</td>\n",
       "      <td>Yes</td>\n",
       "      <td>Male</td>\n",
       "      <td>18-29</td>\n",
       "      <td>$0 - $24,999</td>\n",
       "      <td>Bachelor degree</td>\n",
       "      <td>West South Central</td>\n",
       "    </tr>\n",
       "    <tr>\n",
       "      <th>2</th>\n",
       "      <td>3292765271</td>\n",
       "      <td>True</td>\n",
       "      <td>False</td>\n",
       "      <td>True</td>\n",
       "      <td>True</td>\n",
       "      <td>True</td>\n",
       "      <td>False</td>\n",
       "      <td>False</td>\n",
       "      <td>False</td>\n",
       "      <td>1.0</td>\n",
       "      <td>...</td>\n",
       "      <td>Unfamiliar (N/A)</td>\n",
       "      <td>I don't understand this question</td>\n",
       "      <td>No</td>\n",
       "      <td>NaN</td>\n",
       "      <td>No</td>\n",
       "      <td>Male</td>\n",
       "      <td>18-29</td>\n",
       "      <td>$0 - $24,999</td>\n",
       "      <td>High school degree</td>\n",
       "      <td>West North Central</td>\n",
       "    </tr>\n",
       "    <tr>\n",
       "      <th>3</th>\n",
       "      <td>3292763116</td>\n",
       "      <td>True</td>\n",
       "      <td>True</td>\n",
       "      <td>True</td>\n",
       "      <td>True</td>\n",
       "      <td>True</td>\n",
       "      <td>True</td>\n",
       "      <td>True</td>\n",
       "      <td>True</td>\n",
       "      <td>5.0</td>\n",
       "      <td>...</td>\n",
       "      <td>Very favorably</td>\n",
       "      <td>I don't understand this question</td>\n",
       "      <td>No</td>\n",
       "      <td>NaN</td>\n",
       "      <td>Yes</td>\n",
       "      <td>Male</td>\n",
       "      <td>18-29</td>\n",
       "      <td>$100,000 - $149,999</td>\n",
       "      <td>Some college or Associate degree</td>\n",
       "      <td>West North Central</td>\n",
       "    </tr>\n",
       "    <tr>\n",
       "      <th>4</th>\n",
       "      <td>3292731220</td>\n",
       "      <td>True</td>\n",
       "      <td>True</td>\n",
       "      <td>True</td>\n",
       "      <td>True</td>\n",
       "      <td>True</td>\n",
       "      <td>True</td>\n",
       "      <td>True</td>\n",
       "      <td>True</td>\n",
       "      <td>5.0</td>\n",
       "      <td>...</td>\n",
       "      <td>Somewhat favorably</td>\n",
       "      <td>Greedo</td>\n",
       "      <td>Yes</td>\n",
       "      <td>No</td>\n",
       "      <td>No</td>\n",
       "      <td>Male</td>\n",
       "      <td>18-29</td>\n",
       "      <td>$100,000 - $149,999</td>\n",
       "      <td>Some college or Associate degree</td>\n",
       "      <td>West North Central</td>\n",
       "    </tr>\n",
       "  </tbody>\n",
       "</table>\n",
       "<p>5 rows × 38 columns</p>\n",
       "</div>"
      ],
      "text/plain": [
       "   RespondentID  Have you seen any of the 6 films in the Star Wars franchise?  \\\n",
       "0    3292879998                                               True              \n",
       "1    3292879538                                              False              \n",
       "2    3292765271                                               True              \n",
       "3    3292763116                                               True              \n",
       "4    3292731220                                               True              \n",
       "\n",
       "  Do you consider yourself to be a fan of the Star Wars film franchise?  \\\n",
       "0                                               True                      \n",
       "1                                                NaN                      \n",
       "2                                              False                      \n",
       "3                                               True                      \n",
       "4                                               True                      \n",
       "\n",
       "   seen_1  seen_2  seen_3  seen_4  seen_5  seen_6  ranking_1  ...  \\\n",
       "0    True    True    True    True    True    True        3.0  ...   \n",
       "1   False   False   False   False   False   False        NaN  ...   \n",
       "2    True    True    True   False   False   False        1.0  ...   \n",
       "3    True    True    True    True    True    True        5.0  ...   \n",
       "4    True    True    True    True    True    True        5.0  ...   \n",
       "\n",
       "          Unnamed: 28       Which character shot first?  \\\n",
       "0      Very favorably  I don't understand this question   \n",
       "1                 NaN                               NaN   \n",
       "2    Unfamiliar (N/A)  I don't understand this question   \n",
       "3      Very favorably  I don't understand this question   \n",
       "4  Somewhat favorably                            Greedo   \n",
       "\n",
       "   Are you familiar with the Expanded Universe?  \\\n",
       "0                                           Yes   \n",
       "1                                           NaN   \n",
       "2                                            No   \n",
       "3                                            No   \n",
       "4                                           Yes   \n",
       "\n",
       "   Do you consider yourself to be a fan of the Expanded Universe?  \\\n",
       "0                                                 No                \n",
       "1                                                NaN                \n",
       "2                                                NaN                \n",
       "3                                                NaN                \n",
       "4                                                 No                \n",
       "\n",
       "   Do you consider yourself to be a fan of the Star Trek franchise? Gender  \\\n",
       "0                                                 No                  Male   \n",
       "1                                                Yes                  Male   \n",
       "2                                                 No                  Male   \n",
       "3                                                Yes                  Male   \n",
       "4                                                 No                  Male   \n",
       "\n",
       "     Age     Household Income                         Education  \\\n",
       "0  18-29                  NaN                High school degree   \n",
       "1  18-29         $0 - $24,999                   Bachelor degree   \n",
       "2  18-29         $0 - $24,999                High school degree   \n",
       "3  18-29  $100,000 - $149,999  Some college or Associate degree   \n",
       "4  18-29  $100,000 - $149,999  Some college or Associate degree   \n",
       "\n",
       "  Location (Census Region)  \n",
       "0           South Atlantic  \n",
       "1       West South Central  \n",
       "2       West North Central  \n",
       "3       West North Central  \n",
       "4       West North Central  \n",
       "\n",
       "[5 rows x 38 columns]"
      ]
     },
     "execution_count": 49,
     "metadata": {},
     "output_type": "execute_result"
    }
   ],
   "source": [
    "#display data set after changes\n",
    "star_wars.head()"
   ]
  },
  {
   "cell_type": "markdown",
   "metadata": {},
   "source": [
    "## Finding the Highest-Ranked Movie\n",
    "\n",
    "Now, having numeric type columns, we can count the mean of each ranking column to check what part of Star Wars movie is highest-rated."
   ]
  },
  {
   "cell_type": "code",
   "execution_count": 50,
   "metadata": {
    "scrolled": true
   },
   "outputs": [
    {
     "data": {
      "text/plain": [
       "<matplotlib.axes._subplots.AxesSubplot at 0x7fe54e52b370>"
      ]
     },
     "execution_count": 50,
     "metadata": {},
     "output_type": "execute_result"
    },
    {
     "data": {
      "image/png": "[encoded data removed]",
      "text/plain": [
       "<Figure size 600x400 with 1 Axes>"
      ]
     },
     "metadata": {},
     "output_type": "display_data"
    }
   ],
   "source": [
    "#count the average of each ranking column\n",
    "movie_ranking_avg = star_wars[star_wars.columns[9:15]].mean()\n",
    "#set to display plot in Jupyter\n",
    "%matplotlib inline \n",
    "#create bar plot\n",
    "movie_ranking_avg.plot.bar(rot=45)"
   ]
  },
  {
   "cell_type": "markdown",
   "metadata": {},
   "source": [
    "Looking at bar plot above, we see that highest average score (around 2.5) received `ranking_5` column which means **Star Wars: Episode V The Empire Strikes Back**. For the record, the lowest score the better movie was for respondent. \n",
    "\n",
    "Films: **Star Wars: Episode IV A New Hope** and **Star Wars: Episode VI Return of the Jedi** got also high marks - (both around 3.0). Whereas, **Episode I The Phantom Menace**, **Episode II Attack of the Clones** and **Episode III Revenge of the Sith** have been the lowest-rated. Part III got the worst score - over 4.0.\n",
    "\n",
    "Why respodents have choosen movies like this? When we check chronology of film releases [click here]('https://pl.wikipedia.org/wiki/Gwiezdne_wojny#Filmy'), we found that Episodes IV, V and VI were released much earlier than 3 others. Moreover, Episode III, which was released the latest, in 2005 got the worst score. Is that so means that respodents have higher fondness for olders Episodes?"
   ]
  },
  {
   "cell_type": "markdown",
   "metadata": {},
   "source": [
    "## Finding the Most Viewed Movie\n",
    "\n",
    "We can also count number of total views each Episode based on `seen` columns."
   ]
  },
  {
   "cell_type": "code",
   "execution_count": 51,
   "metadata": {
    "scrolled": true
   },
   "outputs": [
    {
     "data": {
      "text/plain": [
       "<matplotlib.axes._subplots.AxesSubplot at 0x7fe54e43e370>"
      ]
     },
     "execution_count": 51,
     "metadata": {},
     "output_type": "execute_result"
    },
    {
     "data": {
      "image/png": "[encoded data removed]",
      "text/plain": [
       "<Figure size 600x400 with 1 Axes>"
      ]
     },
     "metadata": {},
     "output_type": "display_data"
    }
   ],
   "source": [
    "#sum all rows in seen columns\n",
    "movie_views = star_wars[star_wars.columns[3:9]].sum()\n",
    "#create bar plot\n",
    "movie_views.plot.bar(rot=45)"
   ]
  },
  {
   "cell_type": "markdown",
   "metadata": {},
   "source": [
    "Surprisingly, we can see on plot above that **Episode V** and **VI** are most viewed movies. As we remeber, these parts of Star Wars movie received also the best average score, so we can observe some postive correaltion between ranking score and number of views. It may mean that respodents who didn't watch any Star Wars film before, could have been choosen the movie based on the ranking on Interent before. \n",
    "\n",
    "Episode III has been watached the least often, so it may have a connection with the lowest average score.\n",
    "\n",
    "The exception is **Episode I**, because it is also popular as part **V** and **VI** and got worse socre than **Episode IV**. However, if we think about it, respondents who never watch Star Wars, could also start from part **I**. Some of them Star Wars couldn't appealed and they'll not continue watching next Episodes. "
   ]
  },
  {
   "cell_type": "markdown",
   "metadata": {},
   "source": [
    "## Exploring the Data by Binary Segments\n",
    "\n",
    "### Gender\n",
    "\n",
    "We know which Star Wars Episodes received best score and which one was most popular. Now, let's investigate these criteria between males and females. First, we have to split dataframe into two groups based on `Gender` column. Then we'll able to count views and average ranking socre by each gender."
   ]
  },
  {
   "cell_type": "code",
   "execution_count": 52,
   "metadata": {
    "scrolled": false
   },
   "outputs": [],
   "source": [
    "#select rows with Males only\n",
    "males = star_wars[star_wars[\"Gender\"] == \"Male\"]\n",
    "#select rows with Females only\n",
    "females = star_wars[star_wars[\"Gender\"] == \"Female\"]\n",
    "\n",
    "#count avg ranking score by Males\n",
    "movie_avg_score_males = males[males.columns[9:15]].mean()\n",
    "#count avg ranking score by Females\n",
    "movie_avg_score_females = females[females.columns[9:15]].mean()\n",
    "\n",
    "#count views by Males\n",
    "movie_views_males = males[males.columns[3:9]].sum()\n",
    "#count views by Females\n",
    "movie_views_females = females[females.columns[3:9]].sum()"
   ]
  },
  {
   "cell_type": "code",
   "execution_count": 53,
   "metadata": {
    "scrolled": true
   },
   "outputs": [
    {
     "data": {
      "image/png": "[encoded data removed]",
      "text/plain": [
       "<Figure size 600x400 with 1 Axes>"
      ]
     },
     "metadata": {},
     "output_type": "display_data"
    }
   ],
   "source": [
    "#combine 3 series with avg score ranking \n",
    "males_vs_females_ranking = (pd.concat([movie_avg_score_males, movie_avg_score_females, movie_ranking_avg], axis=1).\n",
    "                        rename({0 : 'Males', 1: 'Females', 2 :'Total'}, axis=1)) #change column names from default values\n",
    "#create bar plot\n",
    "males_vs_females_ranking.plot.bar(rot=45)\n",
    "plt.title('Males vs Females each Episode average ranking score')\n",
    "plt.show()"
   ]
  },
  {
   "cell_type": "markdown",
   "metadata": {},
   "source": [
    "There is no any significant pattern, but we may spot feamles rate Episodes IV, V and VI which generally are the best, a little worse than Males. The biggest difference is in Episode I, where Females rated on around 3.3 score and males - 4.0."
   ]
  },
  {
   "cell_type": "code",
   "execution_count": 54,
   "metadata": {
    "scrolled": true
   },
   "outputs": [
    {
     "data": {
      "image/png": "[encoded data removed]",
      "text/plain": [
       "<Figure size 600x400 with 1 Axes>"
      ]
     },
     "metadata": {},
     "output_type": "display_data"
    }
   ],
   "source": [
    "#combine 3 series with views\n",
    "males_vs_females_views = (pd.concat([movie_views_males, movie_views_females, movie_views], axis=1).\n",
    "                  rename({0 : 'Males', 1: 'Females', 2 :'Total'}, axis=1)) #change column names from default values\n",
    "#create bar plot\n",
    "males_vs_females_views.plot.bar(rot=45)\n",
    "plt.title('Males vs. Females each Episode views')\n",
    "plt.ylim([0,950])\n",
    "plt.show()"
   ]
  },
  {
   "cell_type": "markdown",
   "metadata": {},
   "source": [
    "Looking at plot above, we may spot that males more often have been watched Star Wars than Females. Episode V which is the most popular and got the best score males and females watched it on simillar level, the difference is the lowest here. Whereas, the biggest difference is in Episode III. One of the reason could be a fact that girls suggest more about the movie ranking which can be found on the Internet than boys."
   ]
  },
  {
   "cell_type": "markdown",
   "metadata": {},
   "source": [
    "### Education \n",
    "\n",
    "Let's check `Education` column which contains information about education level of each respondent."
   ]
  },
  {
   "cell_type": "code",
   "execution_count": 55,
   "metadata": {
    "scrolled": true
   },
   "outputs": [
    {
     "data": {
      "text/plain": [
       "Some college or Associate degree    328\n",
       "Bachelor degree                     321\n",
       "Graduate degree                     275\n",
       "NaN                                 150\n",
       "High school degree                  105\n",
       "Less than high school degree          7\n",
       "Name: Education, dtype: int64"
      ]
     },
     "execution_count": 55,
     "metadata": {},
     "output_type": "execute_result"
    }
   ],
   "source": [
    "#check all values in Education column\n",
    "star_wars.Education.value_counts(dropna=False)"
   ]
  },
  {
   "cell_type": "markdown",
   "metadata": {},
   "source": [
    "There is many `NaN` values, so we also want it to show on our plot. We'll change `NaN` value on `Not specified` to have better view."
   ]
  },
  {
   "cell_type": "code",
   "execution_count": 56,
   "metadata": {},
   "outputs": [
    {
     "name": "stdout",
     "output_type": "stream",
     "text": [
      "Some college or Associate degree    328\n",
      "Bachelor degree                     321\n",
      "Graduate degree                     275\n",
      "Not specified                       150\n",
      "High school degree                  105\n",
      "Less than high school degree          7\n",
      "Name: Education, dtype: int64\n"
     ]
    }
   ],
   "source": [
    "#create dictionary  \n",
    "nan = {np.nan : 'Not specified'}\n",
    "#replace nan values \n",
    "star_wars['Education'] = star_wars['Education'].replace(nan)\n",
    "\n",
    "print(star_wars.Education.value_counts(dropna=False))"
   ]
  },
  {
   "cell_type": "code",
   "execution_count": 57,
   "metadata": {
    "scrolled": true
   },
   "outputs": [
    {
     "data": {
      "image/png": "[encoded data removed]",
      "text/plain": [
       "<Figure size 600x400 with 1 Axes>"
      ]
     },
     "metadata": {},
     "output_type": "display_data"
    }
   ],
   "source": [
    "#create plot with Education level\n",
    "education = star_wars.pivot_table(index='Education', \n",
    "                          values='Have you seen any of the 6 films in the Star Wars franchise?', \n",
    "                          aggfunc=np.sum\n",
    "                                 )\n",
    "education.plot.barh(legend=False)\n",
    "plt.title('At least one Epiosode of Star Wars or more watched per education level')\n",
    "plt.show()"
   ]
  },
  {
   "cell_type": "markdown",
   "metadata": {},
   "source": [
    "We may see that the most people who have seen any of Star Wars movie are well educated. They have:\n",
    "* `Bachelor degree`, \n",
    "* `Some collegae or Associate degree`,\n",
    "* `Graduate degree`.\n",
    "\n",
    "There are huge difference beetween people from groups above and people who have only High School degree or less. We don't want to jump to conclusions, so we'll need investigate `Age` column also and check age of each respondent."
   ]
  },
  {
   "cell_type": "markdown",
   "metadata": {},
   "source": [
    "## Location\n",
    "\n",
    "`Location (Census Region)` contains inforamtion about from which USA region respondent come from. "
   ]
  },
  {
   "cell_type": "code",
   "execution_count": 58,
   "metadata": {
    "scrolled": true
   },
   "outputs": [
    {
     "data": {
      "text/plain": [
       "East North Central    181\n",
       "Pacific               175\n",
       "South Atlantic        170\n",
       "NaN                   143\n",
       "Middle Atlantic       122\n",
       "West South Central    110\n",
       "West North Central     93\n",
       "Mountain               79\n",
       "New England            75\n",
       "East South Central     38\n",
       "Name: Location (Census Region), dtype: int64"
      ]
     },
     "execution_count": 58,
     "metadata": {},
     "output_type": "execute_result"
    }
   ],
   "source": [
    "#check all values in Location (Census Region) column\n",
    "star_wars['Location (Census Region)'].value_counts(dropna=False)"
   ]
  },
  {
   "cell_type": "markdown",
   "metadata": {},
   "source": [
    "Column above contain also many `NaN` values so we will replace them on `Not specified` again."
   ]
  },
  {
   "cell_type": "code",
   "execution_count": 59,
   "metadata": {
    "scrolled": true
   },
   "outputs": [
    {
     "name": "stdout",
     "output_type": "stream",
     "text": [
      "East North Central    181\n",
      "Pacific               175\n",
      "South Atlantic        170\n",
      "Not specified         143\n",
      "Middle Atlantic       122\n",
      "West South Central    110\n",
      "West North Central     93\n",
      "Mountain               79\n",
      "New England            75\n",
      "East South Central     38\n",
      "Name: Location (Census Region), dtype: int64\n"
     ]
    }
   ],
   "source": [
    "#replace nan values \n",
    "star_wars['Location (Census Region)'] = star_wars['Location (Census Region)'].replace(nan)\n",
    "print(star_wars['Location (Census Region)'].value_counts(dropna=False))"
   ]
  },
  {
   "cell_type": "code",
   "execution_count": 60,
   "metadata": {
    "scrolled": false
   },
   "outputs": [
    {
     "data": {
      "image/png": "[encoded data removed]",
      "text/plain": [
       "<Figure size 600x400 with 1 Axes>"
      ]
     },
     "metadata": {},
     "output_type": "display_data"
    }
   ],
   "source": [
    "#create plot with regions\n",
    "regions = star_wars.pivot_table(index='Location (Census Region)', \n",
    "                          values='Have you seen any of the 6 films in the Star Wars franchise?', \n",
    "                          aggfunc=np.sum\n",
    "                          )\n",
    "regions.plot.barh(legend=False)\n",
    "plt.title('At least one Epiosode of Star Wars or more watched per USA region')\n",
    "plt.show()"
   ]
  },
  {
   "cell_type": "markdown",
   "metadata": {},
   "source": [
    "People who most often watch any Star Wars movie usually come frome:\n",
    "\n",
    "* `Pacific`,\n",
    "* `South Atlantic`,\n",
    "* `East North Central`.\n",
    "\n",
    "People from East South Central watched Star Wars the least often."
   ]
  },
  {
   "cell_type": "markdown",
   "metadata": {},
   "source": [
    "## Age\n",
    "\n",
    "Previously, we checked Education level of each respondent who watch one or more Star Wars film. Now, we check `age` column."
   ]
  },
  {
   "cell_type": "code",
   "execution_count": 61,
   "metadata": {
    "scrolled": true
   },
   "outputs": [
    {
     "data": {
      "text/plain": [
       "45-60    291\n",
       "> 60     269\n",
       "30-44    268\n",
       "18-29    218\n",
       "NaN      140\n",
       "Name: Age, dtype: int64"
      ]
     },
     "execution_count": 61,
     "metadata": {},
     "output_type": "execute_result"
    }
   ],
   "source": [
    "#check all values in Location (Census Region) column\n",
    "star_wars['Age'].value_counts(dropna=False)"
   ]
  },
  {
   "cell_type": "code",
   "execution_count": 62,
   "metadata": {
    "scrolled": false
   },
   "outputs": [
    {
     "data": {
      "image/png": "[encoded data removed]",
      "text/plain": [
       "<Figure size 600x400 with 1 Axes>"
      ]
     },
     "metadata": {},
     "output_type": "display_data"
    }
   ],
   "source": [
    "#group by age and count mean each column\n",
    "group_age_score = star_wars.groupby(['Age']).mean()\n",
    "#select only ranking column\n",
    "group_age_score = group_age_score[group_age_score.columns[8:15]]\n",
    "#create bar plot\n",
    "group_age_score.plot.bar(rot=45).legend(loc='center left',bbox_to_anchor=(1.0, 0.5)) #set legend outside the plot\n",
    "plt.title('Each Episode Ranking Score per age')\n",
    "plt.show()"
   ]
  },
  {
   "cell_type": "markdown",
   "metadata": {},
   "source": [
    "We can spot that people in age 30-44 rated Episodes IV - VI the best. Moreover, all gropus rated Episode III the worst execpt young people in age 18-29. Epiosed III was realise in 2005, so this is the newest film. Maybe, better special effects contributed to ranking improvement in that group."
   ]
  },
  {
   "cell_type": "code",
   "execution_count": 63,
   "metadata": {
    "scrolled": true
   },
   "outputs": [
    {
     "data": {
      "image/png": "[encoded data removed]",
      "text/plain": [
       "<Figure size 600x400 with 1 Axes>"
      ]
     },
     "metadata": {},
     "output_type": "display_data"
    }
   ],
   "source": [
    "#select columns age and seens\n",
    "group_age_views = star_wars[['Age', 'seen_1', 'seen_2', 'seen_3', 'seen_4', 'seen_5', 'seen_6']]\n",
    "#grop by age and count sum\n",
    "group_age_views = group_age_views.groupby(['Age']).sum()\n",
    "#create bar plot\n",
    "group_age_views.plot.bar(rot=45).legend(loc='center left',bbox_to_anchor=(1.0, 0.5))\n",
    "plt.title('Each Episode views per age')\n",
    "plt.show()"
   ]
  },
  {
   "cell_type": "code",
   "execution_count": 64,
   "metadata": {},
   "outputs": [
    {
     "data": {
      "image/png": "[encoded data removed]",
      "text/plain": [
       "<Figure size 600x400 with 1 Axes>"
      ]
     },
     "metadata": {},
     "output_type": "display_data"
    }
   ],
   "source": [
    "#sum all epioseds views per each age group\n",
    "sum_group_age_views = group_age_views.sum(axis=1)\n",
    "#create bar plot\n",
    "sum_group_age_views.plot.bar(rot=0)\n",
    "plt.title('Total views per age')\n",
    "plt.show()"
   ]
  },
  {
   "cell_type": "code",
   "execution_count": 65,
   "metadata": {
    "scrolled": true
   },
   "outputs": [
    {
     "data": {
      "image/png": "[encoded data removed]",
      "text/plain": [
       "<Figure size 600x400 with 1 Axes>"
      ]
     },
     "metadata": {},
     "output_type": "display_data"
    }
   ],
   "source": [
    "#pivot table to grop age and count sum at least one Epiosed watched\n",
    "age_pvt_table = star_wars.pivot_table(index='Age', \n",
    "                          values='Have you seen any of the 6 films in the Star Wars franchise?',  \n",
    "                          aggfunc=np.sum)\n",
    "#create bar plot                                 )\n",
    "age_pvt_table.plot.barh(legend=False)\n",
    "plt.title('At least one Epiosode of Star Wars or more watched per age')\n",
    "plt.show()"
   ]
  },
  {
   "cell_type": "markdown",
   "metadata": {},
   "source": [
    "Previously, we spot that people in age 30-44 rated Epiosodes IV-VI, but the most views part V and VI is made by people in 45-60s.\n",
    "\n",
    "However, youngest and the oldest people asnwered **YES** on question: `Have you seen any of the 6 films in the Star Wars franchise?` on similar level, but the youngest group who wateched 2 or more Episodes are much bigger (more than 100). Whereas respondents in age 30-44 have seen much often few Epiosodes than group in 45-60, beacuse total views is on the same level, but less people in 30-44 watched at least one part."
   ]
  },
  {
   "cell_type": "markdown",
   "metadata": {},
   "source": [
    "## Looking for most favourite and most dislike character\n",
    "\n",
    "In our dataset, respondents could marked which character from Star Wars like. Let's check what asnwers they had to choose first."
   ]
  },
  {
   "cell_type": "code",
   "execution_count": 66,
   "metadata": {
    "scrolled": true
   },
   "outputs": [
    {
     "name": "stdout",
     "output_type": "stream",
     "text": [
      "Please state whether you view the following characters favorably, unfavorably, or are unfamiliar with him/her.\n",
      "Very favorably                                 610\n",
      "NaN                                            357\n",
      "Somewhat favorably                             151\n",
      "Neither favorably nor unfavorably (neutral)     44\n",
      "Unfamiliar (N/A)                                15\n",
      "Somewhat unfavorably                             8\n",
      "Very unfavorably                                 1\n",
      "Name: Please state whether you view the following characters favorably, unfavorably, or are unfamiliar with him/her., dtype: int64\n",
      "\n",
      "\n",
      "Unnamed: 16\n",
      "Very favorably                                 552\n",
      "NaN                                            355\n",
      "Somewhat favorably                             219\n",
      "Neither favorably nor unfavorably (neutral)     38\n",
      "Somewhat unfavorably                            13\n",
      "Unfamiliar (N/A)                                 6\n",
      "Very unfavorably                                 3\n",
      "Name: Unnamed: 16, dtype: int64\n",
      "\n",
      "\n",
      "Unnamed: 17\n",
      "Very favorably                                 547\n",
      "NaN                                            355\n",
      "Somewhat favorably                             210\n",
      "Neither favorably nor unfavorably (neutral)     48\n",
      "Somewhat unfavorably                            12\n",
      "Unfamiliar (N/A)                                 8\n",
      "Very unfavorably                                 6\n",
      "Name: Unnamed: 17, dtype: int64\n",
      "\n",
      "\n",
      "Unnamed: 18\n",
      "NaN                                            363\n",
      "Somewhat favorably                             269\n",
      "Very favorably                                 245\n",
      "Neither favorably nor unfavorably (neutral)    135\n",
      "Somewhat unfavorably                            83\n",
      "Unfamiliar (N/A)                                52\n",
      "Very unfavorably                                39\n",
      "Name: Unnamed: 18, dtype: int64\n",
      "\n",
      "\n",
      "Unnamed: 19\n",
      "Very favorably                                 591\n",
      "NaN                                            361\n",
      "Somewhat favorably                             159\n",
      "Neither favorably nor unfavorably (neutral)     43\n",
      "Unfamiliar (N/A)                                17\n",
      "Somewhat unfavorably                             8\n",
      "Very unfavorably                                 7\n",
      "Name: Unnamed: 19, dtype: int64\n",
      "\n",
      "\n",
      "Unnamed: 20\n",
      "NaN                                            372\n",
      "Neither favorably nor unfavorably (neutral)    213\n",
      "Unfamiliar (N/A)                               156\n",
      "Somewhat favorably                             143\n",
      "Very unfavorably                               124\n",
      "Very favorably                                 110\n",
      "Somewhat unfavorably                            68\n",
      "Name: Unnamed: 20, dtype: int64\n",
      "\n",
      "\n",
      "Unnamed: 21\n",
      "NaN                                            360\n",
      "Very favorably                                 310\n",
      "Somewhat favorably                             171\n",
      "Very unfavorably                               149\n",
      "Somewhat unfavorably                           102\n",
      "Neither favorably nor unfavorably (neutral)     84\n",
      "Unfamiliar (N/A)                                10\n",
      "Name: Unnamed: 21, dtype: int64\n",
      "\n",
      "\n",
      "Unnamed: 22\n",
      "NaN                                            366\n",
      "Neither favorably nor unfavorably (neutral)    236\n",
      "Somewhat favorably                             223\n",
      "Unfamiliar (N/A)                               148\n",
      "Very favorably                                 142\n",
      "Somewhat unfavorably                            63\n",
      "Very unfavorably                                 8\n",
      "Name: Unnamed: 22, dtype: int64\n",
      "\n",
      "\n",
      "Unnamed: 23\n",
      "NaN                                            374\n",
      "Neither favorably nor unfavorably (neutral)    248\n",
      "Somewhat favorably                             153\n",
      "Very favorably                                 138\n",
      "Unfamiliar (N/A)                               132\n",
      "Somewhat unfavorably                            96\n",
      "Very unfavorably                                45\n",
      "Name: Unnamed: 23, dtype: int64\n",
      "\n",
      "\n",
      "Unnamed: 24\n",
      "Very favorably                                 474\n",
      "NaN                                            359\n",
      "Somewhat favorably                             229\n",
      "Neither favorably nor unfavorably (neutral)     79\n",
      "Somewhat unfavorably                            23\n",
      "Unfamiliar (N/A)                                15\n",
      "Very unfavorably                                 7\n",
      "Name: Unnamed: 24, dtype: int64\n",
      "\n",
      "\n",
      "Unnamed: 25\n",
      "Very favorably                                 562\n",
      "NaN                                            356\n",
      "Somewhat favorably                             185\n",
      "Neither favorably nor unfavorably (neutral)     57\n",
      "Unfamiliar (N/A)                                10\n",
      "Somewhat unfavorably                            10\n",
      "Very unfavorably                                 6\n",
      "Name: Unnamed: 25, dtype: int64\n",
      "\n",
      "\n",
      "Unnamed: 26\n",
      "NaN                                            365\n",
      "Very unfavorably                               204\n",
      "Neither favorably nor unfavorably (neutral)    164\n",
      "Somewhat favorably                             130\n",
      "Very favorably                                 112\n",
      "Unfamiliar (N/A)                               109\n",
      "Somewhat unfavorably                           102\n",
      "Name: Unnamed: 26, dtype: int64\n",
      "\n",
      "\n",
      "Unnamed: 27\n",
      "NaN                                            372\n",
      "Neither favorably nor unfavorably (neutral)    207\n",
      "Somewhat favorably                             183\n",
      "Very favorably                                 168\n",
      "Unfamiliar (N/A)                               164\n",
      "Somewhat unfavorably                            58\n",
      "Very unfavorably                                34\n",
      "Name: Unnamed: 27, dtype: int64\n",
      "\n",
      "\n",
      "Unnamed: 28\n",
      "Very favorably                                 605\n",
      "NaN                                            360\n",
      "Somewhat favorably                             144\n",
      "Neither favorably nor unfavorably (neutral)     51\n",
      "Unfamiliar (N/A)                                10\n",
      "Very unfavorably                                 8\n",
      "Somewhat unfavorably                             8\n",
      "Name: Unnamed: 28, dtype: int64\n",
      "\n",
      "\n"
     ]
    }
   ],
   "source": [
    "#Looking into columns 15-29\n",
    "character_cols = [15,16,17,18,19,20,21,22,23,24,25,26,27,28]\n",
    "\n",
    "for i in character_cols:\n",
    "    print (star_wars.columns[i])\n",
    "    print (star_wars[star_wars.columns[i]].value_counts(dropna=False))\n",
    "    print('\\n')"
   ]
  },
  {
   "cell_type": "markdown",
   "metadata": {},
   "source": [
    "As we can see, for each character respondents could marked 6 answers. Our aim is find who character is the most like and who is most dislike. We'll convert values: `Very favorably` and `Somewhat favorably` on **like**, wheras `Somewhat unfavorably` and `Very unfavorably` on **dislike** to simplify our analysys."
   ]
  },
  {
   "cell_type": "code",
   "execution_count": 67,
   "metadata": {
    "scrolled": false
   },
   "outputs": [
    {
     "name": "stdout",
     "output_type": "stream",
     "text": [
      "like          761\n",
      "Neutral        44\n",
      "Unfamiliar     15\n",
      "dislike         9\n",
      "Name: Han Solo, dtype: int64\n",
      "\n",
      "\n",
      "like          771\n",
      "Neutral        38\n",
      "dislike        16\n",
      "Unfamiliar      6\n",
      "Name: Luke Skywalker, dtype: int64\n",
      "\n",
      "\n",
      "like          757\n",
      "Neutral        48\n",
      "dislike        18\n",
      "Unfamiliar      8\n",
      "Name: Princess Leia Organa, dtype: int64\n",
      "\n",
      "\n",
      "like          514\n",
      "Neutral       135\n",
      "dislike       122\n",
      "Unfamiliar     52\n",
      "Name: Anakin Skywalker, dtype: int64\n",
      "\n",
      "\n",
      "like          750\n",
      "Neutral        43\n",
      "Unfamiliar     17\n",
      "dislike        15\n",
      "Name: Obi Wan Kenobi, dtype: int64\n",
      "\n",
      "\n",
      "like          253\n",
      "Neutral       213\n",
      "dislike       192\n",
      "Unfamiliar    156\n",
      "Name: Emperor Palpatine, dtype: int64\n",
      "\n",
      "\n",
      "like          481\n",
      "dislike       251\n",
      "Neutral        84\n",
      "Unfamiliar     10\n",
      "Name: Darth Vader, dtype: int64\n",
      "\n",
      "\n",
      "like          365\n",
      "Neutral       236\n",
      "Unfamiliar    148\n",
      "dislike        71\n",
      "Name: Lando Calrissian, dtype: int64\n",
      "\n",
      "\n",
      "like          291\n",
      "Neutral       248\n",
      "dislike       141\n",
      "Unfamiliar    132\n",
      "Name: Boba Fett, dtype: int64\n",
      "\n",
      "\n",
      "like          703\n",
      "Neutral        79\n",
      "dislike        30\n",
      "Unfamiliar     15\n",
      "Name: C-3P0, dtype: int64\n",
      "\n",
      "\n",
      "like          747\n",
      "Neutral        57\n",
      "dislike        16\n",
      "Unfamiliar     10\n",
      "Name: R2 D2, dtype: int64\n",
      "\n",
      "\n",
      "dislike       306\n",
      "like          242\n",
      "Neutral       164\n",
      "Unfamiliar    109\n",
      "Name: Jar Jar Binks, dtype: int64\n",
      "\n",
      "\n",
      "like          351\n",
      "Neutral       207\n",
      "Unfamiliar    164\n",
      "dislike        92\n",
      "Name: Padme Amidala, dtype: int64\n",
      "\n",
      "\n",
      "like          749\n",
      "Neutral        51\n",
      "dislike        16\n",
      "Unfamiliar     10\n",
      "Name: Yoda, dtype: int64\n",
      "\n",
      "\n"
     ]
    }
   ],
   "source": [
    "#Cleaning the answers for readability\n",
    "\n",
    "answer_map = {'Very favorably': 'like',\n",
    "             'Somewhat favorably': 'like',\n",
    "             'Neither favorably nor unfavorably (neutral)': 'Neutral',\n",
    "             'Somewhat unfavorably': 'dislike',\n",
    "             'Unfamiliar (N/A)': 'Unfamiliar',  \n",
    "              'Very unfavorably': 'dislike',\n",
    "            }\n",
    "\n",
    "\n",
    "#Names of each character was in column name at the end, but it was some problem to read them. \n",
    "#All names above has been copy from another projects Dataquest community\n",
    "\n",
    "\n",
    "#renaming column names\n",
    "char_map = {'Please state whether you view the following characters favorably, unfavorably, or are unfamiliar with him/her.': 'Han Solo',\n",
    "            'Unnamed: 16': 'Luke Skywalker',\n",
    "            'Unnamed: 17': 'Princess Leia Organa',\n",
    "            'Unnamed: 18': 'Anakin Skywalker',\n",
    "            'Unnamed: 19': 'Obi Wan Kenobi',\n",
    "            'Unnamed: 20': 'Emperor Palpatine',\n",
    "            'Unnamed: 21': 'Darth Vader',\n",
    "            'Unnamed: 22': 'Lando Calrissian',\n",
    "            'Unnamed: 23': 'Boba Fett',\n",
    "            'Unnamed: 24': 'C-3P0',\n",
    "            'Unnamed: 25': 'R2 D2',\n",
    "            'Unnamed: 26': 'Jar Jar Binks',\n",
    "            'Unnamed: 27': 'Padme Amidala',\n",
    "            'Unnamed: 28': 'Yoda'}\n",
    "#see after changes \n",
    "for i in character_cols:\n",
    "    star_wars[star_wars.columns[i]] = star_wars[star_wars.columns[i]].map(answer_map)\n",
    "    star_wars.rename(mapper=char_map, axis=1, inplace=True)\n",
    "    print(star_wars[star_wars.columns[i]].value_counts())\n",
    "    print('\\n')\n",
    " \n"
   ]
  },
  {
   "cell_type": "markdown",
   "metadata": {},
   "source": [
    "Now we are ready to compare the most like and dislake Star Wars character. Let's start from the most favourite one."
   ]
  },
  {
   "cell_type": "code",
   "execution_count": 68,
   "metadata": {
    "scrolled": false
   },
   "outputs": [
    {
     "name": "stdout",
     "output_type": "stream",
     "text": [
      "{'Han Solo': 761, 'Luke Skywalker': 771, 'Princess Leia Organa': 757, 'Anakin Skywalker': 514, 'Obi Wan Kenobi': 750, 'Emperor Palpatine': 253, 'Darth Vader': 481, 'Lando Calrissian': 365, 'Boba Fett': 291, 'C-3P0': 703, 'R2 D2': 747, 'Jar Jar Binks': 242, 'Padme Amidala': 351, 'Yoda': 749}\n"
     ]
    }
   ],
   "source": [
    "#create empty dict and loop over all columns contain like value \n",
    "char_like_dict = {}\n",
    "for col in star_wars.columns[15:29]:\n",
    "    char_like_dict[col] = len(star_wars[star_wars[col] == 'like']) #take all like values\n",
    " \n",
    "print(char_like_dict)"
   ]
  },
  {
   "cell_type": "code",
   "execution_count": 69,
   "metadata": {},
   "outputs": [
    {
     "data": {
      "text/plain": [
       "{'Solo': 761,\n",
       " 'Luke': 771,\n",
       " 'Leia': 757,\n",
       " 'Anakin': 514,\n",
       " 'Obi Wan': 750,\n",
       " 'Emperor': 253,\n",
       " 'Darth Vader': 481,\n",
       " 'Lando': 365,\n",
       " 'Boba': 291,\n",
       " 'C-3P0': 703,\n",
       " 'R2 D2': 747,\n",
       " 'Jar': 242,\n",
       " 'Amidala': 351,\n",
       " 'Yoda': 749}"
      ]
     },
     "execution_count": 69,
     "metadata": {},
     "output_type": "execute_result"
    }
   ],
   "source": [
    "#create list to short some of character names\n",
    "ini_list = ['Solo', 'Luke', 'Leia', 'Anakin', \n",
    "            'Obi Wan', 'Emperor', 'Darth Vader', \n",
    "            'Lando', 'Boba', 'C-3P0', 'R2 D2', \n",
    "            'Jar', 'Amidala', 'Yoda']\n",
    "#combaine list with values from char_like_dict and create final_like_dict\n",
    "final_like_dict = dict(zip(ini_list, list(char_like_dict.values())))\n",
    "final_like_dict"
   ]
  },
  {
   "cell_type": "code",
   "execution_count": 70,
   "metadata": {
    "scrolled": false
   },
   "outputs": [
    {
     "data": {
      "image/png": "[encoded data removed]",
      "text/plain": [
       "<Figure size 600x400 with 1 Axes>"
      ]
     },
     "metadata": {},
     "output_type": "display_data"
    }
   ],
   "source": [
    "#select keys from final_like_dict\n",
    "keys = final_like_dict.keys()\n",
    "#select values from final_like_dict\n",
    "values = final_like_dict.values()\n",
    "\n",
    "#create bar plot\n",
    "plt.bar(keys, values)\n",
    "plt.xticks(rotation=90)\n",
    "plt.title('Which character do you like?')\n",
    "plt.show()"
   ]
  },
  {
   "cell_type": "markdown",
   "metadata": {},
   "source": [
    "Looking at plot above respondents have been chosen following characters:\n",
    "\n",
    "* `Hans Solo`,\n",
    "* `Luke Skywalker`,\n",
    "* `Obi Wan Kenobi`,\n",
    "* `R2 D2`,\n",
    "* `Yoda`.\n",
    "\n",
    "Each character above got around 750 likes.\n",
    "\n",
    "Let's check who is most hated."
   ]
  },
  {
   "cell_type": "code",
   "execution_count": 71,
   "metadata": {
    "scrolled": true
   },
   "outputs": [
    {
     "name": "stdout",
     "output_type": "stream",
     "text": [
      "{'Han Solo': 9, 'Luke Skywalker': 16, 'Princess Leia Organa': 18, 'Anakin Skywalker': 122, 'Obi Wan Kenobi': 15, 'Emperor Palpatine': 192, 'Darth Vader': 251, 'Lando Calrissian': 71, 'Boba Fett': 141, 'C-3P0': 30, 'R2 D2': 16, 'Jar Jar Binks': 306, 'Padme Amidala': 92, 'Yoda': 16}\n",
      "{'Solo': 9, 'Luke': 16, 'Leia': 18, 'Anakin': 122, 'Obi Wan': 15, 'Emperor': 192, 'Darth Vader': 251, 'Lando': 71, 'Boba': 141, 'C-3P0': 30, 'R2 D2': 16, 'Jar': 306, 'Amidala': 92, 'Yoda': 16}\n"
     ]
    }
   ],
   "source": [
    "#create empty dict and loop over all columns contain dislike value \n",
    "char_dislike_dict = {}\n",
    "for col in star_wars.columns[15:29]:\n",
    "    char_dislike_dict[col] = len(star_wars[star_wars[col] == 'dislike'])\n",
    " \n",
    "print(char_dislike_dict)\n",
    "#combaine list with values from char_dislike_dict and create final_dislike_dict\n",
    "final_dislike_dict = dict(zip(ini_list, list(char_dislike_dict.values())))\n",
    "final_dislike_dict\n",
    "\n",
    "print(final_dislike_dict)"
   ]
  },
  {
   "cell_type": "code",
   "execution_count": 72,
   "metadata": {
    "scrolled": true
   },
   "outputs": [
    {
     "data": {
      "image/png": "[encoded data removed]",
      "text/plain": [
       "<Figure size 600x400 with 1 Axes>"
      ]
     },
     "metadata": {},
     "output_type": "display_data"
    }
   ],
   "source": [
    "keys = final_dislike_dict.keys()\n",
    "values = final_dislike_dict.values()\n",
    "\n",
    "#create bar plot\n",
    "plt.bar(keys, values)\n",
    "plt.xticks(rotation=90)\n",
    "plt.title('Which character do you dislike?')\n",
    "plt.show()"
   ]
  },
  {
   "cell_type": "markdown",
   "metadata": {},
   "source": [
    "`Jar Jar Binks` got the most votes on dislike (over 300). As we would expect `Dart Vader` and `Emperor Palpatine` are also not liked. However, as we compared number of votes for likes and dislikes, we see that respondents less often have chosen characters who hate. It could mean that, they prefer choose neutral position than aswerd that they don't like that hero.\n",
    "\n",
    "`Emperor Palpatine` is the most controversial character, because difference between likes (around 250) and dislikes (almost 200) is the smallest."
   ]
  },
  {
   "cell_type": "markdown",
   "metadata": {},
   "source": [
    "## Conclusion\n",
    "\n",
    "To sum up, we explored dataset of Star Wars survey. Below are our findings:\n",
    "\n",
    "* **\"Star Wars: Episode V The Empire Strikes Back\" is indeed the highest-ranked and the most viewed of all, both overall and by each investigated category of people: men and women, fans and non-fans**,\n",
    "* Star wars episode III Revenge of the Sith has either the worst score and the lowest number of views.\n",
    "* Episode I has the biggest difference in ranking score, where Females rated on around 3.3 and males - 4.0,\n",
    "* Well-educated people watched at least one part of Star Wars more often than people with High School degree or less,\n",
    "* People who most often watch any Star Wars movie usually come frome: Pacific, South Atlantic and East North Central,\n",
    "* Respondents in age 45-60 have seen a minimum one Episode the most often, whereas people in 18-29 and older than 60 the least,\n",
    "* The most favourite characters are: Hans Solo, Luke Skywalker, Obi Wan Kenobi, R2 D2 and Yoda,\n",
    "* The least favourite characters is Jar Jar Binks,\n",
    "* Respondents prefer to choose that they like or have neutral attitude to character than that they don't like him,\n",
    "* Emperor Palpatine is the most controversial characte "
   ]
  }
 ],
 "metadata": {
  "kernelspec": {
   "display_name": "Python 3",
   "language": "python",
   "name": "python3"
  },
  "language_info": {
   "codemirror_mode": {
    "name": "ipython",
    "version": 3
   },
   "file_extension": ".py",
   "mimetype": "text/x-python",
   "name": "python",
   "nbconvert_exporter": "python",
   "pygments_lexer": "ipython3",
   "version": "3.8.2"
  }
 },
 "nbformat": 4,
 "nbformat_minor": 1
}
